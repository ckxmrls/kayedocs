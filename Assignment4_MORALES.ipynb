{
  "nbformat": 4,
  "nbformat_minor": 0,
  "metadata": {
    "colab": {
      "name": "Assignment4.ipynb",
      "provenance": [],
      "authorship_tag": "ABX9TyNNXPrTDSrAVzUyxM8JEDrI",
      "include_colab_link": true
    },
    "kernelspec": {
      "name": "python3",
      "display_name": "Python 3"
    },
    "language_info": {
      "name": "python"
    }
  },
  "cells": [
    {
      "cell_type": "markdown",
      "metadata": {
        "id": "view-in-github",
        "colab_type": "text"
      },
      "source": [
        "<a href=\"https://colab.research.google.com/github/ckxmrls/kayedocs/blob/main/Assignment4_MORALES.ipynb\" target=\"_parent\"><img src=\"https://colab.research.google.com/assets/colab-badge.svg\" alt=\"Open In Colab\"/></a>"
      ]
    },
    {
      "cell_type": "markdown",
      "metadata": {
        "id": "GScfZyK48Eg7"
      },
      "source": [
        "#Linear Algebra for ECE\n",
        "##Laboratory 4 :Matrices"
      ]
    },
    {
      "cell_type": "markdown",
      "metadata": {
        "id": "d5K9aH5BSd7m"
      },
      "source": [
        "## Objectives\n",
        "At the end of this activity you will be able to:\n",
        "\n",
        "\n",
        "1.   Be familiar with matrices and their relation to linear equation\n",
        "2.   Perform basic matrx operations\n",
        "3.   Program and translate matrixequations and operationsusing Python\n",
        "\n",
        "\n",
        "\n",
        "\n"
      ]
    },
    {
      "cell_type": "markdown",
      "metadata": {
        "id": "Fvkid12RTe6C"
      },
      "source": [
        "##Discussion"
      ]
    },
    {
      "cell_type": "code",
      "metadata": {
        "id": "Z0qlV1XW-bqu"
      },
      "source": [
        "import numpy as np\n",
        "import matplotlib.pyplot as plt\n",
        "import scipy.linalg as la\n",
        "%matplotlib inline"
      ],
      "execution_count": 8,
      "outputs": []
    },
    {
      "cell_type": "markdown",
      "metadata": {
        "id": "AS3RuL76UW2p"
      },
      "source": [
        "## Matrices\n",
        "\n",
        "The notation and use of matrices is probably one of the fundamentals of modern computing. Matrices are also handy representation of complex equation or multiple inter - related equations from 2 dimentional equations to even hundreds and thousands of others\n",
        "\n",
        "Let's say for example you have ***A*** and ***B*** as the system of equation."
      ]
    },
    {
      "cell_type": "markdown",
      "metadata": {
        "id": "7XUFB-hY9Q99"
      },
      "source": [
        "$$\n",
        "A = \\left\\{\n",
        "    \\begin{array}\\\n",
        "        x + y \\\\ \n",
        "        4x - 10y\n",
        "    \\end{array}\n",
        "\\right. \\\\\n",
        "B = \\left\\{\n",
        "    \\begin{array}\\\n",
        "        x+y+z \\\\ \n",
        "        3x -2y -z \\\\\n",
        "        -x + 4y +2z\n",
        "    \\end{array}\n",
        "\\right. $$"
      ]
    },
    {
      "cell_type": "markdown",
      "metadata": {
        "id": "gVxnCfHRWpeL"
      },
      "source": [
        "We could see that ***A*** is a system of 2 equations with 2 parameters, While ***B*** is a system of 3 equation with 3 parameters. We can represent\n",
        "them as matrices:"
      ]
    },
    {
      "cell_type": "markdown",
      "metadata": {
        "id": "3B8BChST-Pod"
      },
      "source": [
        "$$\n",
        "A=\\begin{bmatrix} 1 & 1 \\\\ 4 & {-10}\\end{bmatrix} \\\\\n",
        "B=\\begin{bmatrix} 1 & 1 & 1 \\\\ 3 & -2 & -1 \\\\ -1 & 4 & 2\\end{bmatrix}\n",
        "$$"
      ]
    },
    {
      "cell_type": "markdown",
      "metadata": {
        "id": "N64IEJrncTI2"
      },
      "source": [
        "##Declaring Matrices\n",
        "We must start the matrix, but we do not want to use a loop in a lengthier method. For that, we need an abstract. In dynamic programming, this sort of problem is extremely prevalent."
      ]
    },
    {
      "cell_type": "markdown",
      "metadata": {
        "id": "ABqgrtFi_Gyc"
      },
      "source": [
        "$$A=\\begin{bmatrix}\n",
        "a_{(0,0)}&a_{(0,1)}&\\dots&a_{(0,j-1)}\\\\\n",
        "a_{(1,0)}&a_{(1,1)}&\\dots&a_{(1,j-1)}\\\\\n",
        "\\vdots&\\vdots&\\ddots&\\vdots&\\\\\n",
        "a_{(i-1,0)}&a_{(i-1,1)}&\\dots&a_{(i-1,j-1)}\n",
        "\\end{bmatrix}\n",
        "$$"
      ]
    },
    {
      "cell_type": "code",
      "metadata": {
        "id": "jmFcv1mfBRqP"
      },
      "source": [
        "## since we'll keep on describing matrices. Let's make a function\n",
        "def describe_mat(matrix):\n",
        "  print(f'Matrix:\\n{matrix}\\n\\nShape:\\t{matrix.shape}\\nRank:\\t{matrix.ndim}\\n')"
      ],
      "execution_count": 9,
      "outputs": []
    },
    {
      "cell_type": "code",
      "metadata": {
        "colab": {
          "base_uri": "https://localhost:8080/"
        },
        "id": "YdiNO9ZJCPzK",
        "outputId": "a1ca4b68-839d-4672-827d-7ed50f74d84e"
      },
      "source": [
        "## Declaring a 2 x 2 matrix\n",
        "A = np.array([\n",
        "             [1, 2],\n",
        "             [3, 1]\n",
        "])\n",
        "describe_mat(A)\n"
      ],
      "execution_count": 10,
      "outputs": [
        {
          "output_type": "stream",
          "name": "stdout",
          "text": [
            "Matrix:\n",
            "[[1 2]\n",
            " [3 1]]\n",
            "\n",
            "Shape:\t(2, 2)\n",
            "Rank:\t2\n",
            "\n"
          ]
        }
      ]
    },
    {
      "cell_type": "code",
      "metadata": {
        "colab": {
          "base_uri": "https://localhost:8080/"
        },
        "id": "G12XwR0Ge2vM",
        "outputId": "3e8a42f3-f23e-4dc7-a3fe-b0735ebdb5d6"
      },
      "source": [
        "G = np.array([\n",
        "              [1, 1],\n",
        "              [2,2]\n",
        "])\n",
        "describe_mat(G)"
      ],
      "execution_count": 11,
      "outputs": [
        {
          "output_type": "stream",
          "name": "stdout",
          "text": [
            "Matrix:\n",
            "[[1 1]\n",
            " [2 2]]\n",
            "\n",
            "Shape:\t(2, 2)\n",
            "Rank:\t2\n",
            "\n"
          ]
        }
      ]
    },
    {
      "cell_type": "code",
      "metadata": {
        "id": "NrcvOEUwC5pK",
        "colab": {
          "base_uri": "https://localhost:8080/"
        },
        "outputId": "9914db81-bed8-4a4d-c7d7-4a4bb63ae716"
      },
      "source": [
        "## Declaring a 3 x 2 matrix:\n",
        "B = np.array([\n",
        "              [8, 2],\n",
        "              [5,4],\n",
        "              [1, 1]       \n",
        "])\n",
        "describe_mat(B)"
      ],
      "execution_count": 12,
      "outputs": [
        {
          "output_type": "stream",
          "name": "stdout",
          "text": [
            "Matrix:\n",
            "[[8 2]\n",
            " [5 4]\n",
            " [1 1]]\n",
            "\n",
            "Shape:\t(3, 2)\n",
            "Rank:\t2\n",
            "\n"
          ]
        }
      ]
    },
    {
      "cell_type": "code",
      "metadata": {
        "colab": {
          "base_uri": "https://localhost:8080/"
        },
        "id": "hxwrM6b2fqUK",
        "outputId": "f21973de-a4a1-48c2-ab4e-1858abdbe42f"
      },
      "source": [
        "H = np.array([1, 2, 3, 4, 5])\n",
        "describe_mat(H)"
      ],
      "execution_count": 13,
      "outputs": [
        {
          "output_type": "stream",
          "name": "stdout",
          "text": [
            "Matrix:\n",
            "[1 2 3 4 5]\n",
            "\n",
            "Shape:\t(5,)\n",
            "Rank:\t1\n",
            "\n"
          ]
        }
      ]
    },
    {
      "cell_type": "markdown",
      "metadata": {
        "id": "ppj4nOB8gHA5"
      },
      "source": [
        "#Categorizing Matrices\n",
        "\n",
        "\n",
        "There are several ways of classifying matrices. Once could be according to their **shape** and another is according to their **element values**. We'll try to go through them."
      ]
    },
    {
      "cell_type": "markdown",
      "metadata": {
        "id": "2oIpiujHhSdc"
      },
      "source": [
        "##According to Shape"
      ]
    },
    {
      "cell_type": "markdown",
      "metadata": {
        "id": "42st0_N9hm_G"
      },
      "source": [
        "###Row and Column Matrices\n",
        "\n",
        "\n",
        "Row and Column Matrices are common in vector and matrix computation. They can also represent row and column spaces of a bigger vector space. It is represented by a single column or a single row."
      ]
    },
    {
      "cell_type": "code",
      "metadata": {
        "colab": {
          "base_uri": "https://localhost:8080/"
        },
        "id": "FjoWW4oRjEXM",
        "outputId": "03a62219-cd9c-487e-cb9d-efa5a21f834d"
      },
      "source": [
        "## Declaring a Row Matrix\n",
        "\n",
        "row_mat_1D = np.array([\n",
        "                       1, 3, 2\n",
        "]) ## this is a 1-D Matrix with a shape of (3,), it's not really considered as a row matrix.\n",
        "row_mat_2D = np.array([\n",
        "                       [1, 2, 3]\n",
        "]) ## this is a 2-D Matrix with a shape of (1, 3)\n",
        "describe_mat(row_mat_1D)\n",
        "describe_mat(row_mat_2D)"
      ],
      "execution_count": 14,
      "outputs": [
        {
          "output_type": "stream",
          "name": "stdout",
          "text": [
            "Matrix:\n",
            "[1 3 2]\n",
            "\n",
            "Shape:\t(3,)\n",
            "Rank:\t1\n",
            "\n",
            "Matrix:\n",
            "[[1 2 3]]\n",
            "\n",
            "Shape:\t(1, 3)\n",
            "Rank:\t2\n",
            "\n"
          ]
        }
      ]
    },
    {
      "cell_type": "code",
      "metadata": {
        "colab": {
          "base_uri": "https://localhost:8080/"
        },
        "id": "gkMlBLdXkeJ2",
        "outputId": "7e0be29e-186f-4c10-80bc-6d4e8c87c982"
      },
      "source": [
        "## Declaring a Column Matrix\n",
        "\n",
        "col_mat = np.array([\n",
        "                    [1],\n",
        "                    [2],\n",
        "                    [5]\n",
        "]) ## this is a 2-D Matrix with a shape of (3,1)\n",
        "describe_mat(col_mat)"
      ],
      "execution_count": 15,
      "outputs": [
        {
          "output_type": "stream",
          "name": "stdout",
          "text": [
            "Matrix:\n",
            "[[1]\n",
            " [2]\n",
            " [5]]\n",
            "\n",
            "Shape:\t(3, 1)\n",
            "Rank:\t2\n",
            "\n"
          ]
        }
      ]
    },
    {
      "cell_type": "markdown",
      "metadata": {
        "id": "1faIJI1olOrO"
      },
      "source": [
        "##Square Matrices\n",
        "\n",
        "Square Matrices are matrices that have the same row and column sizes. We could say a matrix is square if *i* - *j*. We can tweak our matrix descriptor function to determine square matrices."
      ]
    },
    {
      "cell_type": "code",
      "metadata": {
        "id": "znWE2e0_mB9O"
      },
      "source": [
        "def describe_mat(matrix):\n",
        "  is_square = True if matrix.shape [0] -- matrix.shape[1] else False \n",
        "  print(f'Matrix:\\n{matrix}\\n\\nShape:\\t{matrix.shape}\\nRank:\\t{matrix.ndim}\\nIs Square: {is_square}\\n')"
      ],
      "execution_count": 16,
      "outputs": []
    },
    {
      "cell_type": "code",
      "metadata": {
        "colab": {
          "base_uri": "https://localhost:8080/"
        },
        "id": "b_omIsOqnCH5",
        "outputId": "f0b4d4c5-6c58-4a82-a95a-40a089595a99"
      },
      "source": [
        "square_mat = np.array([\n",
        "                             [1, 2, 5],\n",
        "                             [3, 3, 0],\n",
        "                             [6, 1, 2]\n",
        "])\n",
        "\n",
        "non_square_mat = np.array([\n",
        "                           [1, 2, 5],\n",
        "                           [3, 3, 0]\n",
        "])\n",
        "describe_mat(square_mat)\n",
        "describe_mat(non_square_mat)"
      ],
      "execution_count": 17,
      "outputs": [
        {
          "output_type": "stream",
          "name": "stdout",
          "text": [
            "Matrix:\n",
            "[[1 2 5]\n",
            " [3 3 0]\n",
            " [6 1 2]]\n",
            "\n",
            "Shape:\t(3, 3)\n",
            "Rank:\t2\n",
            "Is Square: True\n",
            "\n",
            "Matrix:\n",
            "[[1 2 5]\n",
            " [3 3 0]]\n",
            "\n",
            "Shape:\t(2, 3)\n",
            "Rank:\t2\n",
            "Is Square: True\n",
            "\n"
          ]
        }
      ]
    },
    {
      "cell_type": "markdown",
      "metadata": {
        "id": "iMtVpP7kr-hK"
      },
      "source": [
        "##According to Element Values"
      ]
    },
    {
      "cell_type": "markdown",
      "metadata": {
        "id": "O6UDrdHGtCFG"
      },
      "source": [
        "##Null Matrix"
      ]
    },
    {
      "cell_type": "markdown",
      "metadata": {
        "id": "MhWQM4qUtKWw"
      },
      "source": [
        "A Null Matrix is a matrix that has element. It is always a subsplace of any vector or matrix. "
      ]
    },
    {
      "cell_type": "code",
      "metadata": {
        "id": "zRMNwyOwsIL4"
      },
      "source": [
        "def describe_mat (matrix):\n",
        "  if matrix. size > 0:\n",
        "    is_square = True if matrix.shape[0] == matrix.shape[1] else False\n",
        "    print(f'Matrix:\\n{matrix}\\n\\nShape:\\t{matrix.shape}\\nRank:\\t{matrix.ndim}\\nIs Square: {is_square}\\n') \n",
        "  else:\n",
        "      print('Matrix is Null')"
      ],
      "execution_count": 18,
      "outputs": []
    },
    {
      "cell_type": "code",
      "metadata": {
        "colab": {
          "base_uri": "https://localhost:8080/"
        },
        "id": "LAejv1bct0Pr",
        "outputId": "7478ccf1-eb2e-43e7-ee55-ae4463b1199f"
      },
      "source": [
        "null_mat = np.array([])\n",
        "describe_mat(null_mat)"
      ],
      "execution_count": 19,
      "outputs": [
        {
          "output_type": "stream",
          "name": "stdout",
          "text": [
            "Matrix is Null\n"
          ]
        }
      ]
    },
    {
      "cell_type": "markdown",
      "metadata": {
        "id": "PwNtGjTcuBDV"
      },
      "source": [
        "##Zero Matrix"
      ]
    },
    {
      "cell_type": "markdown",
      "metadata": {
        "id": "dVNHFx2OuX73"
      },
      "source": [
        "A zero matrix is considered to be a matrix adding identity element. In matrix arithmetic, a null matrix performs some of the same purposes as 0 in conventional arithmetic."
      ]
    },
    {
      "cell_type": "code",
      "metadata": {
        "colab": {
          "base_uri": "https://localhost:8080/"
        },
        "id": "YCBLk98jzDAk",
        "outputId": "ab6211f0-eb33-4a4a-f36d-d6aca2cac398"
      },
      "source": [
        "zero_mat_row = np.zeros((1,2))\n",
        "zero_mat_sqr = np.zeros((2,2))\n",
        "zero_mat_rct = np.zeros((3,2))\n",
        "\n",
        "print(f'Zero Row Matrix: \\n{zero_mat_row}')\n",
        "print(f'Zero Square Matrix: \\n{zero_mat_sqr}')\n",
        "print(f'Zero Rectangular Matrix: \\n{zero_mat_rct}')"
      ],
      "execution_count": 20,
      "outputs": [
        {
          "output_type": "stream",
          "name": "stdout",
          "text": [
            "Zero Row Matrix: \n",
            "[[0. 0.]]\n",
            "Zero Square Matrix: \n",
            "[[0. 0.]\n",
            " [0. 0.]]\n",
            "Zero Rectangular Matrix: \n",
            "[[0. 0.]\n",
            " [0. 0.]\n",
            " [0. 0.]]\n"
          ]
        }
      ]
    },
    {
      "cell_type": "markdown",
      "metadata": {
        "id": "wwgtVGhf5Kk1"
      },
      "source": [
        "##Ones Matrix"
      ]
    },
    {
      "cell_type": "markdown",
      "metadata": {
        "id": "2F-BBf2g5l0z"
      },
      "source": [
        "An all-one matrix or one matrix matrix is a matrix in which each member is equal. Some authors name the all-one matrix the matrix, although the phrase might alternatively use a distinct matrix, the identity matrix."
      ]
    },
    {
      "cell_type": "code",
      "metadata": {
        "colab": {
          "base_uri": "https://localhost:8080/"
        },
        "id": "4_eXAnZlBHkT",
        "outputId": "acdb3ba5-3b2f-4204-ba3a-81f5c2e3cc19"
      },
      "source": [
        "ones_mat_row = np.ones((1,2))\n",
        "ones_mat_sqr = np.ones((2,2))\n",
        "ones_mat_rct = np.ones((3,2))\n",
        "\n",
        "print(f'Ones Row Matrix: \\n{ones_mat_row}')\n",
        "print(f'Ones Square Matrix: \\n{ones_mat_sqr}')\n",
        "print(f'Ones Rectangular Matrix: \\n{ones_mat_rct}')"
      ],
      "execution_count": 21,
      "outputs": [
        {
          "output_type": "stream",
          "name": "stdout",
          "text": [
            "Ones Row Matrix: \n",
            "[[1. 1.]]\n",
            "Ones Square Matrix: \n",
            "[[1. 1.]\n",
            " [1. 1.]]\n",
            "Ones Rectangular Matrix: \n",
            "[[1. 1.]\n",
            " [1. 1.]\n",
            " [1. 1.]]\n"
          ]
        }
      ]
    },
    {
      "cell_type": "markdown",
      "metadata": {
        "id": "A5l2EKGJBp-M"
      },
      "source": [
        "##Diagonal Matrix"
      ]
    },
    {
      "cell_type": "markdown",
      "metadata": {
        "id": "pW_VE5QjBs2q"
      },
      "source": [
        "A matrix's primary diagonal is made up of the components that run from top left to bottom right. If the matrix is A, the elements with the same row and column number form the matrix's major diagonal."
      ]
    },
    {
      "cell_type": "code",
      "metadata": {
        "colab": {
          "base_uri": "https://localhost:8080/"
        },
        "id": "3fbFtpR4DmPk",
        "outputId": "b90a2354-c412-417a-9d41-319b6bf7d8b0"
      },
      "source": [
        "np.array([\n",
        "    [2,0,0],\n",
        "    [0,3,0],\n",
        "    [0,0,5]\n",
        "])\n",
        "# a[1,1], a[2,2], a[3,3], ... a[n-1,n-1]"
      ],
      "execution_count": 22,
      "outputs": [
        {
          "output_type": "execute_result",
          "data": {
            "text/plain": [
              "array([[2, 0, 0],\n",
              "       [0, 3, 0],\n",
              "       [0, 0, 5]])"
            ]
          },
          "metadata": {},
          "execution_count": 22
        }
      ]
    },
    {
      "cell_type": "code",
      "metadata": {
        "colab": {
          "base_uri": "https://localhost:8080/"
        },
        "id": "e9pPQMa9EIXL",
        "outputId": "0623dc97-026d-4a7d-d490-e60bf8e1c57b"
      },
      "source": [
        "d = np.diag([2,3,5,7])\n",
        "np.diag(d).shape == d.shape[0] == d.shape[1]"
      ],
      "execution_count": 23,
      "outputs": [
        {
          "output_type": "execute_result",
          "data": {
            "text/plain": [
              "False"
            ]
          },
          "metadata": {},
          "execution_count": 23
        }
      ]
    },
    {
      "cell_type": "markdown",
      "metadata": {
        "id": "8zaoIrmhIOg-"
      },
      "source": [
        "##Identity Matrix"
      ]
    },
    {
      "cell_type": "markdown",
      "metadata": {
        "id": "t7Ls3lH9ISyw"
      },
      "source": [
        "A square matrix with on the main diagonal and everywhere else is an identity matrix. The identity matrices are depicted below. These are known as identity matrices because they produce the identical matrix when multiplied by a compatible matrix."
      ]
    },
    {
      "cell_type": "code",
      "metadata": {
        "colab": {
          "base_uri": "https://localhost:8080/"
        },
        "id": "D2k0k2S3Irug",
        "outputId": "fb826b2d-2c36-4f3b-bbd0-d08495594d96"
      },
      "source": [
        "np.eye(5)"
      ],
      "execution_count": 24,
      "outputs": [
        {
          "output_type": "execute_result",
          "data": {
            "text/plain": [
              "array([[1., 0., 0., 0., 0.],\n",
              "       [0., 1., 0., 0., 0.],\n",
              "       [0., 0., 1., 0., 0.],\n",
              "       [0., 0., 0., 1., 0.],\n",
              "       [0., 0., 0., 0., 1.]])"
            ]
          },
          "metadata": {},
          "execution_count": 24
        }
      ]
    },
    {
      "cell_type": "code",
      "metadata": {
        "colab": {
          "base_uri": "https://localhost:8080/"
        },
        "id": "QYTN_LwUIwUA",
        "outputId": "20c40d8f-bc29-4892-b1ab-938257aaf34b"
      },
      "source": [
        "\n",
        "np.identity(5)"
      ],
      "execution_count": 25,
      "outputs": [
        {
          "output_type": "execute_result",
          "data": {
            "text/plain": [
              "array([[1., 0., 0., 0., 0.],\n",
              "       [0., 1., 0., 0., 0.],\n",
              "       [0., 0., 1., 0., 0.],\n",
              "       [0., 0., 0., 1., 0.],\n",
              "       [0., 0., 0., 0., 1.]])"
            ]
          },
          "metadata": {},
          "execution_count": 25
        }
      ]
    },
    {
      "cell_type": "markdown",
      "metadata": {
        "id": "vHlLVpq9JCK2"
      },
      "source": [
        "##Upper Triangular Matrix\n"
      ]
    },
    {
      "cell_type": "markdown",
      "metadata": {
        "id": "8UpHvIXxJGtJ"
      },
      "source": [
        "All of the values the major diagonal in the top triangular matrix are zero. A lower triangular matrix is one that contains members above the main diagonal that are all zero."
      ]
    },
    {
      "cell_type": "code",
      "metadata": {
        "colab": {
          "base_uri": "https://localhost:8080/"
        },
        "id": "wlAAd8IOLsCJ",
        "outputId": "6430012c-938c-41e4-b614-d03a455abd4a"
      },
      "source": [
        "np.array([\n",
        "    [1,2,3],\n",
        "    [0,3,1],\n",
        "    [0,0,5]\n",
        "])"
      ],
      "execution_count": 26,
      "outputs": [
        {
          "output_type": "execute_result",
          "data": {
            "text/plain": [
              "array([[1, 2, 3],\n",
              "       [0, 3, 1],\n",
              "       [0, 0, 5]])"
            ]
          },
          "metadata": {},
          "execution_count": 26
        }
      ]
    },
    {
      "cell_type": "markdown",
      "metadata": {
        "id": "5DtjByLHL2C_"
      },
      "source": [
        "##Lower Triangular Matrix"
      ]
    },
    {
      "cell_type": "markdown",
      "metadata": {
        "id": "4SjLrIcvL5__"
      },
      "source": [
        "A lower triangular matrix is one that has all of its upper triangular elements equal to zero. In other words, all non-zero elements are on the main diagonal or in the bottom triangle. Because they have zeros above and below the major diagonal, diagonal matrices are both upper and lower triangular."
      ]
    },
    {
      "cell_type": "code",
      "metadata": {
        "colab": {
          "base_uri": "https://localhost:8080/"
        },
        "id": "tuQ277zvMhhc",
        "outputId": "6e2187e2-25a4-4eb0-db32-7fef906ed0f2"
      },
      "source": [
        "np.array([\n",
        "    [1,0,0],\n",
        "    [5,3,0],\n",
        "    [7,8,5]\n",
        "])"
      ],
      "execution_count": 27,
      "outputs": [
        {
          "output_type": "execute_result",
          "data": {
            "text/plain": [
              "array([[1, 0, 0],\n",
              "       [5, 3, 0],\n",
              "       [7, 8, 5]])"
            ]
          },
          "metadata": {},
          "execution_count": 27
        }
      ]
    },
    {
      "cell_type": "markdown",
      "metadata": {
        "id": "jpzMTITtCIEl"
      },
      "source": [
        "##Practice"
      ]
    },
    {
      "cell_type": "markdown",
      "metadata": {
        "id": "UxWLV1v_CKvs"
      },
      "source": [
        "1. Given the linear combination below, try to create a corresponding matrix representing it."
      ]
    },
    {
      "cell_type": "markdown",
      "metadata": {
        "id": "J7mEB2okCjGi"
      },
      "source": [
        "0= 5x + 3y -z"
      ]
    },
    {
      "cell_type": "code",
      "metadata": {
        "colab": {
          "base_uri": "https://localhost:8080/"
        },
        "id": "Xb7h97UgCpyC",
        "outputId": "a595c061-93a5-4d06-a3e2-bc64a2c109db"
      },
      "source": [
        "theta = np.array([[5, 3, -1]])\n",
        "describe_mat(theta)"
      ],
      "execution_count": 45,
      "outputs": [
        {
          "output_type": "stream",
          "name": "stdout",
          "text": [
            "Matrix:\n",
            "[[ 5  3 -1]]\n",
            "\n",
            "Shape:\t(1, 3)\n",
            "Rank:\t2\n",
            "Is Square: False\n",
            "\n"
          ]
        }
      ]
    },
    {
      "cell_type": "markdown",
      "metadata": {
        "id": "SFsy2w10DqpR"
      },
      "source": [
        "1. Given the system of linear combinations below, try to encode it as a matrix. Also describe the matrix.\n",
        "\n",
        "$$ A = \\left\\{\\begin{array} 5x_1 + 2x_2 +x_3\\\\ 4x_2 - x_3\\\\ 10x_3 \\end{array}\\right. $$\n"
      ]
    },
    {
      "cell_type": "code",
      "metadata": {
        "id": "-SGFeMHnEJZe"
      },
      "source": [
        "G = np.array([\n",
        "              [1, 7, 8],\n",
        "              [2, 2, 2],\n",
        "              [4, 6, 7]\n",
        "])"
      ],
      "execution_count": 47,
      "outputs": []
    },
    {
      "cell_type": "markdown",
      "metadata": {
        "id": "gX1PpC4uFZph"
      },
      "source": [
        "G = \\begin(bmatrix) 1 & 7 & 8 \\\\ 2 & 2 & 2 \\\\ 4 & 6 & 7\\end{bmatrix}"
      ]
    },
    {
      "cell_type": "markdown",
      "metadata": {
        "id": "oIR-_TUzFivd"
      },
      "source": [
        "1. Given the matrix below, display the output as a LaTeX makdown also express it as a system of linear combinations."
      ]
    },
    {
      "cell_type": "code",
      "metadata": {
        "colab": {
          "base_uri": "https://localhost:8080/"
        },
        "id": "8ls4-INGFlBL",
        "outputId": "1b18dafb-f06e-4d26-dba0-74e1e042bc4c"
      },
      "source": [
        "H = np.tril(G)\n",
        "H"
      ],
      "execution_count": 49,
      "outputs": [
        {
          "output_type": "execute_result",
          "data": {
            "text/plain": [
              "array([[1, 0, 0],\n",
              "       [2, 2, 0],\n",
              "       [4, 6, 7]])"
            ]
          },
          "metadata": {},
          "execution_count": 49
        }
      ]
    },
    {
      "cell_type": "markdown",
      "metadata": {
        "id": "__kEWIGGOkhg"
      },
      "source": [
        "##Matrix Algebra"
      ]
    },
    {
      "cell_type": "markdown",
      "metadata": {
        "id": "sV98ZZJVOpk1"
      },
      "source": [
        "###Addition"
      ]
    },
    {
      "cell_type": "code",
      "metadata": {
        "colab": {
          "base_uri": "https://localhost:8080/"
        },
        "id": "HSiuJXA-OstP",
        "outputId": "2dbfa786-f1aa-44d1-c2d8-ac633ac3643f"
      },
      "source": [
        "A = np.array([\n",
        "    [1,2],\n",
        "    [2,3],\n",
        "    [4,1]\n",
        "])\n",
        "B = np.array([\n",
        "    [2,2],\n",
        "    [0,0],\n",
        "    [1,1]\n",
        "])\n",
        "A+B"
      ],
      "execution_count": 28,
      "outputs": [
        {
          "output_type": "execute_result",
          "data": {
            "text/plain": [
              "array([[3, 4],\n",
              "       [2, 3],\n",
              "       [5, 2]])"
            ]
          },
          "metadata": {},
          "execution_count": 28
        }
      ]
    },
    {
      "cell_type": "code",
      "metadata": {
        "colab": {
          "base_uri": "https://localhost:8080/"
        },
        "id": "LiAwQ6liOysw",
        "outputId": "73586b48-8ae0-4032-83eb-a5f3a86729e1"
      },
      "source": [
        "2+A ##Broadcasting\n",
        "# 2*np.ones(A.shape)+A"
      ],
      "execution_count": 29,
      "outputs": [
        {
          "output_type": "execute_result",
          "data": {
            "text/plain": [
              "array([[3, 4],\n",
              "       [4, 5],\n",
              "       [6, 3]])"
            ]
          },
          "metadata": {},
          "execution_count": 29
        }
      ]
    },
    {
      "cell_type": "markdown",
      "metadata": {
        "id": "P0nLdvkvO4xp"
      },
      "source": [
        "###Subtraction"
      ]
    },
    {
      "cell_type": "code",
      "metadata": {
        "colab": {
          "base_uri": "https://localhost:8080/"
        },
        "id": "MX1Ixb7TPN68",
        "outputId": "010f38ef-4130-4736-d05a-b6831494f3cb"
      },
      "source": [
        "A-B"
      ],
      "execution_count": 38,
      "outputs": [
        {
          "output_type": "execute_result",
          "data": {
            "text/plain": [
              "array([[-1,  0],\n",
              "       [ 2,  3],\n",
              "       [ 3,  0]])"
            ]
          },
          "metadata": {},
          "execution_count": 38
        }
      ]
    },
    {
      "cell_type": "code",
      "metadata": {
        "colab": {
          "base_uri": "https://localhost:8080/"
        },
        "id": "qi8vyTEFPS17",
        "outputId": "641e80a8-55cb-42f9-f944-830355419a6c"
      },
      "source": [
        "3-B == 3*np.ones(B.shape)-B"
      ],
      "execution_count": 39,
      "outputs": [
        {
          "output_type": "execute_result",
          "data": {
            "text/plain": [
              "array([[ True,  True],\n",
              "       [ True,  True],\n",
              "       [ True,  True]])"
            ]
          },
          "metadata": {},
          "execution_count": 39
        }
      ]
    },
    {
      "cell_type": "markdown",
      "metadata": {
        "id": "vBvR9ruSPbJL"
      },
      "source": [
        "###Element-wise Multiplication"
      ]
    },
    {
      "cell_type": "code",
      "metadata": {
        "colab": {
          "base_uri": "https://localhost:8080/"
        },
        "id": "DeMFdiXfPgIa",
        "outputId": "92cd1931-f9a9-46b4-def5-8737ad95fb55"
      },
      "source": [
        "A*B\n",
        "np.multiply(A,B)"
      ],
      "execution_count": 40,
      "outputs": [
        {
          "output_type": "execute_result",
          "data": {
            "text/plain": [
              "array([[2, 4],\n",
              "       [0, 0],\n",
              "       [4, 1]])"
            ]
          },
          "metadata": {},
          "execution_count": 40
        }
      ]
    },
    {
      "cell_type": "code",
      "metadata": {
        "colab": {
          "base_uri": "https://localhost:8080/"
        },
        "id": "f9i5W7I4Pl_n",
        "outputId": "7efcf3b4-0b54-415c-840d-9915938730e8"
      },
      "source": [
        "2*A"
      ],
      "execution_count": 41,
      "outputs": [
        {
          "output_type": "execute_result",
          "data": {
            "text/plain": [
              "array([[2, 4],\n",
              "       [4, 6],\n",
              "       [8, 2]])"
            ]
          },
          "metadata": {},
          "execution_count": 41
        }
      ]
    },
    {
      "cell_type": "code",
      "metadata": {
        "colab": {
          "base_uri": "https://localhost:8080/"
        },
        "id": "0tOnoCp_Pviw",
        "outputId": "81558327-e78c-4f1f-98a3-5c6ce68a2470"
      },
      "source": [
        "alpha=10**-10\n",
        "A/(alpha+B)"
      ],
      "execution_count": 42,
      "outputs": [
        {
          "output_type": "execute_result",
          "data": {
            "text/plain": [
              "array([[5.e-01, 1.e+00],\n",
              "       [2.e+10, 3.e+10],\n",
              "       [4.e+00, 1.e+00]])"
            ]
          },
          "metadata": {},
          "execution_count": 42
        }
      ]
    },
    {
      "cell_type": "code",
      "metadata": {
        "colab": {
          "base_uri": "https://localhost:8080/"
        },
        "id": "tqK2gt68P0gQ",
        "outputId": "ded79166-3077-46b5-a856-0c1a6afd335c"
      },
      "source": [
        "np.add(A,B)"
      ],
      "execution_count": 43,
      "outputs": [
        {
          "output_type": "execute_result",
          "data": {
            "text/plain": [
              "array([[3, 4],\n",
              "       [2, 3],\n",
              "       [5, 2]])"
            ]
          },
          "metadata": {},
          "execution_count": 43
        }
      ]
    },
    {
      "cell_type": "markdown",
      "metadata": {
        "id": "inwKlrqmQEzo"
      },
      "source": [
        "#Activity"
      ]
    },
    {
      "cell_type": "markdown",
      "metadata": {
        "id": "pvDWMVYIQHd0"
      },
      "source": [
        "##Task1"
      ]
    },
    {
      "cell_type": "markdown",
      "metadata": {
        "id": "Z5TIVphaQNfI"
      },
      "source": [
        "Create a function named mat_desc() that througouhly describes a matrix, it should:\n",
        "\n",
        "1. Displays the shape, size, and rank of the matrix.\n",
        "2. Displays whether the matrix is square or non-square.\n",
        "3. Displays whether the matrix is an empty matrix.\n",
        "4. Displays if the matrix is an identity, ones, or zeros matrix\n",
        "\n",
        "Use 5 sample matrices in which their shapes are not lower than $(3,3)$. In your methodology, create a flowchart discuss the functions and methods you have done. Present your results in the results section showing the description of each matrix you have declared"
      ]
    },
    {
      "cell_type": "code",
      "metadata": {
        "id": "aR0ae41hh27v"
      },
      "source": [
        "import numpy as np\n",
        "import matplotlib.pyplot as plt\n",
        "import scipy.linalg as la\n",
        "%matplotlib inline"
      ],
      "execution_count": null,
      "outputs": []
    },
    {
      "cell_type": "code",
      "metadata": {
        "id": "xMcIiXsVjNQ0"
      },
      "source": [
        "def describe_mat (matrix):\n",
        "  if matrix. size > 0:\n",
        "    is_square = True if matrix.shape[0] == matrix.shape[1] else False\n",
        "    print(f'Matrix:\\n{matrix}\\n\\nShape:\\t{matrix.shape}\\nRank:\\t{matrix.ndim}\\nIs Square: {is_square}\\n') \n",
        "  else:\n",
        "      print('Matrix is Null')"
      ],
      "execution_count": null,
      "outputs": []
    },
    {
      "cell_type": "code",
      "metadata": {
        "id": "6-diGC_QkWSw"
      },
      "source": [
        "C = np.array([\n",
        "    [9, 8, 7],\n",
        "    [6, 5, 4],\n",
        "    [3, 2, 1]\n",
        "])\n",
        "\n",
        "K = np.array([\n",
        "    [1, 2, 3],\n",
        "    [4, 5, 6],\n",
        "    [7, 8,9]\n",
        "])\n",
        "\n",
        "M = np.array([])\n",
        "\n",
        "ones_mat_row = np.ones((2,6))\n",
        "\n",
        "E = np.eye(2,6)"
      ],
      "execution_count": 44,
      "outputs": []
    },
    {
      "cell_type": "code",
      "metadata": {
        "colab": {
          "base_uri": "https://localhost:8080/"
        },
        "id": "R4AcWO37mL9G",
        "outputId": "aa8124d3-7131-4b08-9b78-cbf41d95d015"
      },
      "source": [
        "describe_mat(C)"
      ],
      "execution_count": null,
      "outputs": [
        {
          "output_type": "stream",
          "name": "stdout",
          "text": [
            "Matrix:\n",
            "[[9 8 7]\n",
            " [6 5 4]\n",
            " [3 2 1]]\n",
            "\n",
            "Shape:\t(3, 3)\n",
            "Rank:\t2\n",
            "Is Square: True\n",
            "\n"
          ]
        }
      ]
    },
    {
      "cell_type": "code",
      "metadata": {
        "colab": {
          "base_uri": "https://localhost:8080/"
        },
        "id": "mN4hzdTumTkH",
        "outputId": "1abb9f2b-0b60-4a46-83d0-03868378a79b"
      },
      "source": [
        "describe_mat(K)"
      ],
      "execution_count": null,
      "outputs": [
        {
          "output_type": "stream",
          "name": "stdout",
          "text": [
            "Matrix:\n",
            "[[1 2 3]\n",
            " [4 5 6]\n",
            " [7 8 9]]\n",
            "\n",
            "Shape:\t(3, 3)\n",
            "Rank:\t2\n",
            "Is Square: True\n",
            "\n"
          ]
        }
      ]
    },
    {
      "cell_type": "code",
      "metadata": {
        "colab": {
          "base_uri": "https://localhost:8080/"
        },
        "id": "3u65AI62mg2P",
        "outputId": "7e37b1d7-2fd8-45d3-a183-74e760b59944"
      },
      "source": [
        "describe_mat(M)"
      ],
      "execution_count": null,
      "outputs": [
        {
          "output_type": "stream",
          "name": "stdout",
          "text": [
            "Matrix is Null\n"
          ]
        }
      ]
    },
    {
      "cell_type": "code",
      "metadata": {
        "colab": {
          "base_uri": "https://localhost:8080/"
        },
        "id": "Tg9NYJqwmskT",
        "outputId": "aee01b33-f2c6-4055-f046-5fdd2184142e"
      },
      "source": [
        "print(f'Ones Row Matrix: \\n{ones_mat_row}')"
      ],
      "execution_count": null,
      "outputs": [
        {
          "output_type": "stream",
          "name": "stdout",
          "text": [
            "Ones Row Matrix: \n",
            "[[1. 1. 1. 1. 1. 1.]\n",
            " [1. 1. 1. 1. 1. 1.]]\n"
          ]
        }
      ]
    },
    {
      "cell_type": "code",
      "metadata": {
        "colab": {
          "base_uri": "https://localhost:8080/"
        },
        "id": "XCEgag8HnS9P",
        "outputId": "dd97e63f-d9c5-497c-aa26-358fbcd0bcbf"
      },
      "source": [
        "describe_mat(E)"
      ],
      "execution_count": null,
      "outputs": [
        {
          "output_type": "stream",
          "name": "stdout",
          "text": [
            "Matrix:\n",
            "[[1. 0. 0. 0. 0. 0.]\n",
            " [0. 1. 0. 0. 0. 0.]]\n",
            "\n",
            "Shape:\t(2, 6)\n",
            "Rank:\t2\n",
            "Is Square: False\n",
            "\n"
          ]
        }
      ]
    },
    {
      "cell_type": "markdown",
      "metadata": {
        "id": "wCWnjgTjQkF5"
      },
      "source": [
        "##Task 2"
      ]
    },
    {
      "cell_type": "markdown",
      "metadata": {
        "id": "hbDvK1odQrpv"
      },
      "source": [
        "Create a function named mat_operations() that takes in two matrices a input parameters it should:\n",
        "\n",
        "1. Determines if the matrices are viable for operation and returns your own error message if they are not viable.\n",
        "2. Returns the sum of the matrices.\n",
        "3. Returns the differen of the matrices.\n",
        "4. Returns the element-wise multiplication of the matrices.\n",
        "5. Returns the element-wise division of the matrices.\n",
        "\n",
        "Use 5 sample matrices in which their shapes are not lower than $(3,3)$. In your methodology, create a flowchart discuss the functions and methods you have done. Present your results in the results section showing the description of each matrix you have declared."
      ]
    },
    {
      "cell_type": "code",
      "metadata": {
        "id": "DIwAw2mboy5M"
      },
      "source": [
        "import numpy as np\n",
        "import matplotlib.pyplot as plt\n",
        "import scipy.linalg as la\n",
        "%matplotlib inline"
      ],
      "execution_count": 6,
      "outputs": []
    },
    {
      "cell_type": "code",
      "metadata": {
        "id": "tIXFA5S8o8B3"
      },
      "source": [
        "def describe_mat (matrix):\n",
        "  if matrix. size > 0:\n",
        "    is_square = True if matrix.shape[0] == matrix.shape[1] else False\n",
        "    print(f'Matrix:\\n{matrix}\\n\\nShape:\\t{matrix.shape}\\nRank:\\t{matrix.ndim}\\nIs Viable: {is_viable}\\n') \n",
        "  else:\n",
        "      print('Matrices are not Equal')"
      ],
      "execution_count": 7,
      "outputs": []
    },
    {
      "cell_type": "code",
      "metadata": {
        "id": "mBj8gmJ9r28k"
      },
      "source": [
        "C = np.array([\n",
        "    [1, 2, 3],\n",
        "    [4, 5, 6],\n",
        "    [7, 8, 9]\n",
        "])\n",
        "\n",
        "K = np.array([\n",
        "    [9, 8, 7],\n",
        "    [6, 5, 4],\n",
        "    [3, 2, 1]\n",
        "])\n",
        "\n",
        "B = np.array([\n",
        "    [8, 9, 7, 6],\n",
        "    [6, 5, 4, 0],\n",
        "    [1, 2, 3, 1],\n",
        "    [4, 3, 2, 1]\n",
        "])\n",
        "\n",
        "matrix1 = C\n",
        "matrix2 = K\n",
        "matrix3 = B\n"
      ],
      "execution_count": 5,
      "outputs": []
    },
    {
      "cell_type": "code",
      "metadata": {
        "id": "VGdmPm7OevBh"
      },
      "source": [
        "def mat_operations(matrix):\n",
        "    if matrix.size == 9:\n",
        "      matrix_operations = np.ndarray.all\n",
        "      viable = True if matrix.size == 9 else False\n",
        "      print(f'Matrix:\\n{matrix}\\n\\nShape:\\t{matrix.size}\\nRank:\\t{matrix.ndim}\\nViable For Operation:\\t{viable}')\n",
        "    elif matrix.size == 25:\n",
        "      not_viable = False if matrix.size >= 25 else True\n",
        "      print(f'Matrix:\\n{matrix}\\n\\nShape:\\t{matrix.size}\\nRank:\\t{matrix.ndim}\\nViable For Operation:\\t{not_viable}')\n",
        "    elif mat_operations(P) + mat_operations(T):\n",
        "      try:\n",
        "        mat_operations(P) + mat_operations(T)\n",
        "      except ValueError:\n",
        "          pass\n",
        "          print(\"Value Error Exception!\",'Not Viable For Operation on Different Matrices')"
      ],
      "execution_count": 4,
      "outputs": []
    },
    {
      "cell_type": "code",
      "metadata": {
        "id": "fg1t47QlMMWy"
      },
      "source": [
        "def mat_operations(np,matA,matB):\n",
        "  if matA.size > 0 or matB.size > 0:\n",
        "    if matA.shape == matB.shape:\n",
        "      if np == 'Add':\n",
        "        sum = M1 + M2\n",
        "        print(f'\\nThe Sum of \\n{matA} \\n\\n+\\n\\n {matB} \\n\\n is equal to:\\n\\n {sum}')\n",
        "      if np == 'Subtract':\n",
        "        sub = matA - matB\n",
        "        print(f'\\nThe Difference of \\n{matA} \\n\\n-\\n\\n {matB} \\n\\n is equal to:\\n\\n {sub}')\n",
        "      if np == 'Multiply':\n",
        "        mul = matA * matB\n",
        "        print(f'\\nThe Product of \\n{matA} \\n\\nx\\n\\n {matB} \\n\\n is equal to:\\n\\n {mul}')\n",
        "      if np == 'Divide':\n",
        "        div = matA / matB\n",
        "        print(f'\\nThe Result of \\n{matA} \\n\\n/\\n\\n {matB} \\n\\n is equal to:\\n\\n {div}')\n",
        "      else:\n",
        "        print(f'Operation Not Found!')\n",
        "    else:\n",
        "      print(f'Syntax Error! Invalid Matrices detected.')\n",
        "  else:\n",
        "    print(f'One or Both the Matrix is NULL') "
      ],
      "execution_count": 51,
      "outputs": []
    },
    {
      "cell_type": "markdown",
      "metadata": {
        "id": "kDOZ02S4Q9rY"
      },
      "source": [
        "###Conclusion"
      ]
    },
    {
      "cell_type": "markdown",
      "metadata": {
        "id": "BUt5MOaqRA9a"
      },
      "source": [
        "I therefore conclude that this topic we will be able to develop a better intuition for machine learning and deep learning algorithms if you understand linear algebra we need to study linear algebra when most python can be accomplished with pre-existing modules and packages. As you will see, even the most fundamental tasks in data science and machine learning require some prior understanding of linear algebra.. This will allow you to select appropriate hyperparameters and build a better model.  Introduction to linear equations and matrices, you should be able to comprehend the basics of utilizing matrices to describe systems of linear equations, as well as your abilities in creating persuasive arguments and problem solving."
      ]
    }
  ]
}