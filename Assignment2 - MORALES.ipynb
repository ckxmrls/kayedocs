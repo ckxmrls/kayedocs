{
  "nbformat": 4,
  "nbformat_minor": 0,
  "metadata": {
    "colab": {
      "name": "Assignment2.ipynb",
      "provenance": [],
      "authorship_tag": "ABX9TyNj6mraXUTxmVdBCkWeH9y3",
      "include_colab_link": true
    },
    "kernelspec": {
      "name": "python3",
      "display_name": "Python 3"
    },
    "language_info": {
      "name": "python"
    }
  },
  "cells": [
    {
      "cell_type": "markdown",
      "metadata": {
        "id": "view-in-github",
        "colab_type": "text"
      },
      "source": [
        "<a href=\"https://colab.research.google.com/github/ckxmrls/kayedocs/blob/main/Assignment2%20-%20MORALES.ipynb\" target=\"_parent\"><img src=\"https://colab.research.google.com/assets/colab-badge.svg\" alt=\"Open In Colab\"/></a>"
      ]
    },
    {
      "cell_type": "markdown",
      "metadata": {
        "id": "Al0Cz1ao1kmG"
      },
      "source": [
        "# Welcome to Python Fundamentals\n",
        "## In this module, we are going to establish our skills in Python Programming. In this notebook we are going to cover:\n",
        "\n",
        "\n",
        "*   Variables and Data Types\n",
        "*   Operation\n",
        "*   Input and Output Opetatioon\n",
        "*   Logic Control\n",
        "*   Interables\n",
        "*   Functions\n",
        "\n",
        "\n",
        "\n",
        "\n",
        "\n"
      ]
    },
    {
      "cell_type": "markdown",
      "metadata": {
        "id": "kH1BRhAS2o2I"
      },
      "source": [
        "## Variables and Data Types\n",
        "There are no extra commands in Python for declaring variables. The variable is defined as soon as a value is assigned to it. The classification or categorizing of data objects is referred to as data types. It represents the kind of value that specifies which operations may be done on a given piece of data."
      ]
    },
    {
      "cell_type": "code",
      "metadata": {
        "colab": {
          "base_uri": "https://localhost:8080/"
        },
        "id": "4pLNzWyn07tI",
        "outputId": "6833790c-7f7e-49cd-fbec-3280f9268fec"
      },
      "source": [
        "x = 1\n",
        "a, b = 3, -2\n"
      ],
      "execution_count": null,
      "outputs": [
        {
          "output_type": "execute_result",
          "data": {
            "text/plain": [
              "-2"
            ]
          },
          "metadata": {},
          "execution_count": 3
        }
      ]
    },
    {
      "cell_type": "code",
      "metadata": {
        "colab": {
          "base_uri": "https://localhost:8080/"
        },
        "id": "K6CddOHv3o-_",
        "outputId": "487f847a-0e01-475e-92fa-bbe78919cb8f"
      },
      "source": [
        "type (x)"
      ],
      "execution_count": null,
      "outputs": [
        {
          "output_type": "execute_result",
          "data": {
            "text/plain": [
              "int"
            ]
          },
          "metadata": {},
          "execution_count": 4
        }
      ]
    },
    {
      "cell_type": "code",
      "metadata": {
        "colab": {
          "base_uri": "https://localhost:8080/"
        },
        "id": "afzvWqc33upL",
        "outputId": "983784eb-d154-46fa-8734-9295208e70d9"
      },
      "source": [
        "y = 3.0\n",
        "type (y)"
      ],
      "execution_count": null,
      "outputs": [
        {
          "output_type": "execute_result",
          "data": {
            "text/plain": [
              "float"
            ]
          },
          "metadata": {},
          "execution_count": 5
        }
      ]
    },
    {
      "cell_type": "code",
      "metadata": {
        "colab": {
          "base_uri": "https://localhost:8080/"
        },
        "id": "Br38IcH038qE",
        "outputId": "c7d2b059-db66-4b8d-e6fc-3ac35aec4dda"
      },
      "source": [
        "x = float(x)\n",
        "type(x)\n",
        "x"
      ],
      "execution_count": null,
      "outputs": [
        {
          "output_type": "execute_result",
          "data": {
            "text/plain": [
              "1.0"
            ]
          },
          "metadata": {},
          "execution_count": 7
        }
      ]
    },
    {
      "cell_type": "code",
      "metadata": {
        "colab": {
          "base_uri": "https://localhost:8080/"
        },
        "id": "K2RyhxJe4MnW",
        "outputId": "961f0d38-26e2-4d66-d421-0f00985886f0"
      },
      "source": [
        "s, t, u = \"1\", '3', 'three'\n",
        "type(u)"
      ],
      "execution_count": null,
      "outputs": [
        {
          "output_type": "execute_result",
          "data": {
            "text/plain": [
              "str"
            ]
          },
          "metadata": {},
          "execution_count": 10
        }
      ]
    },
    {
      "cell_type": "markdown",
      "metadata": {
        "id": "wQBr_ytc4oRo"
      },
      "source": [
        "## Operations\n",
        "Python operators are symbols that carry out a function on one or more operands. An operand is a variable or a value on which the operation is performed."
      ]
    },
    {
      "cell_type": "markdown",
      "metadata": {
        "id": "iaQCPGb-42fw"
      },
      "source": [
        "### Arithmetic\n",
        "Arithmetic operators are utilized for the performance of mathematical operations such as added, substracted and divided."
      ]
    },
    {
      "cell_type": "code",
      "metadata": {
        "id": "Q_k984uy4urm"
      },
      "source": [
        "w, x, y, z = 4.0, -3.0, 2, -32"
      ],
      "execution_count": null,
      "outputs": []
    },
    {
      "cell_type": "code",
      "metadata": {
        "id": "ggai3PSu5S1e"
      },
      "source": [
        "### Addition\n",
        "S = w + x"
      ],
      "execution_count": null,
      "outputs": []
    },
    {
      "cell_type": "code",
      "metadata": {
        "id": "_SLyAFRM5joe"
      },
      "source": [
        "### Subraction\n",
        "D = y - z"
      ],
      "execution_count": null,
      "outputs": []
    },
    {
      "cell_type": "code",
      "metadata": {
        "id": "Fs1NcigL5rff"
      },
      "source": [
        "### MUltiplication\n",
        "P = w*z"
      ],
      "execution_count": null,
      "outputs": []
    },
    {
      "cell_type": "code",
      "metadata": {
        "colab": {
          "base_uri": "https://localhost:8080/"
        },
        "id": "NzDIT41n5x-z",
        "outputId": "9b904d23-f68f-4886-da38-bee583b06014"
      },
      "source": [
        "### Division\n",
        "Q = y/x\n",
        "Q"
      ],
      "execution_count": null,
      "outputs": [
        {
          "output_type": "execute_result",
          "data": {
            "text/plain": [
              "-0.3333333333333333"
            ]
          },
          "metadata": {},
          "execution_count": 19
        }
      ]
    },
    {
      "cell_type": "code",
      "metadata": {
        "colab": {
          "base_uri": "https://localhost:8080/"
        },
        "id": "qgvvOy_T6cEo",
        "outputId": "dc35dcab-683f-4cf5-98c5-2e1727ab675e"
      },
      "source": [
        "### Floor Division\n",
        "Qf = w//z\n",
        "Qf"
      ],
      "execution_count": null,
      "outputs": [
        {
          "output_type": "execute_result",
          "data": {
            "text/plain": [
              "-1.0"
            ]
          },
          "metadata": {},
          "execution_count": 25
        }
      ]
    },
    {
      "cell_type": "code",
      "metadata": {
        "colab": {
          "base_uri": "https://localhost:8080/"
        },
        "id": "y3mUGa-G7DYa",
        "outputId": "f829137f-a7ae-4375-c750-43459abb5546"
      },
      "source": [
        "### Exponentiation\n",
        "E = w**w\n",
        "E"
      ],
      "execution_count": null,
      "outputs": [
        {
          "output_type": "execute_result",
          "data": {
            "text/plain": [
              "256.0"
            ]
          },
          "metadata": {},
          "execution_count": 29
        }
      ]
    },
    {
      "cell_type": "code",
      "metadata": {
        "colab": {
          "base_uri": "https://localhost:8080/"
        },
        "id": "jcX35HjS7YEy",
        "outputId": "630d1d29-7549-4bd9-c688-5ba5e26cdd83"
      },
      "source": [
        "### Modulo\n",
        "mod = z%x\n",
        "mod"
      ],
      "execution_count": null,
      "outputs": [
        {
          "output_type": "execute_result",
          "data": {
            "text/plain": [
              "-2.0"
            ]
          },
          "metadata": {},
          "execution_count": 30
        }
      ]
    },
    {
      "cell_type": "markdown",
      "metadata": {
        "id": "p2MCYtBv7rGZ"
      },
      "source": [
        "### Assignment Operations\n",
        "In Python, assignment operators are used to assign the value of the right operand to the left operand. Python's assignment operators include (+=, – =, *=, /=, and so on). \n"
      ]
    },
    {
      "cell_type": "code",
      "metadata": {
        "id": "raPMJBzi7xG6"
      },
      "source": [
        "A, B, C, D, E = 0, 100, 2, 1, 2"
      ],
      "execution_count": null,
      "outputs": []
    },
    {
      "cell_type": "code",
      "metadata": {
        "colab": {
          "base_uri": "https://localhost:8080/"
        },
        "id": "q-QRFpP875vU",
        "outputId": "359ed28e-8584-43ce-cb22-e4d589b9474d"
      },
      "source": [
        "A += w\n",
        "A"
      ],
      "execution_count": null,
      "outputs": [
        {
          "output_type": "execute_result",
          "data": {
            "text/plain": [
              "12.0"
            ]
          },
          "metadata": {},
          "execution_count": 34
        }
      ]
    },
    {
      "cell_type": "code",
      "metadata": {
        "id": "ofA2mgte8N76"
      },
      "source": [
        "B -= x\n",
        "B"
      ],
      "execution_count": null,
      "outputs": []
    },
    {
      "cell_type": "code",
      "metadata": {
        "colab": {
          "base_uri": "https://localhost:8080/"
        },
        "id": "uljHQt6A8eX-",
        "outputId": "f0d8d1dc-0ac4-44f3-c073-376d212a0ca0"
      },
      "source": [
        "C *= w\n",
        "C"
      ],
      "execution_count": null,
      "outputs": [
        {
          "output_type": "execute_result",
          "data": {
            "text/plain": [
              "512.0"
            ]
          },
          "metadata": {},
          "execution_count": 41
        }
      ]
    },
    {
      "cell_type": "code",
      "metadata": {
        "id": "1BONMIny9TvE"
      },
      "source": [
        "D /= x\n",
        "D"
      ],
      "execution_count": null,
      "outputs": []
    },
    {
      "cell_type": "code",
      "metadata": {
        "id": "-6gV59fh9f3d"
      },
      "source": [
        "E **= y\n",
        "E\n"
      ],
      "execution_count": null,
      "outputs": []
    },
    {
      "cell_type": "markdown",
      "metadata": {
        "id": "kXWNHUHr-RkH"
      },
      "source": [
        "### Comparators\n",
        "A python comparison operator, also known as a relational operator python, compares the values of two operand and gives True or False on the basis of whether the condition is satisfied."
      ]
    },
    {
      "cell_type": "code",
      "metadata": {
        "id": "jpwDX2oS-Uov"
      },
      "source": [
        "size_1, size_2, size_3 = 1, 2.0,\"1\"\n",
        "true_size = 1.0"
      ],
      "execution_count": null,
      "outputs": []
    },
    {
      "cell_type": "code",
      "metadata": {
        "colab": {
          "base_uri": "https://localhost:8080/"
        },
        "id": "jfpDXPwV-iaC",
        "outputId": "8eaf30d4-da58-4934-ed89-8926aa9063e4"
      },
      "source": [
        "## Equality\n",
        "size_1 == true_size"
      ],
      "execution_count": null,
      "outputs": [
        {
          "output_type": "execute_result",
          "data": {
            "text/plain": [
              "True"
            ]
          },
          "metadata": {},
          "execution_count": 60
        }
      ]
    },
    {
      "cell_type": "code",
      "metadata": {
        "id": "uMNIuD-s-2qW"
      },
      "source": [
        "## Non - Equality\n",
        "size_2 != true_size"
      ],
      "execution_count": null,
      "outputs": []
    },
    {
      "cell_type": "code",
      "metadata": {
        "id": "llcC03BV_AtX"
      },
      "source": [
        "##Inequality\n",
        "s1 = size_1 > size_2\n",
        "s2 = size_1 < size_2/2\n",
        "s3 = true_size >= size_1\n",
        "s4 = size_2 <= true_size"
      ],
      "execution_count": null,
      "outputs": []
    },
    {
      "cell_type": "markdown",
      "metadata": {
        "id": "EN3GITlQ_3SF"
      },
      "source": [
        "### Logical\n",
        "In Python, logical operators are used to do logical operations with variable values. The value is true or incorrect. By the outcome of truth values we may determine the conditions."
      ]
    },
    {
      "cell_type": "code",
      "metadata": {
        "id": "2Bhve5RK_6Zb"
      },
      "source": [
        "size_1 == true_size\n"
      ],
      "execution_count": null,
      "outputs": []
    },
    {
      "cell_type": "code",
      "metadata": {
        "id": "sqj8cW3TAGBU"
      },
      "source": [
        "size_1 is true_size"
      ],
      "execution_count": null,
      "outputs": []
    },
    {
      "cell_type": "code",
      "metadata": {
        "id": "OOTtonxTAZ3U"
      },
      "source": [
        "size_1 is not true_size"
      ],
      "execution_count": null,
      "outputs": []
    },
    {
      "cell_type": "code",
      "metadata": {
        "id": "Amj_taUfAgCK"
      },
      "source": [
        "P, Q = True, False\n",
        "conj = P and Q\n",
        "conj"
      ],
      "execution_count": null,
      "outputs": []
    },
    {
      "cell_type": "code",
      "metadata": {
        "id": "203GhHhkA8cN"
      },
      "source": [
        "disj = P or Q\n",
        "disj "
      ],
      "execution_count": null,
      "outputs": []
    },
    {
      "cell_type": "code",
      "metadata": {
        "id": "iMX3VLSEBI25"
      },
      "source": [
        "nand = not(P and Q)\n",
        "nand"
      ],
      "execution_count": null,
      "outputs": []
    },
    {
      "cell_type": "code",
      "metadata": {
        "id": "IPiDQFIIBV9e"
      },
      "source": [
        "xor = (not P and Q) or (P and not Q)\n",
        "xor"
      ],
      "execution_count": null,
      "outputs": []
    },
    {
      "cell_type": "markdown",
      "metadata": {
        "id": "cBasthXHBxei"
      },
      "source": [
        "## Input and Output\n",
        "In order to complete a job, a software must communicate with the user; this may be accomplished through the usage of Input-Output functions. The input function allows the user to enter data at runtime, while the output function print is used to display the program's output on the screen after execution."
      ]
    },
    {
      "cell_type": "code",
      "metadata": {
        "id": "R7-66ieqB2vw"
      },
      "source": [
        "print(\"Hello World!\")"
      ],
      "execution_count": null,
      "outputs": []
    },
    {
      "cell_type": "code",
      "metadata": {
        "id": "Ro0sYR4_CDde"
      },
      "source": [
        "cnt = 14000"
      ],
      "execution_count": null,
      "outputs": []
    },
    {
      "cell_type": "code",
      "metadata": {
        "id": "A7a56xE3CHM2"
      },
      "source": [
        "string = \"Hello World!\"\n",
        "print(string, \", Current COVID count is:\", cnt)\n",
        "cnt += 1000"
      ],
      "execution_count": null,
      "outputs": []
    },
    {
      "cell_type": "code",
      "metadata": {
        "colab": {
          "base_uri": "https://localhost:8080/"
        },
        "id": "E75bUhmwC5nh",
        "outputId": "e26108f6-1e7c-4d64-bd75-29c89c1149c5"
      },
      "source": [
        "print(f\"{string}, current count is: {cnt}\")"
      ],
      "execution_count": null,
      "outputs": [
        {
          "output_type": "stream",
          "name": "stdout",
          "text": [
            "Hello World!, current count is: 18009\n"
          ]
        }
      ]
    },
    {
      "cell_type": "code",
      "metadata": {
        "colab": {
          "base_uri": "https://localhost:8080/"
        },
        "id": "XKGfdsKSEBoi",
        "outputId": "027a8a7d-7bd1-464d-b440-b56446fd8bd0"
      },
      "source": [
        "sem_grade = 86.25\n",
        "name =\"Kaye\"\n",
        "print(\"Hello{}, your semestral grade is :{}\" . format(name, sem_grade))"
      ],
      "execution_count": null,
      "outputs": [
        {
          "output_type": "stream",
          "name": "stdout",
          "text": [
            "HelloKaye, your semestral grade is :86.25\n"
          ]
        }
      ]
    },
    {
      "cell_type": "code",
      "metadata": {
        "colab": {
          "base_uri": "https://localhost:8080/"
        },
        "id": "QppVk9KuDQfK",
        "outputId": "d9484b53-4a7f-4632-f4ca-45da3acb083b"
      },
      "source": [
        "pg, mg, fg = 0.3, 0.3, 0.4\n",
        "print(\"The weights of your semestral grades are:\\\n",
        "\\n\\t {:.2%} for Prelims\\\n",
        "\\n\\t {:.2%} for Midterms, and\\\n",
        "\\n\\t {:.2%} for Finals.\".format(pg, mg, fg))"
      ],
      "execution_count": null,
      "outputs": [
        {
          "output_type": "stream",
          "name": "stdout",
          "text": [
            "The weights of your semestral grades are:\n",
            "\t 30.00% for Prelims\n",
            "\t 30.00% for Midterms, and\n",
            "\t 40.00% for Finals.\n"
          ]
        }
      ]
    },
    {
      "cell_type": "code",
      "metadata": {
        "id": "ioPyb8IWH53A"
      },
      "source": [
        "e = input(\"Enter a number:\")"
      ],
      "execution_count": null,
      "outputs": []
    },
    {
      "cell_type": "code",
      "metadata": {
        "colab": {
          "base_uri": "https://localhost:8080/"
        },
        "id": "HgFjVZoDI5ts",
        "outputId": "425389d8-e355-4937-fa58-766c9b366ddf"
      },
      "source": [
        "name = input(\"Enter your name: \")\n",
        "pg = input(\"Enter prelim grade: \")\n",
        "mg = input(\"Enter midterm grade: \")\n",
        "fg = input(\"Enter final grade: \")\n",
        "sem_grade = None\n",
        "print(\"Hello {}, your semestral grade is: {}\".format(name, sem_grade))\n"
      ],
      "execution_count": null,
      "outputs": [
        {
          "output_type": "stream",
          "name": "stdout",
          "text": [
            "Enter your name: k\n",
            "Enter prelim grade: 21\n",
            "Enter midterm grade: 21\n",
            "Enter final grade: 1\n",
            "Hello k, your semestral grade is: None\n"
          ]
        }
      ]
    },
    {
      "cell_type": "markdown",
      "metadata": {
        "id": "YVLAZdiWLZlg"
      },
      "source": [
        "###Looping Statements\n"
      ]
    },
    {
      "cell_type": "markdown",
      "metadata": {
        "id": "_RxvaO9mLVRn"
      },
      "source": [
        "##While\n",
        "While loops are used to run a set of statements repeatedly until a condition is met. When the condition is false, the line immediately after the loop in the program is performed."
      ]
    },
    {
      "cell_type": "code",
      "metadata": {
        "colab": {
          "base_uri": "https://localhost:8080/"
        },
        "id": "5UVDOfOGLW6l",
        "outputId": "01c3b6ed-64fd-4749-9f6b-f6da19b88ff5"
      },
      "source": [
        "## while loops\n",
        "i, j = 0, 10\n",
        "while(i<=j):\n",
        "  print(f\"{i}\\t|\\t{j}\")\n",
        "  i += 1"
      ],
      "execution_count": null,
      "outputs": [
        {
          "output_type": "stream",
          "name": "stdout",
          "text": [
            "0\t|\t10\n",
            "1\t|\t10\n",
            "2\t|\t10\n",
            "3\t|\t10\n",
            "4\t|\t10\n",
            "5\t|\t10\n",
            "6\t|\t10\n",
            "7\t|\t10\n",
            "8\t|\t10\n",
            "9\t|\t10\n",
            "10\t|\t10\n"
          ]
        }
      ]
    },
    {
      "cell_type": "markdown",
      "metadata": {
        "id": "HnT8VL1OL5l2"
      },
      "source": [
        "## For \n",
        "Python's for-loop is used in the iteration over a sequence or other iterable objects list, tuple, string. It is termed transverse through a series."
      ]
    },
    {
      "cell_type": "code",
      "metadata": {
        "colab": {
          "base_uri": "https://localhost:8080/"
        },
        "id": "NRS3I4yyL70x",
        "outputId": "cea8bf54-a123-4fa0-9b52-37d0f9dbe2d5"
      },
      "source": [
        "# for(int = 0); i<10; i++){\n",
        "# printf(i)   \n",
        "# }\n",
        "\n",
        "i = 0\n",
        "for i in range(11):\n",
        "  print(i)"
      ],
      "execution_count": null,
      "outputs": [
        {
          "output_type": "stream",
          "name": "stdout",
          "text": [
            "0\n",
            "1\n",
            "2\n",
            "3\n",
            "4\n",
            "5\n",
            "6\n",
            "7\n",
            "8\n",
            "9\n",
            "10\n"
          ]
        }
      ]
    },
    {
      "cell_type": "code",
      "metadata": {
        "colab": {
          "base_uri": "https://localhost:8080/"
        },
        "id": "GYOqPn7GM3zA",
        "outputId": "254e3d76-7d2c-421b-b72e-7f74d750a4b0"
      },
      "source": [
        "playlist = [\"Bahay Kubo\", \"Magandang Kanta\", \"Buko\"]\n",
        "print('Now Playing:\\n')\n",
        "for song in playlist:\n",
        "  print(song)"
      ],
      "execution_count": null,
      "outputs": [
        {
          "output_type": "stream",
          "name": "stdout",
          "text": [
            "Now Playing:\n",
            "\n",
            "Bahay Kubo\n",
            "Magandang Kanta\n",
            "Buko\n"
          ]
        }
      ]
    },
    {
      "cell_type": "markdown",
      "metadata": {
        "id": "T4GJvtquNV34"
      },
      "source": [
        "###Flow Control\n",
        "Flow control in Python programming is the order in which statements or code blocks are executed in a given runtime."
      ]
    },
    {
      "cell_type": "markdown",
      "metadata": {
        "id": "zFO7VyzxNYN1"
      },
      "source": [
        "condition statements"
      ]
    },
    {
      "cell_type": "code",
      "metadata": {
        "colab": {
          "base_uri": "https://localhost:8080/"
        },
        "id": "Q8k2aZYsNapV",
        "outputId": "d24846f1-7c96-4648-d01b-ec92ae232805"
      },
      "source": [
        "num_1, num_2 = 14, 12\n",
        "if(num_1 == num_2):\n",
        "  print(\"HAHA\")\n",
        "elif(num_1>num_2):\n",
        "  print(\"HOHO\")\n",
        "else:\n",
        "  print(\"HUHU\")  \n"
      ],
      "execution_count": null,
      "outputs": [
        {
          "output_type": "stream",
          "name": "stdout",
          "text": [
            "HOHO\n"
          ]
        }
      ]
    },
    {
      "cell_type": "markdown",
      "metadata": {
        "id": "mEzZ_2JmOBWw"
      },
      "source": [
        "###Functions\n",
        "Functions are a good method to split your code into useful pieces, so that we can arrange our code, reuse it, read it, and save time. Functions are also an important technique to build interfaces to allow programmers to share their code."
      ]
    },
    {
      "cell_type": "code",
      "metadata": {
        "id": "uP3Le54DOC-T"
      },
      "source": [
        "# void DeleteUser (int userid){\n",
        "# delete(userid);\n",
        "#}\n",
        "\n",
        "def delete_user (userid):\n",
        "  print(\"Succsessfully deleted user {}\". format(userid))"
      ],
      "execution_count": null,
      "outputs": []
    },
    {
      "cell_type": "code",
      "metadata": {
        "colab": {
          "base_uri": "https://localhost:8080/"
        },
        "id": "3h2szkHlOgsL",
        "outputId": "e9fc2df4-eb99-4706-a270-710858e5d114"
      },
      "source": [
        "userid = 2020_100100\n",
        "delete_user(2020_100100)"
      ],
      "execution_count": null,
      "outputs": [
        {
          "output_type": "stream",
          "name": "stdout",
          "text": [
            "Succsessfully deleted user 2020100100\n"
          ]
        }
      ]
    },
    {
      "cell_type": "code",
      "metadata": {
        "id": "p6fEhFjTO-5p"
      },
      "source": [
        "added1, added2 = 5, 6"
      ],
      "execution_count": null,
      "outputs": []
    },
    {
      "cell_type": "code",
      "metadata": {
        "id": "jZ_Yp7MnO0iP"
      },
      "source": [
        "def add(added1, added2):\n",
        "  sum =added1 + added2\n",
        "  return sum"
      ],
      "execution_count": null,
      "outputs": []
    },
    {
      "cell_type": "code",
      "metadata": {
        "colab": {
          "base_uri": "https://localhost:8080/"
        },
        "id": "TgfG0Mh-PuFg",
        "outputId": "6fd2694d-bd7d-42d7-ccec-c8caedea9dfb"
      },
      "source": [
        "add(5, 4)"
      ],
      "execution_count": null,
      "outputs": [
        {
          "output_type": "execute_result",
          "data": {
            "text/plain": [
              "9"
            ]
          },
          "metadata": {},
          "execution_count": 154
        }
      ]
    },
    {
      "cell_type": "markdown",
      "metadata": {
        "id": "_ANDGTsok19T"
      },
      "source": [
        "###References\n",
        "\n",
        "Python Course (2021).(https://geek-university.com/python)\n",
        "\n",
        "The Secret of Comparators | Comparison Operators in Python (2021).(https://www.pythonpool.com/python-comparators/)\n",
        "\n",
        "Python Input and Output Statements(2021).(https://chercher.tech/python-programming/python-inputs-and-outputs)\n",
        "\n",
        "Python - Loops(2021).(https://www.tutorialspoint.com/python/python_loops.htm)\n",
        "\n",
        "Python While Loop(2021).(https://www.geeksforgeeks.org/python-while-loop/)\n",
        "\n",
        "For Loops in Python: Definition & Examples(2021).(https://study.com/academy/\n",
        "\n",
        "lesson/for-loops-in-python-definition-examples.html)\n",
        "\n"
      ]
    },
    {
      "cell_type": "markdown",
      "metadata": {
        "id": "DQo4y5LtG5bD"
      },
      "source": [
        "![image](https://upload.wikimedia.org/wikipedia/commons/thumb/0/0a/Python.svg/1024px-Python.svg.png)"
      ]
    },
    {
      "cell_type": "markdown",
      "metadata": {
        "id": "oHo16nilThAy"
      },
      "source": [
        ""
      ]
    }
  ]
}