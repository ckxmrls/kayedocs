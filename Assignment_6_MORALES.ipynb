{
  "nbformat": 4,
  "nbformat_minor": 0,
  "metadata": {
    "colab": {
      "name": "Assignment 6_MORALES.ipynb",
      "provenance": [],
      "authorship_tag": "ABX9TyMzUUm3aTxO9/da2A6xanC7",
      "include_colab_link": true
    },
    "kernelspec": {
      "name": "python3",
      "display_name": "Python 3"
    },
    "language_info": {
      "name": "python"
    }
  },
  "cells": [
    {
      "cell_type": "markdown",
      "metadata": {
        "id": "view-in-github",
        "colab_type": "text"
      },
      "source": [
        "<a href=\"https://colab.research.google.com/github/ckxmrls/kayedocs/blob/main/Assignment_6_MORALES.ipynb\" target=\"_parent\"><img src=\"https://colab.research.google.com/assets/colab-badge.svg\" alt=\"Open In Colab\"/></a>"
      ]
    },
    {
      "cell_type": "markdown",
      "metadata": {
        "id": "wIZA568sEgSt"
      },
      "source": [
        "## Linear Algebra for ECE"
      ]
    },
    {
      "cell_type": "markdown",
      "metadata": {
        "id": "bOppjaomFLbh"
      },
      "source": [
        "###Laboratory 6: Matrix Operations"
      ]
    },
    {
      "cell_type": "markdown",
      "metadata": {
        "id": "Mfy_atOGFOVS"
      },
      "source": [
        "Now that you have a fundamental knowledge about representing and operating with vectors as well as the fundamentals of matrices, we'll try to the same operations with matrices and even more."
      ]
    },
    {
      "cell_type": "markdown",
      "metadata": {
        "id": "5RhD70kQFvyk"
      },
      "source": [
        "###Objectives\n",
        "At the end of this activity you will be able to:\n",
        "\n",
        "1.   Be familiar with the fundamental matrix operations.\n",
        "2.   Apply the operations to solve intemediate equations.\n",
        "3.   Apply algebra in engineering solutions.\n",
        "\n"
      ]
    },
    {
      "cell_type": "markdown",
      "metadata": {
        "id": "FI9nJzfqG7t2"
      },
      "source": [
        "### Discussion"
      ]
    },
    {
      "cell_type": "code",
      "metadata": {
        "id": "OrNVVsXxExl2"
      },
      "source": [
        "import numpy as np\n",
        "import matplotlib.pyplot as plt\n",
        "%matplotlib inline"
      ],
      "execution_count": 2,
      "outputs": []
    },
    {
      "cell_type": "markdown",
      "metadata": {
        "id": "G2XB7GCuHK6X"
      },
      "source": [
        "### Transposition"
      ]
    },
    {
      "cell_type": "markdown",
      "metadata": {
        "id": "9K_yMeFLHQB8"
      },
      "source": [
        "One of the fundamental operations in matrix algebra is Transposition. The transpose of a matrix is doneby flipping the values of its elementsover its diagonals. \n",
        "$A^T$"
      ]
    },
    {
      "cell_type": "markdown",
      "metadata": {
        "id": "jlaeAxD0IJnA"
      },
      "source": [
        "$$A = \\begin{bmatrix} 1 & 2 & 5\\\\5 & -1 &0 \\\\ 0 & -3 & 3\\end{bmatrix} $$\n",
        "\n",
        "This can now be achieved programmatically by using np.transpose() or using the T method."
      ]
    },
    {
      "cell_type": "code",
      "metadata": {
        "colab": {
          "base_uri": "https://localhost:8080/"
        },
        "id": "uUIUZKMmIPQc",
        "outputId": "3595e456-8e71-416b-dbc0-b8ce11f13d37"
      },
      "source": [
        "A = np.array([\n",
        "              [1, 2, 5],\n",
        "              [5, -1, 0],\n",
        "              [0, -3, 3]\n",
        "])\n",
        "A"
      ],
      "execution_count": null,
      "outputs": [
        {
          "output_type": "execute_result",
          "data": {
            "text/plain": [
              "array([[ 1,  2,  5],\n",
              "       [ 5, -1,  0],\n",
              "       [ 0, -3,  3]])"
            ]
          },
          "metadata": {},
          "execution_count": 3
        }
      ]
    },
    {
      "cell_type": "code",
      "metadata": {
        "colab": {
          "base_uri": "https://localhost:8080/"
        },
        "id": "mkXxArMjJeLU",
        "outputId": "b9ace19d-76c7-4952-aaaf-366c27105335"
      },
      "source": [
        "AT1 = np.transpose(A)\n",
        "AT1"
      ],
      "execution_count": null,
      "outputs": [
        {
          "output_type": "execute_result",
          "data": {
            "text/plain": [
              "array([[ 1,  5,  0],\n",
              "       [ 2, -1, -3],\n",
              "       [ 5,  0,  3]])"
            ]
          },
          "metadata": {},
          "execution_count": 4
        }
      ]
    },
    {
      "cell_type": "code",
      "metadata": {
        "colab": {
          "base_uri": "https://localhost:8080/"
        },
        "id": "dY6K_T8DKV1G",
        "outputId": "4e6c6cea-0fc1-4362-a97f-8d1f0d182f5c"
      },
      "source": [
        "AT2 = A.T\n",
        "AT2"
      ],
      "execution_count": null,
      "outputs": [
        {
          "output_type": "execute_result",
          "data": {
            "text/plain": [
              "array([[ 1,  5,  0],\n",
              "       [ 2, -1, -3],\n",
              "       [ 5,  0,  3]])"
            ]
          },
          "metadata": {},
          "execution_count": 5
        }
      ]
    },
    {
      "cell_type": "code",
      "metadata": {
        "colab": {
          "base_uri": "https://localhost:8080/"
        },
        "id": "t3tGWmvOKejV",
        "outputId": "fc601633-2307-4a25-8127-895ddaec93ed"
      },
      "source": [
        "np.array_equiv(AT1, AT2)"
      ],
      "execution_count": null,
      "outputs": [
        {
          "output_type": "execute_result",
          "data": {
            "text/plain": [
              "True"
            ]
          },
          "metadata": {},
          "execution_count": 7
        }
      ]
    },
    {
      "cell_type": "code",
      "metadata": {
        "colab": {
          "base_uri": "https://localhost:8080/"
        },
        "id": "C9HXQhViKnCE",
        "outputId": "301613ba-313e-4ed9-dbc5-2337097d4b3c"
      },
      "source": [
        "B = np.array([\n",
        "              [1,2,3,4],\n",
        "              [1,0,2,1],\n",
        "])\n",
        "B.shape"
      ],
      "execution_count": null,
      "outputs": [
        {
          "output_type": "execute_result",
          "data": {
            "text/plain": [
              "(2, 4)"
            ]
          },
          "metadata": {},
          "execution_count": 6
        }
      ]
    },
    {
      "cell_type": "code",
      "metadata": {
        "colab": {
          "base_uri": "https://localhost:8080/"
        },
        "id": "w9ZAAvDEK3xE",
        "outputId": "3e50f31a-6a53-4b1b-e64a-2246394f7959"
      },
      "source": [
        "np.transpose(B).shape"
      ],
      "execution_count": null,
      "outputs": [
        {
          "output_type": "execute_result",
          "data": {
            "text/plain": [
              "(4, 2)"
            ]
          },
          "metadata": {},
          "execution_count": 8
        }
      ]
    },
    {
      "cell_type": "code",
      "metadata": {
        "colab": {
          "base_uri": "https://localhost:8080/"
        },
        "id": "fsr_amERK8xU",
        "outputId": "0413fe2b-7472-448d-a647-ccf2cf18e9d2"
      },
      "source": [
        "B.T.shape"
      ],
      "execution_count": null,
      "outputs": [
        {
          "output_type": "execute_result",
          "data": {
            "text/plain": [
              "(4, 2)"
            ]
          },
          "metadata": {},
          "execution_count": 9
        }
      ]
    },
    {
      "cell_type": "markdown",
      "metadata": {
        "id": "HiJf_S9BL1Ks"
      },
      "source": [
        "### TRY\n",
        "\n",
        "Try to create your own matrix (you can try non-squares) to test transposition."
      ]
    },
    {
      "cell_type": "code",
      "metadata": {
        "id": "G0qLhpYrL3bU"
      },
      "source": [
        "M=np.array([\n",
        "    [2,1,6],\n",
        "    [1,3,4]        \n",
        "])"
      ],
      "execution_count": null,
      "outputs": []
    },
    {
      "cell_type": "code",
      "metadata": {
        "colab": {
          "base_uri": "https://localhost:8080/"
        },
        "id": "x2EjP88iMEq4",
        "outputId": "2bb57443-77c1-49c6-ba1c-a3b621c9c75e"
      },
      "source": [
        "M.shape"
      ],
      "execution_count": null,
      "outputs": [
        {
          "output_type": "execute_result",
          "data": {
            "text/plain": [
              "(2, 3)"
            ]
          },
          "metadata": {},
          "execution_count": 11
        }
      ]
    },
    {
      "cell_type": "code",
      "metadata": {
        "colab": {
          "base_uri": "https://localhost:8080/"
        },
        "id": "3-mYfabaMHQX",
        "outputId": "cc01495a-aba7-4a13-9bff-9c1e408cb0dd"
      },
      "source": [
        "np.transpose(M).shape"
      ],
      "execution_count": null,
      "outputs": [
        {
          "output_type": "execute_result",
          "data": {
            "text/plain": [
              "(3, 2)"
            ]
          },
          "metadata": {},
          "execution_count": 12
        }
      ]
    },
    {
      "cell_type": "code",
      "metadata": {
        "colab": {
          "base_uri": "https://localhost:8080/"
        },
        "id": "nhvUsZ0JMJo5",
        "outputId": "c57e65c5-b021-4182-9486-c8502cc416e3"
      },
      "source": [
        "M.T.shape"
      ],
      "execution_count": null,
      "outputs": [
        {
          "output_type": "execute_result",
          "data": {
            "text/plain": [
              "(3, 2)"
            ]
          },
          "metadata": {},
          "execution_count": 13
        }
      ]
    },
    {
      "cell_type": "code",
      "metadata": {
        "colab": {
          "base_uri": "https://localhost:8080/"
        },
        "id": "UYQEJ3e2zUvX",
        "outputId": "9db842c4-7f19-4a37-8019-d34edd362158"
      },
      "source": [
        "MT= M.T\n",
        "MT"
      ],
      "execution_count": null,
      "outputs": [
        {
          "output_type": "execute_result",
          "data": {
            "text/plain": [
              "array([[2, 1],\n",
              "       [1, 3],\n",
              "       [6, 4]])"
            ]
          },
          "metadata": {},
          "execution_count": 14
        }
      ]
    },
    {
      "cell_type": "markdown",
      "metadata": {
        "id": "maVhaEzwN4fD"
      },
      "source": [
        "##Dot Product / Inner Product"
      ]
    },
    {
      "cell_type": "markdown",
      "metadata": {
        "id": "QK6OSvI5zqQw"
      },
      "source": [
        "If you recall the dot product from laboratory activity before, we will try to implement the same operation with matrices. In matrix dot product we are going to get the sum of products of the vectors by row-column pairs. So if we have two matrices $X$ and $Y$:\n",
        "\n"
      ]
    },
    {
      "cell_type": "markdown",
      "metadata": {
        "id": "dfPkJaOXzteJ"
      },
      "source": [
        "$$X = \\begin{bmatrix}x_{(0,0)}&amp;x_{(0,1)}\\\\ x_{(1,0)}&amp;x_{(1,1)}\\end{bmatrix}, Y = \\begin{bmatrix}y_{(0,0)}&amp;y_{(0,1)}\\\\ y_{(1,0)}&amp;y_{(1,1)}\\end{bmatrix}$$\n",
        "The dot product will then be computed as:$$X \\cdot Y= \\begin{bmatrix} x_{(0,0)}*y_{(0,0)} + x_{(0,1)}*y_{(1,0)} &amp; x_{(0,0)}*y_{(0,1)} + x_{(0,1)}*y_{(1,1)} \\\\  x_{(1,0)}*y_{(0,0)} + x_{(1,1)}*y_{(1,0)} &amp; x_{(1,0)}*y_{(0,1)} + x_{(1,1)}*y_{(1,1)}\n",
        "\\end{bmatrix}$$\n",
        "\n",
        "So if we assign values to $X$ and $Y$:$$X = \\begin{bmatrix}1&amp;2\\\\ 0&amp;1\\end{bmatrix}, Y = \\begin{bmatrix}-1&amp;0\\\\ 2&amp;2\\end{bmatrix}$$\n",
        "\n",
        "$$X \\cdot Y= \\begin{bmatrix} 1*-1 + 2*2 &amp; 1*0 + 2*2 \\\\  0*-1 + 1*2 &amp; 0*0 + 1*2 \\end{bmatrix} = \\begin{bmatrix} 3 &amp; 4 \\\\2 &amp; 2 \\end{bmatrix}$$\n",
        "This could be achieved programmatically using np.dot(), np.matmul() or the @ operator."
      ]
    },
    {
      "cell_type": "code",
      "metadata": {
        "id": "GgZEVfT1N47I"
      },
      "source": [
        "X = np.array([\n",
        "              [1,2],\n",
        "              [0,1],\n",
        "])\n",
        "Y = np.array([\n",
        "    [-1,0],\n",
        "    [2,2]\n",
        "])"
      ],
      "execution_count": null,
      "outputs": []
    },
    {
      "cell_type": "code",
      "metadata": {
        "colab": {
          "base_uri": "https://localhost:8080/"
        },
        "id": "fMYNaAXmOJyL",
        "outputId": "48db4d71-16a3-4f4d-802e-24b30071372e"
      },
      "source": [
        "np.dot(X,Y)"
      ],
      "execution_count": null,
      "outputs": [
        {
          "output_type": "execute_result",
          "data": {
            "text/plain": [
              "array([[3, 4],\n",
              "       [2, 2]])"
            ]
          },
          "metadata": {},
          "execution_count": 17
        }
      ]
    },
    {
      "cell_type": "code",
      "metadata": {
        "colab": {
          "base_uri": "https://localhost:8080/"
        },
        "id": "Qjaz61-qOSgq",
        "outputId": "61bda84e-110c-4fe2-e2b3-c021dc1be7ef"
      },
      "source": [
        "X.dot(Y)"
      ],
      "execution_count": null,
      "outputs": [
        {
          "output_type": "execute_result",
          "data": {
            "text/plain": [
              "array([[3, 4],\n",
              "       [2, 2]])"
            ]
          },
          "metadata": {},
          "execution_count": 18
        }
      ]
    },
    {
      "cell_type": "code",
      "metadata": {
        "colab": {
          "base_uri": "https://localhost:8080/"
        },
        "id": "nJZbY4T5OX54",
        "outputId": "551948af-dda7-4130-be14-fad0500884a9"
      },
      "source": [
        "X @ Y"
      ],
      "execution_count": null,
      "outputs": [
        {
          "output_type": "execute_result",
          "data": {
            "text/plain": [
              "array([[3, 4],\n",
              "       [2, 2]])"
            ]
          },
          "metadata": {},
          "execution_count": 19
        }
      ]
    },
    {
      "cell_type": "code",
      "metadata": {
        "colab": {
          "base_uri": "https://localhost:8080/"
        },
        "id": "u7getUyYOboH",
        "outputId": "911aebcf-ab87-411f-e172-e9b3edf9889c"
      },
      "source": [
        "np.matmul(X,Y)"
      ],
      "execution_count": null,
      "outputs": [
        {
          "output_type": "execute_result",
          "data": {
            "text/plain": [
              "array([[3, 4],\n",
              "       [2, 2]])"
            ]
          },
          "metadata": {},
          "execution_count": 20
        }
      ]
    },
    {
      "cell_type": "markdown",
      "metadata": {
        "id": "R1udNcin1uxe"
      },
      "source": [
        "In matrix dot products there are additional rules compared with vector dot products. Since vector dot products were just in one dimension there are less restrictions. Since now we are dealing with Rank 2 vectors we need to consider some rules:"
      ]
    },
    {
      "cell_type": "markdown",
      "metadata": {
        "id": "BRGIVmgE1vs_"
      },
      "source": [
        "##Rule 1: The inner dimensions of the two matrices in question must be the same."
      ]
    },
    {
      "cell_type": "markdown",
      "metadata": {
        "id": "W9kIQlJM1yvK"
      },
      "source": [
        "So given a matrix $A$ with a shape of $(a,b)$ where $a$ and $b$ are any integers. If we want to do a dot product between $A$ and another matrix $B$, then matrix $B$ should have a shape of $(b,c)$ where $b$ and $c$ are any integers. So for given the following matrices:\n",
        "\n",
        "$$A = \\begin{bmatrix}2&amp;4\\\\5&amp;-2\\\\0&amp;1\\end{bmatrix}, B = \\begin{bmatrix}1&amp;1\\\\3&amp;3\\\\-1&amp;-2\\end{bmatrix}, C = \\begin{bmatrix}0&amp;1&amp;1\\\\1&amp;1&amp;2\\end{bmatrix}$$\n",
        "So in this case $A$ has a shape of $(3,2)$, $B$ has a shape of $(3,2)$ and $C$ has a shape of $(2,3)$. So the only matrix pairs that is eligible to perform dot product is matrices $A \\cdot C$, or $B \\cdot C$."
      ]
    },
    {
      "cell_type": "code",
      "metadata": {
        "id": "1nWBD8boOr2w"
      },
      "source": [
        "C = np.array([\n",
        "              [1,2,3],\n",
        "              [0,1,2],\n",
        "              [2,1,0]\n",
        "])\n",
        "K = np.array([\n",
        "    [-1,0,1],\n",
        "    [2,2,2],\n",
        "    [1,2,3]\n",
        "])"
      ],
      "execution_count": null,
      "outputs": []
    },
    {
      "cell_type": "code",
      "metadata": {
        "colab": {
          "base_uri": "https://localhost:8080/"
        },
        "id": "KF_VKq2BO85l",
        "outputId": "d5a65bd4-7c31-4dff-bf44-af3377be6b5e"
      },
      "source": [
        "np.dot(C,K)"
      ],
      "execution_count": null,
      "outputs": [
        {
          "output_type": "execute_result",
          "data": {
            "text/plain": [
              "array([[ 6, 10, 14],\n",
              "       [ 4,  6,  8],\n",
              "       [ 0,  2,  4]])"
            ]
          },
          "metadata": {},
          "execution_count": 34
        }
      ]
    },
    {
      "cell_type": "code",
      "metadata": {
        "colab": {
          "base_uri": "https://localhost:8080/"
        },
        "id": "Z-5guYOvPDVG",
        "outputId": "088261a6-a5f9-43d5-ac4c-1caeb30d7c93"
      },
      "source": [
        "C.dot(K)"
      ],
      "execution_count": null,
      "outputs": [
        {
          "output_type": "execute_result",
          "data": {
            "text/plain": [
              "array([[ 6, 10, 14],\n",
              "       [ 4,  6,  8],\n",
              "       [ 0,  2,  4]])"
            ]
          },
          "metadata": {},
          "execution_count": 40
        }
      ]
    },
    {
      "cell_type": "code",
      "metadata": {
        "colab": {
          "base_uri": "https://localhost:8080/"
        },
        "id": "ExYWvZb5PbrI",
        "outputId": "bac28815-c461-44b5-96bb-605a4496c79c"
      },
      "source": [
        "C @ K"
      ],
      "execution_count": null,
      "outputs": [
        {
          "output_type": "execute_result",
          "data": {
            "text/plain": [
              "array([[ 6, 10, 14],\n",
              "       [ 4,  6,  8],\n",
              "       [ 0,  2,  4]])"
            ]
          },
          "metadata": {},
          "execution_count": 41
        }
      ]
    },
    {
      "cell_type": "code",
      "metadata": {
        "colab": {
          "base_uri": "https://localhost:8080/"
        },
        "id": "F_pksK_DPgp-",
        "outputId": "ddb2d266-0fcb-46a4-c5b6-10c0e8e80dad"
      },
      "source": [
        "np.matmul(C,K)"
      ],
      "execution_count": null,
      "outputs": [
        {
          "output_type": "execute_result",
          "data": {
            "text/plain": [
              "array([[ 6, 10, 14],\n",
              "       [ 4,  6,  8],\n",
              "       [ 0,  2,  4]])"
            ]
          },
          "metadata": {},
          "execution_count": 42
        }
      ]
    },
    {
      "cell_type": "markdown",
      "metadata": {
        "id": "HfJ8FmEXP2kc"
      },
      "source": [
        "##Rule 2: Dot Product has special properties\n"
      ]
    },
    {
      "cell_type": "markdown",
      "metadata": {
        "id": "x0rvsdlw23DG"
      },
      "source": [
        "Dot products are prevalent in matrix algebra, this implies that it has several unique properties and it should be considered when formulation solutions:\n",
        "\n",
        "\n",
        "1.   $A \\cdot B \\neq B \\cdot A$\n",
        "2.   $A \\cdot (B \\cdot C) = (A \\cdot B) \\cdot C$\n",
        "3. $A\\cdot(B+C) = A\\cdot B + A\\cdot C$\n",
        "4. $(B+C)\\cdot A = B\\cdot A + C\\cdot A$\n",
        "5. $A\\cdot I = A$\n",
        "6. $A\\cdot \\emptyset = \\emptyset$\n",
        "\n",
        "I'll be doing just one of the properties and I'll leave the rest to test your skills!"
      ]
    },
    {
      "cell_type": "code",
      "metadata": {
        "colab": {
          "base_uri": "https://localhost:8080/"
        },
        "id": "sRGIoADcQyOy",
        "outputId": "14a586f5-d681-40da-dbc6-2f7e12d5a4e7"
      },
      "source": [
        "M = np.array([\n",
        "              [1,2],\n",
        "              [6, -2],\n",
        "              [5,3]\n",
        "])\n",
        "E = np.array([\n",
        "              [2,4],\n",
        "              [8,7],\n",
        "              [-4, -9]\n",
        "])\n",
        "B = np.array([\n",
        "              [0,1,2],\n",
        "              [9,1,1]\n",
        "])\n",
        "print(M.shape)\n",
        "print(E.shape)\n",
        "print(B.shape)"
      ],
      "execution_count": null,
      "outputs": [
        {
          "output_type": "stream",
          "name": "stdout",
          "text": [
            "(3, 2)\n",
            "(3, 2)\n",
            "(2, 3)\n"
          ]
        }
      ]
    },
    {
      "cell_type": "code",
      "metadata": {
        "colab": {
          "base_uri": "https://localhost:8080/"
        },
        "id": "vD0dew175lBw",
        "outputId": "af968006-2e60-4553-cc03-98632393aa70"
      },
      "source": [
        "np.eye(3)"
      ],
      "execution_count": null,
      "outputs": [
        {
          "output_type": "execute_result",
          "data": {
            "text/plain": [
              "array([[1., 0., 0.],\n",
              "       [0., 1., 0.],\n",
              "       [0., 0., 1.]])"
            ]
          },
          "metadata": {},
          "execution_count": 26
        }
      ]
    },
    {
      "cell_type": "code",
      "metadata": {
        "colab": {
          "base_uri": "https://localhost:8080/"
        },
        "id": "jfE5C5dL8ZFw",
        "outputId": "80a69148-060c-4956-cde3-33629dedb7d9"
      },
      "source": [
        "M.dot(np.eye(3))"
      ],
      "execution_count": null,
      "outputs": [
        {
          "output_type": "execute_result",
          "data": {
            "text/plain": [
              "array([[2., 1., 6.],\n",
              "       [1., 3., 4.]])"
            ]
          },
          "metadata": {},
          "execution_count": 27
        }
      ]
    },
    {
      "cell_type": "code",
      "metadata": {
        "colab": {
          "base_uri": "https://localhost:8080/"
        },
        "id": "xPgYECoCRsTy",
        "outputId": "d667f860-e6a2-41bb-8b90-a213051da5b1"
      },
      "source": [
        "M @ B"
      ],
      "execution_count": null,
      "outputs": [
        {
          "output_type": "execute_result",
          "data": {
            "text/plain": [
              "array([[ 18,   3,   4],\n",
              "       [-18,   4,  10],\n",
              "       [ 27,   8,  13]])"
            ]
          },
          "metadata": {},
          "execution_count": 44
        }
      ]
    },
    {
      "cell_type": "code",
      "metadata": {
        "colab": {
          "base_uri": "https://localhost:8080/"
        },
        "id": "Q6Vka2rARx-A",
        "outputId": "06bbc967-beb3-4064-cafb-189be9c1295c"
      },
      "source": [
        "E @ B"
      ],
      "execution_count": null,
      "outputs": [
        {
          "output_type": "execute_result",
          "data": {
            "text/plain": [
              "array([[ 36,   6,   8],\n",
              "       [ 63,  15,  23],\n",
              "       [-81, -13, -17]])"
            ]
          },
          "metadata": {},
          "execution_count": 45
        }
      ]
    },
    {
      "cell_type": "code",
      "metadata": {
        "colab": {
          "base_uri": "https://localhost:8080/",
          "height": 178
        },
        "id": "eVwcNdPrR05x",
        "outputId": "2af265f5-3343-4b78-c153-3d28d21332e3"
      },
      "source": [
        "M @ E"
      ],
      "execution_count": null,
      "outputs": [
        {
          "output_type": "error",
          "ename": "ValueError",
          "evalue": "ignored",
          "traceback": [
            "\u001b[0;31m---------------------------------------------------------------------------\u001b[0m",
            "\u001b[0;31mValueError\u001b[0m                                Traceback (most recent call last)",
            "\u001b[0;32m<ipython-input-34-7273974734c0>\u001b[0m in \u001b[0;36m<module>\u001b[0;34m()\u001b[0m\n\u001b[0;32m----> 1\u001b[0;31m \u001b[0mM\u001b[0m \u001b[0;34m@\u001b[0m \u001b[0mE\u001b[0m\u001b[0;34m\u001b[0m\u001b[0;34m\u001b[0m\u001b[0m\n\u001b[0m",
            "\u001b[0;31mValueError\u001b[0m: matmul: Input operand 1 has a mismatch in its core dimension 0, with gufunc signature (n?,k),(k,m?)->(n?,m?) (size 3 is different from 2)"
          ]
        }
      ]
    },
    {
      "cell_type": "code",
      "metadata": {
        "colab": {
          "base_uri": "https://localhost:8080/"
        },
        "id": "Z27j7bnfSFdc",
        "outputId": "3486b9ee-a41a-4871-a102-f1b0778d5a87"
      },
      "source": [
        "X = np.array([\n",
        "              [1,2,3,0]\n",
        "])\n",
        "Y = np.array([\n",
        "             [1,0,4,-1] \n",
        "])\n",
        "print(X.shape)\n",
        "print(Y.shape)"
      ],
      "execution_count": null,
      "outputs": [
        {
          "output_type": "stream",
          "name": "stdout",
          "text": [
            "(1, 4)\n",
            "(1, 4)\n"
          ]
        }
      ]
    },
    {
      "cell_type": "code",
      "metadata": {
        "colab": {
          "base_uri": "https://localhost:8080/"
        },
        "id": "dh7Rf4SJSy8M",
        "outputId": "556b3471-7791-4750-f449-7f089ab86ca3"
      },
      "source": [
        "Y.T@ X"
      ],
      "execution_count": null,
      "outputs": [
        {
          "output_type": "execute_result",
          "data": {
            "text/plain": [
              "array([[ 1,  2,  3,  0],\n",
              "       [ 0,  0,  0,  0],\n",
              "       [ 4,  8, 12,  0],\n",
              "       [-1, -2, -3,  0]])"
            ]
          },
          "metadata": {},
          "execution_count": 48
        }
      ]
    },
    {
      "cell_type": "code",
      "metadata": {
        "colab": {
          "base_uri": "https://localhost:8080/"
        },
        "id": "oExcL5l4S373",
        "outputId": "89938e77-74aa-4bfb-9801-b1e7416f40e6"
      },
      "source": [
        "X @ Y.T"
      ],
      "execution_count": null,
      "outputs": [
        {
          "output_type": "execute_result",
          "data": {
            "text/plain": [
              "array([[13]])"
            ]
          },
          "metadata": {},
          "execution_count": 49
        }
      ]
    },
    {
      "cell_type": "markdown",
      "metadata": {
        "id": "Oymja-t2S7uf"
      },
      "source": [
        ""
      ]
    },
    {
      "cell_type": "code",
      "metadata": {
        "colab": {
          "base_uri": "https://localhost:8080/"
        },
        "id": "ml_25_OlS8CQ",
        "outputId": "b0c3285d-0389-4adf-e183-641e0b8a6b5a"
      },
      "source": [
        "A = np.array([\n",
        "              [4,2,1],\n",
        "              [5,4,1],\n",
        "              [2,1,3]\n",
        "])\n",
        "M= np.array([\n",
        "             [3,5,7],\n",
        "             [6,1,7],\n",
        "             [3,1,8]\n",
        "           \n",
        "\n",
        "])\n",
        "P= np.array([\n",
        "             [1,1,8],\n",
        "             [0,1,1],\n",
        "             [1,9,1]\n",
        "])\n",
        "print(A.shape)\n",
        "print(M.shape)\n",
        "print(P.shape)\n",
        "\n"
      ],
      "execution_count": null,
      "outputs": [
        {
          "output_type": "stream",
          "name": "stdout",
          "text": [
            "(3, 3)\n",
            "(3, 3)\n",
            "(3, 3)\n"
          ]
        }
      ]
    },
    {
      "cell_type": "code",
      "metadata": {
        "colab": {
          "base_uri": "https://localhost:8080/"
        },
        "id": "SJjLNnAIW8HR",
        "outputId": "56c83a3b-7663-4793-bcef-833356a1c06e"
      },
      "source": [
        "A1 = A @ M\n",
        "A1"
      ],
      "execution_count": null,
      "outputs": [
        {
          "output_type": "execute_result",
          "data": {
            "text/plain": [
              "array([[27, 23, 50],\n",
              "       [42, 30, 71],\n",
              "       [21, 14, 45]])"
            ]
          },
          "metadata": {},
          "execution_count": 61
        }
      ]
    },
    {
      "cell_type": "code",
      "metadata": {
        "colab": {
          "base_uri": "https://localhost:8080/"
        },
        "id": "y-coPHm2XR8G",
        "outputId": "982e31bf-8d1b-4464-9767-feb7dc222091"
      },
      "source": [
        "A2 = M @ A\n",
        "A2"
      ],
      "execution_count": null,
      "outputs": [
        {
          "output_type": "execute_result",
          "data": {
            "text/plain": [
              "array([[51, 33, 29],\n",
              "       [43, 23, 28],\n",
              "       [33, 18, 28]])"
            ]
          },
          "metadata": {},
          "execution_count": 62
        }
      ]
    },
    {
      "cell_type": "code",
      "metadata": {
        "colab": {
          "base_uri": "https://localhost:8080/"
        },
        "id": "VddVUyQCXaVV",
        "outputId": "af8ceba1-a937-424e-860a-d76207c431de"
      },
      "source": [
        "np.array_equiv(A1,A2)"
      ],
      "execution_count": null,
      "outputs": [
        {
          "output_type": "execute_result",
          "data": {
            "text/plain": [
              "False"
            ]
          },
          "metadata": {},
          "execution_count": 63
        }
      ]
    },
    {
      "cell_type": "markdown",
      "metadata": {
        "id": "XnoLnK_lDO8R"
      },
      "source": [
        "##Determinant"
      ]
    },
    {
      "cell_type": "markdown",
      "metadata": {
        "id": "nKmXP0jFDR4l"
      },
      "source": [
        "A determinant is a scalar value derived from a square matrix. The determinant is a fundamental and important value used in matrix algebra. Although it will not be evident in this laboratory on how it can be used practically, but it will be reatly used in future lessons.\n",
        "\n",
        "The determinant of some matrix $A$ is denoted as $det(A)$ or $|A|$. So let's say $A$ is represented as:$$A = \\begin{bmatrix}a_{(0,0)}&amp;a_{(0,1)}\\\\a_{(1,0)}&amp;a_{(1,1)}\\end{bmatrix}$$We can compute for the determinant as:$$|A| = a_{(0,0)}*a_{(1,1)} - a_{(1,0)}*a_{(0,1)}$$So if we have $A$ as:$$A = \\begin{bmatrix}1&amp;4\\\\0&amp;3\\end{bmatrix}, |A| = 3$$\n",
        "\n",
        "But you might wonder how about square matrices beyond the shape $(2,2)$? We can approach this problem by using several methods such as co-factor expansion and the minors method. This can be taught in the lecture of the laboratory but we can achieve the strenuous computation of high-dimensional matrices programmatically using Python. We can achieve this by using np.linalg.det()."
      ]
    },
    {
      "cell_type": "code",
      "metadata": {
        "colab": {
          "base_uri": "https://localhost:8080/"
        },
        "id": "-bycP85WDWf0",
        "outputId": "ed54ea9d-87c3-4207-b8c6-d3920c9eef50"
      },
      "source": [
        "A = np.array([\n",
        "    [1,4],\n",
        "    [0,3]\n",
        "])\n",
        "np.linalg.det(A)"
      ],
      "execution_count": null,
      "outputs": [
        {
          "output_type": "execute_result",
          "data": {
            "text/plain": [
              "3.0000000000000004"
            ]
          },
          "metadata": {},
          "execution_count": 35
        }
      ]
    },
    {
      "cell_type": "code",
      "metadata": {
        "colab": {
          "base_uri": "https://localhost:8080/"
        },
        "id": "dv7-Y_4nDad2",
        "outputId": "5464e436-6782-4ad5-f694-3465d508e565"
      },
      "source": [
        "B = np.array([\n",
        "              [1, 5, 2],\n",
        "              [3, -1 ,-1],\n",
        "              [0, -2, 1]\n",
        "])\n",
        "np.linalg.det(B)"
      ],
      "execution_count": null,
      "outputs": [
        {
          "output_type": "execute_result",
          "data": {
            "text/plain": [
              "-30.000000000000014"
            ]
          },
          "metadata": {},
          "execution_count": 36
        }
      ]
    },
    {
      "cell_type": "code",
      "metadata": {
        "colab": {
          "base_uri": "https://localhost:8080/"
        },
        "id": "NV4raiN9DdTV",
        "outputId": "7c35e66b-6242-4889-9c93-a6ac4255c2cf"
      },
      "source": [
        "B = np.array([\n",
        "    [1,3,5,6],\n",
        "    [0,3,1,3],\n",
        "    [3,1,8,2],\n",
        "    [5,2,6,8]\n",
        "])\n",
        "np.linalg.det(B)"
      ],
      "execution_count": null,
      "outputs": [
        {
          "output_type": "execute_result",
          "data": {
            "text/plain": [
              "-235.0000000000002"
            ]
          },
          "metadata": {},
          "execution_count": 37
        }
      ]
    },
    {
      "cell_type": "markdown",
      "metadata": {
        "id": "YYRVY_RnDiWw"
      },
      "source": [
        "## Inverse"
      ]
    },
    {
      "cell_type": "markdown",
      "metadata": {
        "id": "tLICLvmgDlc-"
      },
      "source": [
        "The inverse of a matrix is another fundamental operation in matrix algebra. Determining the inverse of a matrix let us determine if its solvability and its characteristic as a system of linear equation — we'll expand on this in the nect module. Another use of the inverse matrix is solving the problem of divisibility between matrices. Although element-wise division exists but dividing the entire concept of matrices does not exists. Inverse matrices provides a related operation that could have the same concept of \"dividing\" matrices.\n",
        "\n",
        "Now to determine the inverse of a matrix we need to perform several steps. So let's say we have a matrix $M$:$$M = \\begin{bmatrix}1&amp;7\\\\-3&amp;5\\end{bmatrix}$$First, we need to get the determinant of $M$.$$|M| = (1)(5)-(-3)(7) = 26$$Next, we need to reform the matrix into the inverse form:$$M^{-1} = \\frac{1}{|M|} \\begin{bmatrix} m_{(1,1)} &amp; -m_{(0,1)} \\\\ -m_{(1,0)} &amp; m_{(0,0)}\\end{bmatrix}$$So that will be:$$M^{-1} = \\frac{1}{26} \\begin{bmatrix} 5 &amp; -7 \\\\ 3 &amp; 1\\end{bmatrix} = \\begin{bmatrix} \\frac{5}{26} &amp; \\frac{-7}{26} \\\\ \\frac{3}{26} &amp; \\frac{1}{26}\\end{bmatrix}$$\n",
        "\n",
        "For higher-dimension matrices you might need to use co-factors, minors, adjugates, and other reduction techinques. To solve this programmatially we can use np.linalg.inv()."
      ]
    },
    {
      "cell_type": "code",
      "metadata": {
        "colab": {
          "base_uri": "https://localhost:8080/"
        },
        "id": "gT5fiA1-DuBm",
        "outputId": "1e183f44-430e-4ad4-cc2b-cc84f63f6714"
      },
      "source": [
        "M = np.array([\n",
        "    [1,7],\n",
        "    [-3, 5]\n",
        "])\n",
        "\n",
        "np.array(M @ np.linalg.inv(M), dtype=int)"
      ],
      "execution_count": null,
      "outputs": [
        {
          "output_type": "execute_result",
          "data": {
            "text/plain": [
              "array([[1, 0],\n",
              "       [0, 1]])"
            ]
          },
          "metadata": {},
          "execution_count": 38
        }
      ]
    },
    {
      "cell_type": "code",
      "metadata": {
        "colab": {
          "base_uri": "https://localhost:8080/"
        },
        "id": "g09yqpS0D-3v",
        "outputId": "10db9b66-656c-4dcd-d2b1-0782b4fceae6"
      },
      "source": [
        "P = np.array([\n",
        "              [6, 9, 0],\n",
        "              [4, 2, -1],\n",
        "              [3, 6, 7]\n",
        "])\n",
        "Q = np.linalg.inv(P)\n",
        "Q"
      ],
      "execution_count": null,
      "outputs": [
        {
          "output_type": "execute_result",
          "data": {
            "text/plain": [
              "array([[-0.12578616,  0.39622642,  0.05660377],\n",
              "       [ 0.19496855, -0.26415094, -0.03773585],\n",
              "       [-0.11320755,  0.05660377,  0.1509434 ]])"
            ]
          },
          "metadata": {},
          "execution_count": 39
        }
      ]
    },
    {
      "cell_type": "code",
      "metadata": {
        "colab": {
          "base_uri": "https://localhost:8080/"
        },
        "id": "UvoitpM0EBfi",
        "outputId": "46360a82-d333-4a74-9c3a-a743e467861a"
      },
      "source": [
        "P @ Q"
      ],
      "execution_count": null,
      "outputs": [
        {
          "output_type": "execute_result",
          "data": {
            "text/plain": [
              "array([[ 1.00000000e+00, -5.55111512e-17, -6.93889390e-18],\n",
              "       [ 8.32667268e-17,  1.00000000e+00, -2.77555756e-17],\n",
              "       [ 2.77555756e-17, -1.38777878e-17,  1.00000000e+00]])"
            ]
          },
          "metadata": {},
          "execution_count": 40
        }
      ]
    },
    {
      "cell_type": "code",
      "metadata": {
        "colab": {
          "base_uri": "https://localhost:8080/"
        },
        "id": "qeiajGhXEHpZ",
        "outputId": "8d140d72-0485-49c1-c4fc-f61c7e977873"
      },
      "source": [
        "N = np.array([\n",
        "    [18,5,23,1,0,33,5],\n",
        "    [0,45,0,11,2,4,2],\n",
        "    [5,9,20,0,0,0,3],\n",
        "    [1,6,4,4,8,43,1],\n",
        "    [8,6,8,7,1,6,1],\n",
        "    [-5,15,2,0,0,6,-30],\n",
        "    [-2,-5,1,2,1,20,12],\n",
        "])\n",
        "N_inv = np.linalg.inv(N)\n",
        "np.array(N @ N_inv,dtype=int)"
      ],
      "execution_count": null,
      "outputs": [
        {
          "output_type": "execute_result",
          "data": {
            "text/plain": [
              "array([[0, 0, 0, 0, 0, 0, 0],\n",
              "       [0, 0, 0, 0, 0, 0, 0],\n",
              "       [0, 0, 1, 0, 0, 0, 0],\n",
              "       [0, 0, 0, 1, 0, 0, 0],\n",
              "       [0, 0, 0, 0, 0, 0, 0],\n",
              "       [0, 0, 0, 0, 0, 0, 0],\n",
              "       [0, 0, 0, 0, 0, 0, 1]])"
            ]
          },
          "metadata": {},
          "execution_count": 41
        }
      ]
    },
    {
      "cell_type": "code",
      "metadata": {
        "colab": {
          "base_uri": "https://localhost:8080/"
        },
        "id": "aO0T0yl0EKQC",
        "outputId": "1558641c-6193-4966-b2a6-02feeba39a8c"
      },
      "source": [
        "squad = np.array([\n",
        "    [1.0, 1.0, 0.5],\n",
        "    [0.7, 0.7, 0.9],\n",
        "    [0.3, 0.3, 1.0]\n",
        "])\n",
        "weights = np.array([\n",
        "    [0.2, 0.2, 0.6]\n",
        "])\n",
        "p_grade = squad @ weights.T\n",
        "p_grade"
      ],
      "execution_count": null,
      "outputs": [
        {
          "output_type": "execute_result",
          "data": {
            "text/plain": [
              "array([[0.7 ],\n",
              "       [0.82],\n",
              "       [0.72]])"
            ]
          },
          "metadata": {},
          "execution_count": 44
        }
      ]
    },
    {
      "cell_type": "markdown",
      "metadata": {
        "id": "mFIMZVvhEPVE"
      },
      "source": [
        "# Activity"
      ]
    },
    {
      "cell_type": "markdown",
      "metadata": {
        "id": "_nVIMJNKERpB"
      },
      "source": [
        "##Task 1\n",
        "\n",
        "Prove and implement the remaining 6 matrix multiplication properties. You may create your own matrices in which their shapes should not be lower than $(3,3)$. In your methodology, create individual flowcharts for each property and discuss the property you would then present your proofs or validity of your implementation in the results section by comparing your result to present functions from NumPy."
      ]
    },
    {
      "cell_type": "code",
      "metadata": {
        "id": "e42uOXLOFIoo"
      },
      "source": [
        "import numpy as np\n",
        "import matplotlib.pyplot as plt\n",
        "%matplotlib inline"
      ],
      "execution_count": 7,
      "outputs": []
    },
    {
      "cell_type": "code",
      "metadata": {
        "id": "NIuJS5DD5qAj"
      },
      "source": [
        "C = np.array([\n",
        "              [9,2,1],\n",
        "              [2,0,5],\n",
        "              [0,3,2]\n",
        "])\n",
        "K = np.array([\n",
        "              [1,4,7],\n",
        "              [4,8,6],\n",
        "              [6,3,1]\n",
        "])\n",
        "M = np.array([\n",
        "              [3,5,4],\n",
        "              [7,3,8],\n",
        "              [9,5,1]\n",
        "])"
      ],
      "execution_count": 14,
      "outputs": []
    },
    {
      "cell_type": "markdown",
      "metadata": {
        "id": "V8eRELCw9x7y"
      },
      "source": [
        "$A \\cdot B \\neq B \\cdot A$"
      ]
    },
    {
      "cell_type": "code",
      "metadata": {
        "colab": {
          "base_uri": "https://localhost:8080/"
        },
        "id": "TEHlqpVA9l8g",
        "outputId": "78c15708-dc95-4de3-8d3e-476584940333"
      },
      "source": [
        "np.dot(C,K)"
      ],
      "execution_count": 15,
      "outputs": [
        {
          "output_type": "execute_result",
          "data": {
            "text/plain": [
              "array([[23, 55, 76],\n",
              "       [32, 23, 19],\n",
              "       [24, 30, 20]])"
            ]
          },
          "metadata": {},
          "execution_count": 15
        }
      ]
    },
    {
      "cell_type": "code",
      "metadata": {
        "colab": {
          "base_uri": "https://localhost:8080/"
        },
        "id": "JAQfDn-jFliQ",
        "outputId": "afd2819f-f0c4-4cb3-fb0e-0da80862bb8d"
      },
      "source": [
        "np.dot(K,C)"
      ],
      "execution_count": 16,
      "outputs": [
        {
          "output_type": "execute_result",
          "data": {
            "text/plain": [
              "array([[17, 23, 35],\n",
              "       [52, 26, 56],\n",
              "       [60, 15, 23]])"
            ]
          },
          "metadata": {},
          "execution_count": 16
        }
      ]
    },
    {
      "cell_type": "markdown",
      "metadata": {
        "id": "4fAZ3gtn7600"
      },
      "source": [
        "$A \\cdot (B \\cdot C) = (A \\cdot B) \\cdot C$"
      ]
    },
    {
      "cell_type": "code",
      "metadata": {
        "id": "NSzoyioUG0Dl"
      },
      "source": [
        "X = np.dot(K,M)\n",
        "Y = np.dot(C,K)\n",
        "Q = np.dot(C,X)\n",
        "W = np.dot(Y,M)"
      ],
      "execution_count": 18,
      "outputs": []
    },
    {
      "cell_type": "code",
      "metadata": {
        "colab": {
          "base_uri": "https://localhost:8080/"
        },
        "id": "Q1-ibP0xHFoU",
        "outputId": "ccf051ee-1f1f-4c70-efd0-24a0bba960b0"
      },
      "source": [
        "print(Q)"
      ],
      "execution_count": 19,
      "outputs": [
        {
          "output_type": "stream",
          "name": "stdout",
          "text": [
            "[[1138  660  608]\n",
            " [ 428  324  331]\n",
            " [ 462  310  356]]\n"
          ]
        }
      ]
    },
    {
      "cell_type": "code",
      "metadata": {
        "colab": {
          "base_uri": "https://localhost:8080/"
        },
        "id": "InuYPzynHIeg",
        "outputId": "a086a376-d472-4b70-b8ae-916d26ed5034"
      },
      "source": [
        "print(W)"
      ],
      "execution_count": 20,
      "outputs": [
        {
          "output_type": "stream",
          "name": "stdout",
          "text": [
            "[[1138  660  608]\n",
            " [ 428  324  331]\n",
            " [ 462  310  356]]\n"
          ]
        }
      ]
    },
    {
      "cell_type": "markdown",
      "metadata": {
        "id": "WwPKfV5Q7_HF"
      },
      "source": [
        "$A\\cdot(B+C) = A\\cdot B + A\\cdot C$"
      ]
    },
    {
      "cell_type": "code",
      "metadata": {
        "colab": {
          "base_uri": "https://localhost:8080/"
        },
        "id": "2dLA8iDRHL_I",
        "outputId": "1ab746b7-ce16-42fe-8f08-a646c088201e"
      },
      "source": [
        "D = K + M\n",
        "print(D)"
      ],
      "execution_count": 21,
      "outputs": [
        {
          "output_type": "stream",
          "name": "stdout",
          "text": [
            "[[ 4  9 11]\n",
            " [11 11 14]\n",
            " [15  8  2]]\n"
          ]
        }
      ]
    },
    {
      "cell_type": "code",
      "metadata": {
        "colab": {
          "base_uri": "https://localhost:8080/"
        },
        "id": "fJy3OzSRHWIT",
        "outputId": "0dfdfb0a-1a7a-4030-dcc6-fdc84cc9728b"
      },
      "source": [
        "np.dot(C,D)"
      ],
      "execution_count": 22,
      "outputs": [
        {
          "output_type": "execute_result",
          "data": {
            "text/plain": [
              "array([[ 73, 111, 129],\n",
              "       [ 83,  58,  32],\n",
              "       [ 63,  49,  46]])"
            ]
          },
          "metadata": {},
          "execution_count": 22
        }
      ]
    },
    {
      "cell_type": "code",
      "metadata": {
        "colab": {
          "base_uri": "https://localhost:8080/"
        },
        "id": "6qqvbZ35HaZH",
        "outputId": "bde9e5b2-e132-434b-e162-35bc685e509b"
      },
      "source": [
        "E = np.dot(C,K)\n",
        "print(E)"
      ],
      "execution_count": 23,
      "outputs": [
        {
          "output_type": "stream",
          "name": "stdout",
          "text": [
            "[[23 55 76]\n",
            " [32 23 19]\n",
            " [24 30 20]]\n"
          ]
        }
      ]
    },
    {
      "cell_type": "code",
      "metadata": {
        "colab": {
          "base_uri": "https://localhost:8080/"
        },
        "id": "X-9eIlK-Hfu5",
        "outputId": "ceacf92f-4deb-4c6e-9e77-d90b02e63a1a"
      },
      "source": [
        "F = np.dot(C,K)\n",
        "print(F)"
      ],
      "execution_count": 24,
      "outputs": [
        {
          "output_type": "stream",
          "name": "stdout",
          "text": [
            "[[23 55 76]\n",
            " [32 23 19]\n",
            " [24 30 20]]\n"
          ]
        }
      ]
    },
    {
      "cell_type": "code",
      "metadata": {
        "colab": {
          "base_uri": "https://localhost:8080/"
        },
        "id": "60m6JRJhHmpY",
        "outputId": "d48efdb9-6552-4809-c021-e73d42553e3c"
      },
      "source": [
        "E + F"
      ],
      "execution_count": 25,
      "outputs": [
        {
          "output_type": "execute_result",
          "data": {
            "text/plain": [
              "array([[ 46, 110, 152],\n",
              "       [ 64,  46,  38],\n",
              "       [ 48,  60,  40]])"
            ]
          },
          "metadata": {},
          "execution_count": 25
        }
      ]
    },
    {
      "cell_type": "markdown",
      "metadata": {
        "id": "oc6t_-Kv8DAb"
      },
      "source": [
        "$(B+C)\\cdot A = B\\cdot A + C\\cdot A$"
      ]
    },
    {
      "cell_type": "code",
      "metadata": {
        "colab": {
          "base_uri": "https://localhost:8080/"
        },
        "id": "PaR5DYMUHp7c",
        "outputId": "5ddfe252-c073-4bf9-a2b9-911ccb8f9314"
      },
      "source": [
        "np.dot((K+M),C)"
      ],
      "execution_count": 26,
      "outputs": [
        {
          "output_type": "execute_result",
          "data": {
            "text/plain": [
              "array([[ 54,  41,  71],\n",
              "       [121,  64,  94],\n",
              "       [151,  36,  59]])"
            ]
          },
          "metadata": {},
          "execution_count": 26
        }
      ]
    },
    {
      "cell_type": "code",
      "metadata": {
        "id": "NkfrcqS7Hv0b"
      },
      "source": [
        "S = np.dot(K,C)\n",
        "T = np.dot(M,C)"
      ],
      "execution_count": 28,
      "outputs": []
    },
    {
      "cell_type": "code",
      "metadata": {
        "colab": {
          "base_uri": "https://localhost:8080/"
        },
        "id": "5JT53kkTH41x",
        "outputId": "cf113791-ac24-40b6-e537-1dd50da3e9a4"
      },
      "source": [
        "S + T"
      ],
      "execution_count": 29,
      "outputs": [
        {
          "output_type": "execute_result",
          "data": {
            "text/plain": [
              "array([[ 54,  41,  71],\n",
              "       [121,  64,  94],\n",
              "       [151,  36,  59]])"
            ]
          },
          "metadata": {},
          "execution_count": 29
        }
      ]
    },
    {
      "cell_type": "markdown",
      "metadata": {
        "id": "NWJoLd8T8IOc"
      },
      "source": [
        "$A\\cdot I = A$"
      ]
    },
    {
      "cell_type": "code",
      "metadata": {
        "colab": {
          "base_uri": "https://localhost:8080/"
        },
        "id": "dqjANEY0H7GQ",
        "outputId": "93964f53-770c-4c8e-ecc1-078452a01f14"
      },
      "source": [
        "I = np.eye(3)\n",
        "print(I)"
      ],
      "execution_count": 30,
      "outputs": [
        {
          "output_type": "stream",
          "name": "stdout",
          "text": [
            "[[1. 0. 0.]\n",
            " [0. 1. 0.]\n",
            " [0. 0. 1.]]\n"
          ]
        }
      ]
    },
    {
      "cell_type": "code",
      "metadata": {
        "colab": {
          "base_uri": "https://localhost:8080/"
        },
        "id": "MyAF5xz8H_nD",
        "outputId": "6463213b-44fd-42a4-b28f-43d7faf61f17"
      },
      "source": [
        "print(C)"
      ],
      "execution_count": 32,
      "outputs": [
        {
          "output_type": "stream",
          "name": "stdout",
          "text": [
            "[[9 2 1]\n",
            " [2 0 5]\n",
            " [0 3 2]]\n"
          ]
        }
      ]
    },
    {
      "cell_type": "code",
      "metadata": {
        "colab": {
          "base_uri": "https://localhost:8080/"
        },
        "id": "6lwmdSCPIEX2",
        "outputId": "98c68e35-ce9d-44c2-f97a-29cf9f6fd133"
      },
      "source": [
        "np.dot(C,I)"
      ],
      "execution_count": 33,
      "outputs": [
        {
          "output_type": "execute_result",
          "data": {
            "text/plain": [
              "array([[9., 2., 1.],\n",
              "       [2., 0., 5.],\n",
              "       [0., 3., 2.]])"
            ]
          },
          "metadata": {},
          "execution_count": 33
        }
      ]
    },
    {
      "cell_type": "markdown",
      "metadata": {
        "id": "Qf1ye2v98cXI"
      },
      "source": [
        "$A\\cdot \\emptyset = \\emptyset$ "
      ]
    },
    {
      "cell_type": "code",
      "metadata": {
        "colab": {
          "base_uri": "https://localhost:8080/"
        },
        "id": "cNb4lG7kIXJA",
        "outputId": "2c7debcc-be6d-401a-ac29-697305ec7830"
      },
      "source": [
        "z_mat = np.zeros(C.shape)\n",
        "z_mat"
      ],
      "execution_count": 34,
      "outputs": [
        {
          "output_type": "execute_result",
          "data": {
            "text/plain": [
              "array([[0., 0., 0.],\n",
              "       [0., 0., 0.],\n",
              "       [0., 0., 0.]])"
            ]
          },
          "metadata": {},
          "execution_count": 34
        }
      ]
    },
    {
      "cell_type": "code",
      "metadata": {
        "colab": {
          "base_uri": "https://localhost:8080/"
        },
        "id": "Q3w4FZGnIarC",
        "outputId": "c998b13c-a763-4296-e12e-2ebff33be30c"
      },
      "source": [
        "a_dot_z = C.dot(np.zeros(C.shape))\n",
        "a_dot_z"
      ],
      "execution_count": 36,
      "outputs": [
        {
          "output_type": "execute_result",
          "data": {
            "text/plain": [
              "array([[0., 0., 0.],\n",
              "       [0., 0., 0.],\n",
              "       [0., 0., 0.]])"
            ]
          },
          "metadata": {},
          "execution_count": 36
        }
      ]
    },
    {
      "cell_type": "code",
      "metadata": {
        "colab": {
          "base_uri": "https://localhost:8080/"
        },
        "id": "e1OTNTuEIfXY",
        "outputId": "fb9e04b7-1826-4f3e-8b72-ea199da184d9"
      },
      "source": [
        "np.array_equal(a_dot_z,z_mat)"
      ],
      "execution_count": 37,
      "outputs": [
        {
          "output_type": "execute_result",
          "data": {
            "text/plain": [
              "True"
            ]
          },
          "metadata": {},
          "execution_count": 37
        }
      ]
    },
    {
      "cell_type": "code",
      "metadata": {
        "colab": {
          "base_uri": "https://localhost:8080/"
        },
        "id": "M1dBFqt1IiZq",
        "outputId": "5821031b-84f0-45c4-9e4a-c5099d1dd60c"
      },
      "source": [
        "null_mat = np.empty(C.shape, dtype=float)\n",
        "null = np.array(null_mat,dtype=float)\n",
        "print(null)\n",
        "np.allclose(a_dot_z,null)"
      ],
      "execution_count": 38,
      "outputs": [
        {
          "output_type": "stream",
          "name": "stdout",
          "text": [
            "[[0. 0. 0.]\n",
            " [0. 0. 0.]\n",
            " [0. 0. 0.]]\n"
          ]
        },
        {
          "output_type": "execute_result",
          "data": {
            "text/plain": [
              "True"
            ]
          },
          "metadata": {},
          "execution_count": 38
        }
      ]
    },
    {
      "cell_type": "markdown",
      "metadata": {
        "id": "DdKRY_9Oa5tT"
      },
      "source": [
        "##Conclusion"
      ]
    },
    {
      "cell_type": "markdown",
      "metadata": {
        "id": "NJFBwH3La8FG"
      },
      "source": [
        "We came to the conclusion that at first we had a hard time knowing which codes needed to be used in for it to run so that some of the codes would execute correctly. I therefore conclude that this topic we will be able to develop a better intuition for machine learning and deep learning algorithms if you understand linear algebra we need to study linear algebra when most python can be accomplished with pre-existing modules and packages. As you will see, even the most fundamental tasks in data science and machine learning require some prior understanding of linear algebra.. This will allow you to select appropriate hyperparameters and build a better model."
      ]
    }
  ]
}