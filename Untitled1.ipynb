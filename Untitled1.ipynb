{
  "nbformat": 4,
  "nbformat_minor": 0,
  "metadata": {
    "colab": {
      "name": "Untitled1.ipynb",
      "provenance": [],
      "authorship_tag": "ABX9TyO9vWPEcfhMlKNQqPN0gmgh",
      "include_colab_link": true
    },
    "kernelspec": {
      "name": "python3",
      "display_name": "Python 3"
    },
    "language_info": {
      "name": "python"
    }
  },
  "cells": [
    {
      "cell_type": "markdown",
      "metadata": {
        "id": "view-in-github",
        "colab_type": "text"
      },
      "source": [
        "<a href=\"https://colab.research.google.com/github/ckxmrls/kayedocs/blob/main/Untitled1.ipynb\" target=\"_parent\"><img src=\"https://colab.research.google.com/assets/colab-badge.svg\" alt=\"Open In Colab\"/></a>"
      ]
    },
    {
      "cell_type": "markdown",
      "metadata": {
        "id": "wIZA568sEgSt"
      },
      "source": [
        "## Linear Algebra for ECE"
      ]
    },
    {
      "cell_type": "markdown",
      "metadata": {
        "id": "bOppjaomFLbh"
      },
      "source": [
        "###Laboratory 6: Matrix Operations"
      ]
    },
    {
      "cell_type": "markdown",
      "metadata": {
        "id": "Mfy_atOGFOVS"
      },
      "source": [
        "Now that you have a fundamental knowledge about representing and operating with vectors as well as the fundamentals of matrices, we'll try to the same operations with matrices and even more."
      ]
    },
    {
      "cell_type": "markdown",
      "metadata": {
        "id": "5RhD70kQFvyk"
      },
      "source": [
        "###Objectives\n",
        "At the end of this activity you will be able to:\n",
        "\n",
        "1.   Be familiar with the fundamental matrix operations.\n",
        "2.   Apply the operations to solve intemediate equations.\n",
        "3.   Apply algebra in engineering solutions.\n",
        "\n"
      ]
    },
    {
      "cell_type": "markdown",
      "metadata": {
        "id": "FI9nJzfqG7t2"
      },
      "source": [
        "### Discussion"
      ]
    },
    {
      "cell_type": "code",
      "metadata": {
        "id": "OrNVVsXxExl2"
      },
      "source": [
        "import numpy as np\n",
        "import matplotlib.pyplot as plt\n",
        "%matplotlib inline"
      ],
      "execution_count": 4,
      "outputs": []
    },
    {
      "cell_type": "markdown",
      "metadata": {
        "id": "G2XB7GCuHK6X"
      },
      "source": [
        "### Transposition"
      ]
    },
    {
      "cell_type": "markdown",
      "metadata": {
        "id": "9K_yMeFLHQB8"
      },
      "source": [
        "One of the fundamental operations in matrix algebra is Transposition. The transpose of a matrix is doneby flipping the values of its elementsover its diagonals. \n",
        "$A^T$"
      ]
    },
    {
      "cell_type": "markdown",
      "metadata": {
        "id": "jlaeAxD0IJnA"
      },
      "source": [
        "$$A = \\begin{bmatrix} 1 & 2 & 5\\\\5 & -1 &0 \\\\ 0 & -3 & 3\\end{bmatrix} $$"
      ]
    },
    {
      "cell_type": "code",
      "metadata": {
        "colab": {
          "base_uri": "https://localhost:8080/"
        },
        "id": "uUIUZKMmIPQc",
        "outputId": "b1e73c5a-5800-4912-d661-d33ebd937577"
      },
      "source": [
        "A = np.array([\n",
        "              [1, 2, 5],\n",
        "              [5, -1, 0],\n",
        "              [0, -3, 3]\n",
        "])\n",
        "A"
      ],
      "execution_count": 10,
      "outputs": [
        {
          "output_type": "execute_result",
          "data": {
            "text/plain": [
              "array([[ 1,  2,  5],\n",
              "       [ 5, -1,  0],\n",
              "       [ 0, -3,  3]])"
            ]
          },
          "metadata": {},
          "execution_count": 10
        }
      ]
    },
    {
      "cell_type": "code",
      "metadata": {
        "colab": {
          "base_uri": "https://localhost:8080/"
        },
        "id": "mkXxArMjJeLU",
        "outputId": "56b4e99d-a958-4475-e532-73be78fe644c"
      },
      "source": [
        "AT1 = np.transpose(A)\n",
        "AT1"
      ],
      "execution_count": 14,
      "outputs": [
        {
          "output_type": "execute_result",
          "data": {
            "text/plain": [
              "array([[ 1,  5,  0],\n",
              "       [ 2, -1, -3],\n",
              "       [ 5,  0,  3]])"
            ]
          },
          "metadata": {},
          "execution_count": 14
        }
      ]
    },
    {
      "cell_type": "code",
      "metadata": {
        "colab": {
          "base_uri": "https://localhost:8080/"
        },
        "id": "dY6K_T8DKV1G",
        "outputId": "b544ca56-7d15-41fa-8e2d-606649f80ed9"
      },
      "source": [
        "AT2 = A.T\n",
        "AT2"
      ],
      "execution_count": 15,
      "outputs": [
        {
          "output_type": "execute_result",
          "data": {
            "text/plain": [
              "array([[ 1,  5,  0],\n",
              "       [ 2, -1, -3],\n",
              "       [ 5,  0,  3]])"
            ]
          },
          "metadata": {},
          "execution_count": 15
        }
      ]
    },
    {
      "cell_type": "code",
      "metadata": {
        "colab": {
          "base_uri": "https://localhost:8080/"
        },
        "id": "t3tGWmvOKejV",
        "outputId": "1a7ae167-a719-448a-e2c2-6af51d99c828"
      },
      "source": [
        "np.array_equiv(AT1, AT2)"
      ],
      "execution_count": 16,
      "outputs": [
        {
          "output_type": "execute_result",
          "data": {
            "text/plain": [
              "True"
            ]
          },
          "metadata": {},
          "execution_count": 16
        }
      ]
    },
    {
      "cell_type": "code",
      "metadata": {
        "colab": {
          "base_uri": "https://localhost:8080/"
        },
        "id": "C9HXQhViKnCE",
        "outputId": "16c7224b-eaab-47a7-d42f-67b8eb07e0f1"
      },
      "source": [
        "B = np.array([\n",
        "              [1,2,3,4],\n",
        "              [1,0,2,1],\n",
        "])\n",
        "B.shape"
      ],
      "execution_count": 17,
      "outputs": [
        {
          "output_type": "execute_result",
          "data": {
            "text/plain": [
              "(2, 4)"
            ]
          },
          "metadata": {},
          "execution_count": 17
        }
      ]
    },
    {
      "cell_type": "code",
      "metadata": {
        "colab": {
          "base_uri": "https://localhost:8080/"
        },
        "id": "w9ZAAvDEK3xE",
        "outputId": "42647c2a-b2d7-4885-f865-3a0cc749a114"
      },
      "source": [
        "np.transpose(B).shape"
      ],
      "execution_count": 18,
      "outputs": [
        {
          "output_type": "execute_result",
          "data": {
            "text/plain": [
              "(4, 2)"
            ]
          },
          "metadata": {},
          "execution_count": 18
        }
      ]
    },
    {
      "cell_type": "code",
      "metadata": {
        "colab": {
          "base_uri": "https://localhost:8080/"
        },
        "id": "fsr_amERK8xU",
        "outputId": "300a8626-0e65-480d-bd45-e747a239b27b"
      },
      "source": [
        "B.T.shape"
      ],
      "execution_count": 19,
      "outputs": [
        {
          "output_type": "execute_result",
          "data": {
            "text/plain": [
              "(4, 2)"
            ]
          },
          "metadata": {},
          "execution_count": 19
        }
      ]
    },
    {
      "cell_type": "markdown",
      "metadata": {
        "id": "HiJf_S9BL1Ks"
      },
      "source": [
        "### TRY"
      ]
    },
    {
      "cell_type": "code",
      "metadata": {
        "id": "G0qLhpYrL3bU"
      },
      "source": [
        "M=np.array([\n",
        "    [2,1,6],\n",
        "    [1,3,4]        \n",
        "])"
      ],
      "execution_count": 24,
      "outputs": []
    },
    {
      "cell_type": "code",
      "metadata": {
        "colab": {
          "base_uri": "https://localhost:8080/"
        },
        "id": "x2EjP88iMEq4",
        "outputId": "325bd2a3-136c-440b-e77b-1f4efae7aa76"
      },
      "source": [
        "M.shape"
      ],
      "execution_count": 25,
      "outputs": [
        {
          "output_type": "execute_result",
          "data": {
            "text/plain": [
              "(2, 3)"
            ]
          },
          "metadata": {},
          "execution_count": 25
        }
      ]
    },
    {
      "cell_type": "code",
      "metadata": {
        "colab": {
          "base_uri": "https://localhost:8080/"
        },
        "id": "3-mYfabaMHQX",
        "outputId": "89825029-8159-48b4-b476-ce922f5be73c"
      },
      "source": [
        "np.transpose(M).shape"
      ],
      "execution_count": 26,
      "outputs": [
        {
          "output_type": "execute_result",
          "data": {
            "text/plain": [
              "(3, 2)"
            ]
          },
          "metadata": {},
          "execution_count": 26
        }
      ]
    },
    {
      "cell_type": "code",
      "metadata": {
        "colab": {
          "base_uri": "https://localhost:8080/"
        },
        "id": "nhvUsZ0JMJo5",
        "outputId": "e3c66035-7b15-411b-8237-0df5442f05fe"
      },
      "source": [
        "M.T.shape"
      ],
      "execution_count": 27,
      "outputs": [
        {
          "output_type": "execute_result",
          "data": {
            "text/plain": [
              "(3, 2)"
            ]
          },
          "metadata": {},
          "execution_count": 27
        }
      ]
    },
    {
      "cell_type": "markdown",
      "metadata": {
        "id": "maVhaEzwN4fD"
      },
      "source": [
        ""
      ]
    },
    {
      "cell_type": "code",
      "metadata": {
        "id": "GgZEVfT1N47I"
      },
      "source": [
        "X = np.array([\n",
        "              [1,2],\n",
        "              [0,1],\n",
        "])\n",
        "Y = np.array([\n",
        "    [-1,0],\n",
        "    [2,2]\n",
        "])"
      ],
      "execution_count": 28,
      "outputs": []
    },
    {
      "cell_type": "code",
      "metadata": {
        "colab": {
          "base_uri": "https://localhost:8080/"
        },
        "id": "fMYNaAXmOJyL",
        "outputId": "de9c49b7-c911-47e2-85a7-397e233f8883"
      },
      "source": [
        "np.dot(X,Y)"
      ],
      "execution_count": 29,
      "outputs": [
        {
          "output_type": "execute_result",
          "data": {
            "text/plain": [
              "array([[3, 4],\n",
              "       [2, 2]])"
            ]
          },
          "metadata": {},
          "execution_count": 29
        }
      ]
    },
    {
      "cell_type": "code",
      "metadata": {
        "colab": {
          "base_uri": "https://localhost:8080/"
        },
        "id": "Qjaz61-qOSgq",
        "outputId": "e993f05c-be16-45b1-fa84-d7eb1f88136e"
      },
      "source": [
        "X.dot(Y)"
      ],
      "execution_count": 30,
      "outputs": [
        {
          "output_type": "execute_result",
          "data": {
            "text/plain": [
              "array([[3, 4],\n",
              "       [2, 2]])"
            ]
          },
          "metadata": {},
          "execution_count": 30
        }
      ]
    },
    {
      "cell_type": "code",
      "metadata": {
        "colab": {
          "base_uri": "https://localhost:8080/"
        },
        "id": "nJZbY4T5OX54",
        "outputId": "852c2a03-623f-40bb-d5b6-aa7669cf7f9b"
      },
      "source": [
        "X @ Y"
      ],
      "execution_count": 31,
      "outputs": [
        {
          "output_type": "execute_result",
          "data": {
            "text/plain": [
              "array([[3, 4],\n",
              "       [2, 2]])"
            ]
          },
          "metadata": {},
          "execution_count": 31
        }
      ]
    },
    {
      "cell_type": "code",
      "metadata": {
        "colab": {
          "base_uri": "https://localhost:8080/"
        },
        "id": "u7getUyYOboH",
        "outputId": "3d415d01-5c8b-40f9-eb74-7b7d0877a024"
      },
      "source": [
        "np.matmul(X,Y)"
      ],
      "execution_count": 32,
      "outputs": [
        {
          "output_type": "execute_result",
          "data": {
            "text/plain": [
              "array([[3, 4],\n",
              "       [2, 2]])"
            ]
          },
          "metadata": {},
          "execution_count": 32
        }
      ]
    },
    {
      "cell_type": "markdown",
      "metadata": {
        "id": "kWWTHGc4OrcS"
      },
      "source": [
        "###TRY"
      ]
    },
    {
      "cell_type": "code",
      "metadata": {
        "id": "1nWBD8boOr2w"
      },
      "source": [
        "C = np.array([\n",
        "              [1,2,3],\n",
        "              [0,1,2],\n",
        "              [2,1,0]\n",
        "])\n",
        "K = np.array([\n",
        "    [-1,0,1],\n",
        "    [2,2,2],\n",
        "    [1,2,3]\n",
        "])"
      ],
      "execution_count": 38,
      "outputs": []
    },
    {
      "cell_type": "code",
      "metadata": {
        "colab": {
          "base_uri": "https://localhost:8080/"
        },
        "id": "KF_VKq2BO85l",
        "outputId": "d5a65bd4-7c31-4dff-bf44-af3377be6b5e"
      },
      "source": [
        "np.dot(C,K)"
      ],
      "execution_count": 34,
      "outputs": [
        {
          "output_type": "execute_result",
          "data": {
            "text/plain": [
              "array([[ 6, 10, 14],\n",
              "       [ 4,  6,  8],\n",
              "       [ 0,  2,  4]])"
            ]
          },
          "metadata": {},
          "execution_count": 34
        }
      ]
    },
    {
      "cell_type": "code",
      "metadata": {
        "colab": {
          "base_uri": "https://localhost:8080/"
        },
        "id": "Z-5guYOvPDVG",
        "outputId": "088261a6-a5f9-43d5-ac4c-1caeb30d7c93"
      },
      "source": [
        "C.dot(K)"
      ],
      "execution_count": 40,
      "outputs": [
        {
          "output_type": "execute_result",
          "data": {
            "text/plain": [
              "array([[ 6, 10, 14],\n",
              "       [ 4,  6,  8],\n",
              "       [ 0,  2,  4]])"
            ]
          },
          "metadata": {},
          "execution_count": 40
        }
      ]
    },
    {
      "cell_type": "code",
      "metadata": {
        "colab": {
          "base_uri": "https://localhost:8080/"
        },
        "id": "ExYWvZb5PbrI",
        "outputId": "bac28815-c461-44b5-96bb-605a4496c79c"
      },
      "source": [
        "C @ K"
      ],
      "execution_count": 41,
      "outputs": [
        {
          "output_type": "execute_result",
          "data": {
            "text/plain": [
              "array([[ 6, 10, 14],\n",
              "       [ 4,  6,  8],\n",
              "       [ 0,  2,  4]])"
            ]
          },
          "metadata": {},
          "execution_count": 41
        }
      ]
    },
    {
      "cell_type": "code",
      "metadata": {
        "colab": {
          "base_uri": "https://localhost:8080/"
        },
        "id": "F_pksK_DPgp-",
        "outputId": "ddb2d266-0fcb-46a4-c5b6-10c0e8e80dad"
      },
      "source": [
        "np.matmul(C,K)"
      ],
      "execution_count": 42,
      "outputs": [
        {
          "output_type": "execute_result",
          "data": {
            "text/plain": [
              "array([[ 6, 10, 14],\n",
              "       [ 4,  6,  8],\n",
              "       [ 0,  2,  4]])"
            ]
          },
          "metadata": {},
          "execution_count": 42
        }
      ]
    },
    {
      "cell_type": "markdown",
      "metadata": {
        "id": "HfJ8FmEXP2kc"
      },
      "source": [
        "\n"
      ]
    },
    {
      "cell_type": "code",
      "metadata": {
        "colab": {
          "base_uri": "https://localhost:8080/"
        },
        "id": "sRGIoADcQyOy",
        "outputId": "41d3f201-0979-4467-f4e2-44cfbf6f7073"
      },
      "source": [
        "M = np.array([\n",
        "              [1,2],\n",
        "              [6, -2],\n",
        "              [5,3]\n",
        "])\n",
        "E = np.array([\n",
        "              [2,4],\n",
        "              [8,7],\n",
        "              [-4, -9]\n",
        "])\n",
        "B = np.array([\n",
        "              [0,1,2],\n",
        "              [9,1,1]\n",
        "])\n",
        "print(M.shape)\n",
        "print(E.shape)\n",
        "print(B.shape)"
      ],
      "execution_count": 43,
      "outputs": [
        {
          "output_type": "stream",
          "name": "stdout",
          "text": [
            "(3, 2)\n",
            "(3, 2)\n",
            "(2, 3)\n"
          ]
        }
      ]
    },
    {
      "cell_type": "code",
      "metadata": {
        "colab": {
          "base_uri": "https://localhost:8080/"
        },
        "id": "xPgYECoCRsTy",
        "outputId": "d667f860-e6a2-41bb-8b90-a213051da5b1"
      },
      "source": [
        "M @ B"
      ],
      "execution_count": 44,
      "outputs": [
        {
          "output_type": "execute_result",
          "data": {
            "text/plain": [
              "array([[ 18,   3,   4],\n",
              "       [-18,   4,  10],\n",
              "       [ 27,   8,  13]])"
            ]
          },
          "metadata": {},
          "execution_count": 44
        }
      ]
    },
    {
      "cell_type": "code",
      "metadata": {
        "colab": {
          "base_uri": "https://localhost:8080/"
        },
        "id": "Q6Vka2rARx-A",
        "outputId": "06bbc967-beb3-4064-cafb-189be9c1295c"
      },
      "source": [
        "E @ B"
      ],
      "execution_count": 45,
      "outputs": [
        {
          "output_type": "execute_result",
          "data": {
            "text/plain": [
              "array([[ 36,   6,   8],\n",
              "       [ 63,  15,  23],\n",
              "       [-81, -13, -17]])"
            ]
          },
          "metadata": {},
          "execution_count": 45
        }
      ]
    },
    {
      "cell_type": "code",
      "metadata": {
        "colab": {
          "base_uri": "https://localhost:8080/",
          "height": 178
        },
        "id": "eVwcNdPrR05x",
        "outputId": "eb6ffe28-4fb9-428b-a95e-7efe23479317"
      },
      "source": [
        "M @ E"
      ],
      "execution_count": 46,
      "outputs": [
        {
          "output_type": "error",
          "ename": "ValueError",
          "evalue": "ignored",
          "traceback": [
            "\u001b[0;31m---------------------------------------------------------------------------\u001b[0m",
            "\u001b[0;31mValueError\u001b[0m                                Traceback (most recent call last)",
            "\u001b[0;32m<ipython-input-46-7273974734c0>\u001b[0m in \u001b[0;36m<module>\u001b[0;34m()\u001b[0m\n\u001b[0;32m----> 1\u001b[0;31m \u001b[0mM\u001b[0m \u001b[0;34m@\u001b[0m \u001b[0mE\u001b[0m\u001b[0;34m\u001b[0m\u001b[0;34m\u001b[0m\u001b[0m\n\u001b[0m",
            "\u001b[0;31mValueError\u001b[0m: matmul: Input operand 1 has a mismatch in its core dimension 0, with gufunc signature (n?,k),(k,m?)->(n?,m?) (size 3 is different from 2)"
          ]
        }
      ]
    },
    {
      "cell_type": "code",
      "metadata": {
        "colab": {
          "base_uri": "https://localhost:8080/"
        },
        "id": "Z27j7bnfSFdc",
        "outputId": "3486b9ee-a41a-4871-a102-f1b0778d5a87"
      },
      "source": [
        "X = np.array([\n",
        "              [1,2,3,0]\n",
        "])\n",
        "Y = np.array([\n",
        "             [1,0,4,-1] \n",
        "])\n",
        "print(X.shape)\n",
        "print(Y.shape)"
      ],
      "execution_count": 47,
      "outputs": [
        {
          "output_type": "stream",
          "name": "stdout",
          "text": [
            "(1, 4)\n",
            "(1, 4)\n"
          ]
        }
      ]
    },
    {
      "cell_type": "code",
      "metadata": {
        "colab": {
          "base_uri": "https://localhost:8080/"
        },
        "id": "dh7Rf4SJSy8M",
        "outputId": "556b3471-7791-4750-f449-7f089ab86ca3"
      },
      "source": [
        "Y.T@ X"
      ],
      "execution_count": 48,
      "outputs": [
        {
          "output_type": "execute_result",
          "data": {
            "text/plain": [
              "array([[ 1,  2,  3,  0],\n",
              "       [ 0,  0,  0,  0],\n",
              "       [ 4,  8, 12,  0],\n",
              "       [-1, -2, -3,  0]])"
            ]
          },
          "metadata": {},
          "execution_count": 48
        }
      ]
    },
    {
      "cell_type": "code",
      "metadata": {
        "colab": {
          "base_uri": "https://localhost:8080/"
        },
        "id": "oExcL5l4S373",
        "outputId": "89938e77-74aa-4bfb-9801-b1e7416f40e6"
      },
      "source": [
        "X @ Y.T"
      ],
      "execution_count": 49,
      "outputs": [
        {
          "output_type": "execute_result",
          "data": {
            "text/plain": [
              "array([[13]])"
            ]
          },
          "metadata": {},
          "execution_count": 49
        }
      ]
    },
    {
      "cell_type": "markdown",
      "metadata": {
        "id": "Oymja-t2S7uf"
      },
      "source": [
        ""
      ]
    },
    {
      "cell_type": "code",
      "metadata": {
        "colab": {
          "base_uri": "https://localhost:8080/"
        },
        "id": "ml_25_OlS8CQ",
        "outputId": "b0c3285d-0389-4adf-e183-641e0b8a6b5a"
      },
      "source": [
        "A = np.array([\n",
        "              [4,2,1],\n",
        "              [5,4,1],\n",
        "              [2,1,3]\n",
        "])\n",
        "M= np.array([\n",
        "             [3,5,7],\n",
        "             [6,1,7],\n",
        "             [3,1,8]\n",
        "           \n",
        "\n",
        "])\n",
        "P= np.array([\n",
        "             [1,1,8],\n",
        "             [0,1,1],\n",
        "             [1,9,1]\n",
        "])\n",
        "print(A.shape)\n",
        "print(M.shape)\n",
        "print(P.shape)\n",
        "\n"
      ],
      "execution_count": 59,
      "outputs": [
        {
          "output_type": "stream",
          "name": "stdout",
          "text": [
            "(3, 3)\n",
            "(3, 3)\n",
            "(3, 3)\n"
          ]
        }
      ]
    },
    {
      "cell_type": "code",
      "metadata": {
        "colab": {
          "base_uri": "https://localhost:8080/"
        },
        "id": "SJjLNnAIW8HR",
        "outputId": "56c83a3b-7663-4793-bcef-833356a1c06e"
      },
      "source": [
        "A1 = A @ M\n",
        "A1"
      ],
      "execution_count": 61,
      "outputs": [
        {
          "output_type": "execute_result",
          "data": {
            "text/plain": [
              "array([[27, 23, 50],\n",
              "       [42, 30, 71],\n",
              "       [21, 14, 45]])"
            ]
          },
          "metadata": {},
          "execution_count": 61
        }
      ]
    },
    {
      "cell_type": "code",
      "metadata": {
        "colab": {
          "base_uri": "https://localhost:8080/"
        },
        "id": "y-coPHm2XR8G",
        "outputId": "982e31bf-8d1b-4464-9767-feb7dc222091"
      },
      "source": [
        "A2 = M @ A\n",
        "A2"
      ],
      "execution_count": 62,
      "outputs": [
        {
          "output_type": "execute_result",
          "data": {
            "text/plain": [
              "array([[51, 33, 29],\n",
              "       [43, 23, 28],\n",
              "       [33, 18, 28]])"
            ]
          },
          "metadata": {},
          "execution_count": 62
        }
      ]
    },
    {
      "cell_type": "code",
      "metadata": {
        "colab": {
          "base_uri": "https://localhost:8080/"
        },
        "id": "VddVUyQCXaVV",
        "outputId": "af8ceba1-a937-424e-860a-d76207c431de"
      },
      "source": [
        "np.array_equiv(A1,A2)"
      ],
      "execution_count": 63,
      "outputs": [
        {
          "output_type": "execute_result",
          "data": {
            "text/plain": [
              "False"
            ]
          },
          "metadata": {},
          "execution_count": 63
        }
      ]
    }
  ]
}