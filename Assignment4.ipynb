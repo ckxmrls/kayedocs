{
  "nbformat": 4,
  "nbformat_minor": 0,
  "metadata": {
    "colab": {
      "name": "Assignment4.ipynb",
      "provenance": [],
      "authorship_tag": "ABX9TyMisgZXr3o8RO3j3XHwy1oA",
      "include_colab_link": true
    },
    "kernelspec": {
      "name": "python3",
      "display_name": "Python 3"
    },
    "language_info": {
      "name": "python"
    }
  },
  "cells": [
    {
      "cell_type": "markdown",
      "metadata": {
        "id": "view-in-github",
        "colab_type": "text"
      },
      "source": [
        "<a href=\"https://colab.research.google.com/github/ckxmrls/kayedocs/blob/main/Assignment4.ipynb\" target=\"_parent\"><img src=\"https://colab.research.google.com/assets/colab-badge.svg\" alt=\"Open In Colab\"/></a>"
      ]
    },
    {
      "cell_type": "markdown",
      "metadata": {
        "id": "GScfZyK48Eg7"
      },
      "source": [
        "#Linear Algebra for ECE\n",
        "##Laboratory 4 :Matrices"
      ]
    },
    {
      "cell_type": "markdown",
      "metadata": {
        "id": "d5K9aH5BSd7m"
      },
      "source": [
        "## Objectives\n",
        "At the end of this activity you will be able to:\n",
        "\n",
        "\n",
        "1.   Be familiar with matrices and their relation to linear equation\n",
        "2.   Perform basic matrx operations\n",
        "3.   Program and translate matrixequations and operationsusing Python\n",
        "\n",
        "\n",
        "\n",
        "\n"
      ]
    },
    {
      "cell_type": "markdown",
      "metadata": {
        "id": "Fvkid12RTe6C"
      },
      "source": [
        "##Discussion"
      ]
    },
    {
      "cell_type": "code",
      "metadata": {
        "id": "Z0qlV1XW-bqu"
      },
      "source": [
        "import numpy as np\n",
        "import matplotlib.pyplot as plt\n",
        "import scipy.linalg as la\n",
        "%matplotlib inline"
      ],
      "execution_count": 17,
      "outputs": []
    },
    {
      "cell_type": "markdown",
      "metadata": {
        "id": "AS3RuL76UW2p"
      },
      "source": [
        "## Matrices\n",
        "\n",
        "The notation and use of matrices is probably one of the fundamentals of modern computing. Matrices are also handy representation of complex equation or multiple inter - related equations from 2 dimentional equations to even hundreds and thousands of others\n",
        "\n",
        "Let's say for example you have ***A*** and ***B*** as the system of equation."
      ]
    },
    {
      "cell_type": "markdown",
      "metadata": {
        "id": "7XUFB-hY9Q99"
      },
      "source": [
        "$$\n",
        "A = \\left\\{\n",
        "    \\begin{array}\\\n",
        "        x + y \\\\ \n",
        "        4x - 10y\n",
        "    \\end{array}\n",
        "\\right. \\\\\n",
        "B = \\left\\{\n",
        "    \\begin{array}\\\n",
        "        x+y+z \\\\ \n",
        "        3x -2y -z \\\\\n",
        "        -x + 4y +2z\n",
        "    \\end{array}\n",
        "\\right. $$"
      ]
    },
    {
      "cell_type": "markdown",
      "metadata": {
        "id": "gVxnCfHRWpeL"
      },
      "source": [
        "We could see that ***A*** is a system of 2 equations with 2 parameters, While ***B*** is a system of 3 equation with 3 parameters. We can represent\n",
        "them as matrices:"
      ]
    },
    {
      "cell_type": "markdown",
      "metadata": {
        "id": "3B8BChST-Pod"
      },
      "source": [
        "$$\n",
        "A=\\begin{bmatrix} 1 & 1 \\\\ 4 & {-10}\\end{bmatrix} \\\\\n",
        "B=\\begin{bmatrix} 1 & 1 & 1 \\\\ 3 & -2 & -1 \\\\ -1 & 4 & 2\\end{bmatrix}\n",
        "$$"
      ]
    },
    {
      "cell_type": "markdown",
      "metadata": {
        "id": "N64IEJrncTI2"
      },
      "source": [
        "##Declaring Matrices\n",
        "We must start the matrix, but we do not want to use a loop in a lengthier method. For that, we need an abstract. In dynamic programming, this sort of problem is extremely prevalent."
      ]
    },
    {
      "cell_type": "markdown",
      "metadata": {
        "id": "ABqgrtFi_Gyc"
      },
      "source": [
        "$$A=\\begin{bmatrix}\n",
        "a_{(0,0)}&a_{(0,1)}&\\dots&a_{(0,j-1)}\\\\\n",
        "a_{(1,0)}&a_{(1,1)}&\\dots&a_{(1,j-1)}\\\\\n",
        "\\vdots&\\vdots&\\ddots&\\vdots&\\\\\n",
        "a_{(i-1,0)}&a_{(i-1,1)}&\\dots&a_{(i-1,j-1)}\n",
        "\\end{bmatrix}\n",
        "$$"
      ]
    },
    {
      "cell_type": "code",
      "metadata": {
        "id": "jmFcv1mfBRqP"
      },
      "source": [
        "## since we'll keep on describing matrices. Let's make a function\n",
        "def describe_mat(matrix):\n",
        "  print(f'Matrix:\\n{matrix}\\n\\nShape:\\t{matrix.shape}\\nRank:\\t{matrix.ndim}\\n')"
      ],
      "execution_count": 11,
      "outputs": []
    },
    {
      "cell_type": "code",
      "metadata": {
        "colab": {
          "base_uri": "https://localhost:8080/"
        },
        "id": "YdiNO9ZJCPzK",
        "outputId": "035ed24c-a8e6-43a3-e5c0-b5867de5f4b2"
      },
      "source": [
        "## Declaring a 2 x 2 matrix\n",
        "A = np.array([\n",
        "             [1, 2],\n",
        "             [3, 1]\n",
        "])\n",
        "describe_mat(A)\n"
      ],
      "execution_count": 18,
      "outputs": [
        {
          "output_type": "stream",
          "name": "stdout",
          "text": [
            "Matrix:\n",
            "[[1 2]\n",
            " [3 1]]\n",
            "\n",
            "Shape:\t(2, 2)\n",
            "Rank:\t2\n",
            "\n"
          ]
        }
      ]
    },
    {
      "cell_type": "code",
      "metadata": {
        "colab": {
          "base_uri": "https://localhost:8080/"
        },
        "id": "G12XwR0Ge2vM",
        "outputId": "525cdb2d-97e2-4896-cf8f-b5f36f7d4b6a"
      },
      "source": [
        "G = np.array([\n",
        "              [1, 1],\n",
        "              [2,2]\n",
        "])\n",
        "describe_mat(G)"
      ],
      "execution_count": 19,
      "outputs": [
        {
          "output_type": "stream",
          "name": "stdout",
          "text": [
            "Matrix:\n",
            "[[1 1]\n",
            " [2 2]]\n",
            "\n",
            "Shape:\t(2, 2)\n",
            "Rank:\t2\n",
            "\n"
          ]
        }
      ]
    },
    {
      "cell_type": "code",
      "metadata": {
        "id": "NrcvOEUwC5pK",
        "colab": {
          "base_uri": "https://localhost:8080/"
        },
        "outputId": "dd6da146-595e-4dc7-cc3d-5a1a7a0aa838"
      },
      "source": [
        "## Declaring a 3 x 2 matrix:\n",
        "B = np.array([\n",
        "              [8, 2],\n",
        "              [5,4],\n",
        "              [1, 1]       \n",
        "])\n",
        "describe_mat(B)"
      ],
      "execution_count": 20,
      "outputs": [
        {
          "output_type": "stream",
          "name": "stdout",
          "text": [
            "Matrix:\n",
            "[[8 2]\n",
            " [5 4]\n",
            " [1 1]]\n",
            "\n",
            "Shape:\t(3, 2)\n",
            "Rank:\t2\n",
            "\n"
          ]
        }
      ]
    },
    {
      "cell_type": "code",
      "metadata": {
        "colab": {
          "base_uri": "https://localhost:8080/"
        },
        "id": "hxwrM6b2fqUK",
        "outputId": "23f2bbd4-920a-45dd-8fc7-0c226df25c9e"
      },
      "source": [
        "H = np.array([1, 2, 3, 4, 5])\n",
        "describe_mat(H)"
      ],
      "execution_count": 22,
      "outputs": [
        {
          "output_type": "stream",
          "name": "stdout",
          "text": [
            "Matrix:\n",
            "[1 2 3 4 5]\n",
            "\n",
            "Shape:\t(5,)\n",
            "Rank:\t1\n",
            "\n"
          ]
        }
      ]
    },
    {
      "cell_type": "markdown",
      "metadata": {
        "id": "ppj4nOB8gHA5"
      },
      "source": [
        "#Categorizing Matrices\n",
        "\n",
        "\n",
        "There are several ways of classifying matrices. Once could be according to their **shape** and another is according to their **element values**. We'll try to go through them."
      ]
    },
    {
      "cell_type": "markdown",
      "metadata": {
        "id": "2oIpiujHhSdc"
      },
      "source": [
        "##According to Shape"
      ]
    },
    {
      "cell_type": "markdown",
      "metadata": {
        "id": "42st0_N9hm_G"
      },
      "source": [
        "###Raw and Column Matrices\n",
        "\n",
        "\n",
        "Row and Column Matrices are common in vector and matrix computation. They can also represent row and column spaces of a bigger vector space. It is represented by a single column or a single row."
      ]
    },
    {
      "cell_type": "code",
      "metadata": {
        "colab": {
          "base_uri": "https://localhost:8080/"
        },
        "id": "FjoWW4oRjEXM",
        "outputId": "7889e124-5b1e-4868-fbf6-2ebe5a8967e9"
      },
      "source": [
        "## Declaring a Row Matrix\n",
        "\n",
        "row_mat_1D = np.array([\n",
        "                       1, 3, 2\n",
        "]) ## this is a 1-D Matrix with a shape of (3,), it's not really considered as a row matrix.\n",
        "row_mat_2D = np.array([\n",
        "                       [1, 2, 3]\n",
        "]) ## this is a 2-D Matrix with a shape of (1, 3)\n",
        "describe_mat(row_mat_1D)\n",
        "describe_mat(row_mat_2D)"
      ],
      "execution_count": 23,
      "outputs": [
        {
          "output_type": "stream",
          "name": "stdout",
          "text": [
            "Matrix:\n",
            "[1 3 2]\n",
            "\n",
            "Shape:\t(3,)\n",
            "Rank:\t1\n",
            "\n",
            "Matrix:\n",
            "[[1 2 3]]\n",
            "\n",
            "Shape:\t(1, 3)\n",
            "Rank:\t2\n",
            "\n"
          ]
        }
      ]
    },
    {
      "cell_type": "code",
      "metadata": {
        "colab": {
          "base_uri": "https://localhost:8080/"
        },
        "id": "gkMlBLdXkeJ2",
        "outputId": "dfb9bdd6-104b-49c7-8864-60687c3fd34c"
      },
      "source": [
        "## Declaring a Column Matrix\n",
        "\n",
        "col_mat = np.array([\n",
        "                    [1],\n",
        "                    [2],\n",
        "                    [5]\n",
        "]) ## this is a 2-D Matrix with a shape of (3,1)\n",
        "describe_mat(col_mat)"
      ],
      "execution_count": 24,
      "outputs": [
        {
          "output_type": "stream",
          "name": "stdout",
          "text": [
            "Matrix:\n",
            "[[1]\n",
            " [2]\n",
            " [5]]\n",
            "\n",
            "Shape:\t(3, 1)\n",
            "Rank:\t2\n",
            "\n"
          ]
        }
      ]
    },
    {
      "cell_type": "markdown",
      "metadata": {
        "id": "1faIJI1olOrO"
      },
      "source": [
        "##Square Matrices\n",
        "\n",
        "Square Matrices are matrices that have the same row and column sizes. We could say a matrix is square if *i* - *j*. We can tweak our matrix descriptor function to determine square matrices."
      ]
    },
    {
      "cell_type": "code",
      "metadata": {
        "id": "znWE2e0_mB9O"
      },
      "source": [
        "def describe_mat(matrix):\n",
        "  is_square = True if matrix.shape [0] -- matrix.shape[1] else False \n",
        "  print(f'Matrix:\\n{matrix}\\n\\nShape:\\t{matrix.shape}\\nRank:\\t{matrix.ndim}\\nIs Square: {is_square}\\n')"
      ],
      "execution_count": 26,
      "outputs": []
    },
    {
      "cell_type": "code",
      "metadata": {
        "colab": {
          "base_uri": "https://localhost:8080/"
        },
        "id": "b_omIsOqnCH5",
        "outputId": "97a7938c-cf52-46b5-b0b8-e1cca652adc1"
      },
      "source": [
        "square_mat = np.array([\n",
        "                             [1, 2, 5],\n",
        "                             [3, 3, 0],\n",
        "                             [6, 1, 2]\n",
        "])\n",
        "\n",
        "non_square_mat = np.array([\n",
        "                           [1, 2, 5],\n",
        "                           [3, 3, 0]\n",
        "])\n",
        "describe_mat(square_mat)\n",
        "describe_mat(non_square_mat)"
      ],
      "execution_count": 29,
      "outputs": [
        {
          "output_type": "stream",
          "name": "stdout",
          "text": [
            "Matrix:\n",
            "[[1 2 5]\n",
            " [3 3 0]\n",
            " [6 1 2]]\n",
            "\n",
            "Shape:\t(3, 3)\n",
            "Rank:\t2\n",
            "Is Square: True\n",
            "\n",
            "Matrix:\n",
            "[[1 2 5]\n",
            " [3 3 0]]\n",
            "\n",
            "Shape:\t(2, 3)\n",
            "Rank:\t2\n",
            "Is Square: True\n",
            "\n"
          ]
        }
      ]
    },
    {
      "cell_type": "markdown",
      "metadata": {
        "id": "iMtVpP7kr-hK"
      },
      "source": [
        "##According to Element Values"
      ]
    },
    {
      "cell_type": "markdown",
      "metadata": {
        "id": "O6UDrdHGtCFG"
      },
      "source": [
        "##Null Matrix"
      ]
    },
    {
      "cell_type": "markdown",
      "metadata": {
        "id": "MhWQM4qUtKWw"
      },
      "source": [
        "A Null Matrix is a matrix that has element. It is always a subsplace of any vector or matrix. "
      ]
    }
  ]
}