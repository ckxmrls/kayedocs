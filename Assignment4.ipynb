{
  "nbformat": 4,
  "nbformat_minor": 0,
  "metadata": {
    "colab": {
      "name": "Assignment4.ipynb",
      "provenance": [],
      "authorship_tag": "ABX9TyOz0RIViKMO50QA4W9BQA59",
      "include_colab_link": true
    },
    "kernelspec": {
      "name": "python3",
      "display_name": "Python 3"
    },
    "language_info": {
      "name": "python"
    }
  },
  "cells": [
    {
      "cell_type": "markdown",
      "metadata": {
        "id": "view-in-github",
        "colab_type": "text"
      },
      "source": [
        "<a href=\"https://colab.research.google.com/github/ckxmrls/kayedocs/blob/main/Assignment4.ipynb\" target=\"_parent\"><img src=\"https://colab.research.google.com/assets/colab-badge.svg\" alt=\"Open In Colab\"/></a>"
      ]
    },
    {
      "cell_type": "markdown",
      "metadata": {
        "id": "GScfZyK48Eg7"
      },
      "source": [
        "#Linear Algebra for ECE\n",
        "##Laboratory 4 :Matrices"
      ]
    },
    {
      "cell_type": "markdown",
      "metadata": {
        "id": "d5K9aH5BSd7m"
      },
      "source": [
        "## Objectives\n",
        "At the end of this activity you will be able to:\n",
        "\n",
        "\n",
        "1.   Be familiar with matrices and their relation to linear equation\n",
        "2.   Perform basic matrx operations\n",
        "3.   Program and translate matrixequations and operationsusing Python\n",
        "\n",
        "\n",
        "\n",
        "\n"
      ]
    },
    {
      "cell_type": "markdown",
      "metadata": {
        "id": "Fvkid12RTe6C"
      },
      "source": [
        "##Discussion"
      ]
    },
    {
      "cell_type": "code",
      "metadata": {
        "id": "Z0qlV1XW-bqu"
      },
      "source": [
        "import numpy as np\n",
        "import matplotlib.pyplot as plt\n",
        "import scipy.linalg as la\n",
        "%matplotlib inline"
      ],
      "execution_count": 3,
      "outputs": []
    },
    {
      "cell_type": "markdown",
      "metadata": {
        "id": "AS3RuL76UW2p"
      },
      "source": [
        "## Matrices\n",
        "\n",
        "The notation and use of matrices is probably one of the fundamentals of modern computing. Matrices are also handy representation of complex equation or multiple inter - related equations from 2 dimentional equations to even hundreds and thousands of others\n",
        "\n",
        "Let's say for example you have ***A*** and ***B*** as the system of equation."
      ]
    },
    {
      "cell_type": "markdown",
      "metadata": {
        "id": "7XUFB-hY9Q99"
      },
      "source": [
        "$$\n",
        "A = \\left\\{\n",
        "    \\begin{array}\\\n",
        "        x + y \\\\ \n",
        "        4x - 10y\n",
        "    \\end{array}\n",
        "\\right. \\\\\n",
        "B = \\left\\{\n",
        "    \\begin{array}\\\n",
        "        x+y+z \\\\ \n",
        "        3x -2y -z \\\\\n",
        "        -x + 4y +2z\n",
        "    \\end{array}\n",
        "\\right. $$"
      ]
    },
    {
      "cell_type": "markdown",
      "metadata": {
        "id": "gVxnCfHRWpeL"
      },
      "source": [
        "We could see that ***A*** is a system of 2 equations with 2 parameters, While ***B*** is a system of 3 equation with 3 parameters. We can represent\n",
        "them as matrices:"
      ]
    },
    {
      "cell_type": "markdown",
      "metadata": {
        "id": "3B8BChST-Pod"
      },
      "source": [
        "$$\n",
        "A=\\begin{bmatrix} 1 & 1 \\\\ 4 & {-10}\\end{bmatrix} \\\\\n",
        "B=\\begin{bmatrix} 1 & 1 & 1 \\\\ 3 & -2 & -1 \\\\ -1 & 4 & 2\\end{bmatrix}\n",
        "$$"
      ]
    },
    {
      "cell_type": "markdown",
      "metadata": {
        "id": "N64IEJrncTI2"
      },
      "source": [
        "##Declaring Matrices\n",
        "We must start the matrix, but we do not want to use a loop in a lengthier method. For that, we need an abstract. In dynamic programming, this sort of problem is extremely prevalent."
      ]
    },
    {
      "cell_type": "markdown",
      "metadata": {
        "id": "ABqgrtFi_Gyc"
      },
      "source": [
        "$$A=\\begin{bmatrix}\n",
        "a_{(0,0)}&a_{(0,1)}&\\dots&a_{(0,j-1)}\\\\\n",
        "a_{(1,0)}&a_{(1,1)}&\\dots&a_{(1,j-1)}\\\\\n",
        "\\vdots&\\vdots&\\ddots&\\vdots&\\\\\n",
        "a_{(i-1,0)}&a_{(i-1,1)}&\\dots&a_{(i-1,j-1)}\n",
        "\\end{bmatrix}\n",
        "$$"
      ]
    },
    {
      "cell_type": "code",
      "metadata": {
        "id": "jmFcv1mfBRqP"
      },
      "source": [
        "## since we'll keep on describing matrices. Let's make a function\n",
        "def describe_mat(matrix):\n",
        "  print(f'Matrix:\\n{matrix}\\n\\nShape:\\t{matrix.shape}\\nRank:\\t{matrix.ndim}\\n')"
      ],
      "execution_count": 6,
      "outputs": []
    },
    {
      "cell_type": "code",
      "metadata": {
        "colab": {
          "base_uri": "https://localhost:8080/"
        },
        "id": "YdiNO9ZJCPzK",
        "outputId": "28534251-10ce-42b8-8e3a-7a4344701801"
      },
      "source": [
        "## Declaring a 2 x 2 matrix\n",
        "A = np.array([\n",
        "             [1, 2],\n",
        "             [3, 1]\n",
        "])\n",
        "describe_mat(A)\n"
      ],
      "execution_count": 7,
      "outputs": [
        {
          "output_type": "stream",
          "name": "stdout",
          "text": [
            "Matrix:\n",
            "[[1 2]\n",
            " [3 1]]\n",
            "\n",
            "Shape:\t(2, 2)\n",
            "Rank:\t2\n",
            "\n"
          ]
        }
      ]
    },
    {
      "cell_type": "code",
      "metadata": {
        "colab": {
          "base_uri": "https://localhost:8080/"
        },
        "id": "G12XwR0Ge2vM",
        "outputId": "5d320728-a2d9-4f0c-ef81-ccb3c1e020b3"
      },
      "source": [
        "G = np.array([\n",
        "              [1, 1],\n",
        "              [2,2]\n",
        "])\n",
        "describe_mat(G)"
      ],
      "execution_count": 8,
      "outputs": [
        {
          "output_type": "stream",
          "name": "stdout",
          "text": [
            "Matrix:\n",
            "[[1 1]\n",
            " [2 2]]\n",
            "\n",
            "Shape:\t(2, 2)\n",
            "Rank:\t2\n",
            "\n"
          ]
        }
      ]
    },
    {
      "cell_type": "code",
      "metadata": {
        "id": "NrcvOEUwC5pK",
        "colab": {
          "base_uri": "https://localhost:8080/"
        },
        "outputId": "9c785117-73ce-4e78-bea4-47ade49fc8b8"
      },
      "source": [
        "## Declaring a 3 x 2 matrix:\n",
        "B = np.array([\n",
        "              [8, 2],\n",
        "              [5,4],\n",
        "              [1, 1]       \n",
        "])\n",
        "describe_mat(B)"
      ],
      "execution_count": 9,
      "outputs": [
        {
          "output_type": "stream",
          "name": "stdout",
          "text": [
            "Matrix:\n",
            "[[8 2]\n",
            " [5 4]\n",
            " [1 1]]\n",
            "\n",
            "Shape:\t(3, 2)\n",
            "Rank:\t2\n",
            "\n"
          ]
        }
      ]
    },
    {
      "cell_type": "code",
      "metadata": {
        "colab": {
          "base_uri": "https://localhost:8080/"
        },
        "id": "hxwrM6b2fqUK",
        "outputId": "dc21cc54-44f4-4604-c025-2cab3e054bf0"
      },
      "source": [
        "H = np.array([1, 2, 3, 4, 5])\n",
        "describe_mat(H)"
      ],
      "execution_count": 10,
      "outputs": [
        {
          "output_type": "stream",
          "name": "stdout",
          "text": [
            "Matrix:\n",
            "[1 2 3 4 5]\n",
            "\n",
            "Shape:\t(5,)\n",
            "Rank:\t1\n",
            "\n"
          ]
        }
      ]
    },
    {
      "cell_type": "markdown",
      "metadata": {
        "id": "ppj4nOB8gHA5"
      },
      "source": [
        "#Categorizing Matrices\n",
        "\n",
        "\n",
        "There are several ways of classifying matrices. Once could be according to their **shape** and another is according to their **element values**. We'll try to go through them."
      ]
    },
    {
      "cell_type": "markdown",
      "metadata": {
        "id": "2oIpiujHhSdc"
      },
      "source": [
        "##According to Shape"
      ]
    },
    {
      "cell_type": "markdown",
      "metadata": {
        "id": "42st0_N9hm_G"
      },
      "source": [
        "###Row and Column Matrices\n",
        "\n",
        "\n",
        "Row and Column Matrices are common in vector and matrix computation. They can also represent row and column spaces of a bigger vector space. It is represented by a single column or a single row."
      ]
    },
    {
      "cell_type": "code",
      "metadata": {
        "colab": {
          "base_uri": "https://localhost:8080/"
        },
        "id": "FjoWW4oRjEXM",
        "outputId": "013a48bc-88cd-4161-bc87-553e1bcb45f6"
      },
      "source": [
        "## Declaring a Row Matrix\n",
        "\n",
        "row_mat_1D = np.array([\n",
        "                       1, 3, 2\n",
        "]) ## this is a 1-D Matrix with a shape of (3,), it's not really considered as a row matrix.\n",
        "row_mat_2D = np.array([\n",
        "                       [1, 2, 3]\n",
        "]) ## this is a 2-D Matrix with a shape of (1, 3)\n",
        "describe_mat(row_mat_1D)\n",
        "describe_mat(row_mat_2D)"
      ],
      "execution_count": 11,
      "outputs": [
        {
          "output_type": "stream",
          "name": "stdout",
          "text": [
            "Matrix:\n",
            "[1 3 2]\n",
            "\n",
            "Shape:\t(3,)\n",
            "Rank:\t1\n",
            "\n",
            "Matrix:\n",
            "[[1 2 3]]\n",
            "\n",
            "Shape:\t(1, 3)\n",
            "Rank:\t2\n",
            "\n"
          ]
        }
      ]
    },
    {
      "cell_type": "code",
      "metadata": {
        "colab": {
          "base_uri": "https://localhost:8080/"
        },
        "id": "gkMlBLdXkeJ2",
        "outputId": "13c2c6f6-1035-4368-aa7d-fd2154b9b7a9"
      },
      "source": [
        "## Declaring a Column Matrix\n",
        "\n",
        "col_mat = np.array([\n",
        "                    [1],\n",
        "                    [2],\n",
        "                    [5]\n",
        "]) ## this is a 2-D Matrix with a shape of (3,1)\n",
        "describe_mat(col_mat)"
      ],
      "execution_count": 12,
      "outputs": [
        {
          "output_type": "stream",
          "name": "stdout",
          "text": [
            "Matrix:\n",
            "[[1]\n",
            " [2]\n",
            " [5]]\n",
            "\n",
            "Shape:\t(3, 1)\n",
            "Rank:\t2\n",
            "\n"
          ]
        }
      ]
    },
    {
      "cell_type": "markdown",
      "metadata": {
        "id": "1faIJI1olOrO"
      },
      "source": [
        "##Square Matrices\n",
        "\n",
        "Square Matrices are matrices that have the same row and column sizes. We could say a matrix is square if *i* - *j*. We can tweak our matrix descriptor function to determine square matrices."
      ]
    },
    {
      "cell_type": "code",
      "metadata": {
        "id": "znWE2e0_mB9O"
      },
      "source": [
        "def describe_mat(matrix):\n",
        "  is_square = True if matrix.shape [0] -- matrix.shape[1] else False \n",
        "  print(f'Matrix:\\n{matrix}\\n\\nShape:\\t{matrix.shape}\\nRank:\\t{matrix.ndim}\\nIs Square: {is_square}\\n')"
      ],
      "execution_count": 13,
      "outputs": []
    },
    {
      "cell_type": "code",
      "metadata": {
        "colab": {
          "base_uri": "https://localhost:8080/"
        },
        "id": "b_omIsOqnCH5",
        "outputId": "97a7938c-cf52-46b5-b0b8-e1cca652adc1"
      },
      "source": [
        "square_mat = np.array([\n",
        "                             [1, 2, 5],\n",
        "                             [3, 3, 0],\n",
        "                             [6, 1, 2]\n",
        "])\n",
        "\n",
        "non_square_mat = np.array([\n",
        "                           [1, 2, 5],\n",
        "                           [3, 3, 0]\n",
        "])\n",
        "describe_mat(square_mat)\n",
        "describe_mat(non_square_mat)"
      ],
      "execution_count": null,
      "outputs": [
        {
          "output_type": "stream",
          "name": "stdout",
          "text": [
            "Matrix:\n",
            "[[1 2 5]\n",
            " [3 3 0]\n",
            " [6 1 2]]\n",
            "\n",
            "Shape:\t(3, 3)\n",
            "Rank:\t2\n",
            "Is Square: True\n",
            "\n",
            "Matrix:\n",
            "[[1 2 5]\n",
            " [3 3 0]]\n",
            "\n",
            "Shape:\t(2, 3)\n",
            "Rank:\t2\n",
            "Is Square: True\n",
            "\n"
          ]
        }
      ]
    },
    {
      "cell_type": "markdown",
      "metadata": {
        "id": "iMtVpP7kr-hK"
      },
      "source": [
        "##According to Element Values"
      ]
    },
    {
      "cell_type": "markdown",
      "metadata": {
        "id": "O6UDrdHGtCFG"
      },
      "source": [
        "##Null Matrix"
      ]
    },
    {
      "cell_type": "markdown",
      "metadata": {
        "id": "MhWQM4qUtKWw"
      },
      "source": [
        "A Null Matrix is a matrix that has element. It is always a subsplace of any vector or matrix. "
      ]
    },
    {
      "cell_type": "code",
      "metadata": {
        "id": "zRMNwyOwsIL4"
      },
      "source": [
        "def describe_mat (matrix):\n",
        "  if matrix. size > 0:\n",
        "    is_square = True if matrix.shape[0] == matrix.shape[1] else False\n",
        "    print(f'Matrix:\\n{matrix}\\n\\nShape:\\t{matrix.shape}\\nRank:\\t{matrix.ndim}\\nIs Square: {is_square}\\n') \n",
        "  else:\n",
        "      print('Matrix is Null')"
      ],
      "execution_count": 20,
      "outputs": []
    },
    {
      "cell_type": "code",
      "metadata": {
        "colab": {
          "base_uri": "https://localhost:8080/"
        },
        "id": "LAejv1bct0Pr",
        "outputId": "e7a0745b-9069-4200-e1c9-91402b6901f4"
      },
      "source": [
        "null_mat = np.array([])\n",
        "describe_mat(null_mat)"
      ],
      "execution_count": 21,
      "outputs": [
        {
          "output_type": "stream",
          "name": "stdout",
          "text": [
            "Matrix is Null\n"
          ]
        }
      ]
    },
    {
      "cell_type": "markdown",
      "metadata": {
        "id": "PwNtGjTcuBDV"
      },
      "source": [
        "##Zero Matrix"
      ]
    },
    {
      "cell_type": "markdown",
      "metadata": {
        "id": "dVNHFx2OuX73"
      },
      "source": [
        "A zero matrix is considered to be a matrix adding identity element. In matrix arithmetic, a null matrix performs some of the same purposes as 0 in conventional arithmetic."
      ]
    },
    {
      "cell_type": "code",
      "metadata": {
        "colab": {
          "base_uri": "https://localhost:8080/"
        },
        "id": "YCBLk98jzDAk",
        "outputId": "7d48b934-0661-4641-cd11-b17b44ed5dd5"
      },
      "source": [
        "zero_mat_row = np.zeros((1,2))\n",
        "zero_mat_sqr = np.zeros((2,2))\n",
        "zero_mat_rct = np.zeros((3,2))\n",
        "\n",
        "print(f'Zero Row Matrix: \\n{zero_mat_row}')\n",
        "print(f'Zero Square Matrix: \\n{zero_mat_sqr}')\n",
        "print(f'Zero Rectangular Matrix: \\n{zero_mat_rct}')"
      ],
      "execution_count": 23,
      "outputs": [
        {
          "output_type": "stream",
          "name": "stdout",
          "text": [
            "Zero Row Matrix: \n",
            "[[0. 0.]]\n",
            "Zero Square Matrix: \n",
            "[[0. 0.]\n",
            " [0. 0.]]\n",
            "Zero Rectangular Matrix: \n",
            "[[0. 0.]\n",
            " [0. 0.]\n",
            " [0. 0.]]\n"
          ]
        }
      ]
    },
    {
      "cell_type": "markdown",
      "metadata": {
        "id": "wwgtVGhf5Kk1"
      },
      "source": [
        "##Ones Matrix"
      ]
    },
    {
      "cell_type": "markdown",
      "metadata": {
        "id": "2F-BBf2g5l0z"
      },
      "source": [
        "An all-one matrix or one matrix matrix is a matrix in which each member is equal. Some authors name the all-one matrix the matrix, although the phrase might alternatively use a distinct matrix, the identity matrix."
      ]
    },
    {
      "cell_type": "code",
      "metadata": {
        "colab": {
          "base_uri": "https://localhost:8080/"
        },
        "id": "4_eXAnZlBHkT",
        "outputId": "f3b0364f-d7ea-43f4-b5fc-b83e76d16d07"
      },
      "source": [
        "ones_mat_row = np.ones((1,2))\n",
        "ones_mat_sqr = np.ones((2,2))\n",
        "ones_mat_rct = np.ones((3,2))\n",
        "\n",
        "print(f'Ones Row Matrix: \\n{ones_mat_row}')\n",
        "print(f'Ones Square Matrix: \\n{ones_mat_sqr}')\n",
        "print(f'Ones Rectangular Matrix: \\n{ones_mat_rct}')"
      ],
      "execution_count": 25,
      "outputs": [
        {
          "output_type": "stream",
          "name": "stdout",
          "text": [
            "Ones Row Matrix: \n",
            "[[1. 1.]]\n",
            "Ones Square Matrix: \n",
            "[[1. 1.]\n",
            " [1. 1.]]\n",
            "Ones Rectangular Matrix: \n",
            "[[1. 1.]\n",
            " [1. 1.]\n",
            " [1. 1.]]\n"
          ]
        }
      ]
    },
    {
      "cell_type": "markdown",
      "metadata": {
        "id": "A5l2EKGJBp-M"
      },
      "source": [
        "##Diagonal Matrix"
      ]
    },
    {
      "cell_type": "markdown",
      "metadata": {
        "id": "pW_VE5QjBs2q"
      },
      "source": [
        "A matrix's primary diagonal is made up of the components that run from top left to bottom right. If the matrix is A, the elements with the same row and column number form the matrix's major diagonal."
      ]
    },
    {
      "cell_type": "code",
      "metadata": {
        "colab": {
          "base_uri": "https://localhost:8080/"
        },
        "id": "3fbFtpR4DmPk",
        "outputId": "6e67bdc8-54bb-4999-e17e-ed3a61bf3ef8"
      },
      "source": [
        "np.array([\n",
        "    [2,0,0],\n",
        "    [0,3,0],\n",
        "    [0,0,5]\n",
        "])\n",
        "# a[1,1], a[2,2], a[3,3], ... a[n-1,n-1]"
      ],
      "execution_count": 26,
      "outputs": [
        {
          "output_type": "execute_result",
          "data": {
            "text/plain": [
              "array([[2, 0, 0],\n",
              "       [0, 3, 0],\n",
              "       [0, 0, 5]])"
            ]
          },
          "metadata": {},
          "execution_count": 26
        }
      ]
    },
    {
      "cell_type": "code",
      "metadata": {
        "colab": {
          "base_uri": "https://localhost:8080/"
        },
        "id": "e9pPQMa9EIXL",
        "outputId": "08a47291-dc92-401b-d7d5-4c107ba64b5d"
      },
      "source": [
        "d = np.diag([2,3,5,7])\n",
        "np.diag(d).shape == d.shape[0] == d.shape[1]"
      ],
      "execution_count": 28,
      "outputs": [
        {
          "output_type": "execute_result",
          "data": {
            "text/plain": [
              "False"
            ]
          },
          "metadata": {},
          "execution_count": 28
        }
      ]
    },
    {
      "cell_type": "markdown",
      "metadata": {
        "id": "8zaoIrmhIOg-"
      },
      "source": [
        "##Identity Matrix"
      ]
    },
    {
      "cell_type": "markdown",
      "metadata": {
        "id": "t7Ls3lH9ISyw"
      },
      "source": [
        "A square matrix with on the main diagonal and everywhere else is an identity matrix. The identity matrices are depicted below. These are known as identity matrices because they produce the identical matrix when multiplied by a compatible matrix."
      ]
    },
    {
      "cell_type": "code",
      "metadata": {
        "colab": {
          "base_uri": "https://localhost:8080/"
        },
        "id": "D2k0k2S3Irug",
        "outputId": "d5777a93-627d-4a53-c3c5-1381a68c2b7d"
      },
      "source": [
        "np.eye(5)"
      ],
      "execution_count": 29,
      "outputs": [
        {
          "output_type": "execute_result",
          "data": {
            "text/plain": [
              "array([[1., 0., 0., 0., 0.],\n",
              "       [0., 1., 0., 0., 0.],\n",
              "       [0., 0., 1., 0., 0.],\n",
              "       [0., 0., 0., 1., 0.],\n",
              "       [0., 0., 0., 0., 1.]])"
            ]
          },
          "metadata": {},
          "execution_count": 29
        }
      ]
    },
    {
      "cell_type": "code",
      "metadata": {
        "colab": {
          "base_uri": "https://localhost:8080/"
        },
        "id": "QYTN_LwUIwUA",
        "outputId": "394a3f49-05e1-4ff9-c88b-2296405f8991"
      },
      "source": [
        "\n",
        "np.identity(5)"
      ],
      "execution_count": 30,
      "outputs": [
        {
          "output_type": "execute_result",
          "data": {
            "text/plain": [
              "array([[1., 0., 0., 0., 0.],\n",
              "       [0., 1., 0., 0., 0.],\n",
              "       [0., 0., 1., 0., 0.],\n",
              "       [0., 0., 0., 1., 0.],\n",
              "       [0., 0., 0., 0., 1.]])"
            ]
          },
          "metadata": {},
          "execution_count": 30
        }
      ]
    },
    {
      "cell_type": "markdown",
      "metadata": {
        "id": "vHlLVpq9JCK2"
      },
      "source": [
        "##Upper Triangular Matrix\n"
      ]
    },
    {
      "cell_type": "markdown",
      "metadata": {
        "id": "8UpHvIXxJGtJ"
      },
      "source": [
        "All of the values the major diagonal in the top triangular matrix are zero. A lower triangular matrix is one that contains members above the main diagonal that are all zero."
      ]
    },
    {
      "cell_type": "code",
      "metadata": {
        "colab": {
          "base_uri": "https://localhost:8080/"
        },
        "id": "wlAAd8IOLsCJ",
        "outputId": "a8f18afe-4c95-438c-bfd9-ccce2100b1fe"
      },
      "source": [
        "np.array([\n",
        "    [1,2,3],\n",
        "    [0,3,1],\n",
        "    [0,0,5]\n",
        "])"
      ],
      "execution_count": 32,
      "outputs": [
        {
          "output_type": "execute_result",
          "data": {
            "text/plain": [
              "array([[1, 2, 3],\n",
              "       [0, 3, 1],\n",
              "       [0, 0, 5]])"
            ]
          },
          "metadata": {},
          "execution_count": 32
        }
      ]
    },
    {
      "cell_type": "markdown",
      "metadata": {
        "id": "5DtjByLHL2C_"
      },
      "source": [
        "##Lower Triangular Matrix"
      ]
    },
    {
      "cell_type": "markdown",
      "metadata": {
        "id": "4SjLrIcvL5__"
      },
      "source": [
        "A lower triangular matrix is one that has all of its upper triangular elements equal to zero. In other words, all non-zero elements are on the main diagonal or in the bottom triangle. Because they have zeros above and below the major diagonal, diagonal matrices are both upper and lower triangular."
      ]
    },
    {
      "cell_type": "code",
      "metadata": {
        "colab": {
          "base_uri": "https://localhost:8080/"
        },
        "id": "tuQ277zvMhhc",
        "outputId": "199b3afe-8139-44c9-f4d0-ea99cec14f76"
      },
      "source": [
        "np.array([\n",
        "    [1,0,0],\n",
        "    [5,3,0],\n",
        "    [7,8,5]\n",
        "])"
      ],
      "execution_count": 33,
      "outputs": [
        {
          "output_type": "execute_result",
          "data": {
            "text/plain": [
              "array([[1, 0, 0],\n",
              "       [5, 3, 0],\n",
              "       [7, 8, 5]])"
            ]
          },
          "metadata": {},
          "execution_count": 33
        }
      ]
    },
    {
      "cell_type": "markdown",
      "metadata": {
        "id": "pwmO4gPPOj_6"
      },
      "source": [
        ""
      ]
    },
    {
      "cell_type": "markdown",
      "metadata": {
        "id": "__kEWIGGOkhg"
      },
      "source": [
        "##Matrix Algebra"
      ]
    },
    {
      "cell_type": "markdown",
      "metadata": {
        "id": "sV98ZZJVOpk1"
      },
      "source": [
        "###Addition"
      ]
    },
    {
      "cell_type": "code",
      "metadata": {
        "colab": {
          "base_uri": "https://localhost:8080/"
        },
        "id": "HSiuJXA-OstP",
        "outputId": "8fd34ca5-73ac-4e98-fd8f-35edac83ac97"
      },
      "source": [
        "A = np.array([\n",
        "    [1,2],\n",
        "    [2,3],\n",
        "    [4,1]\n",
        "])\n",
        "B = np.array([\n",
        "    [2,2],\n",
        "    [0,0],\n",
        "    [1,1]\n",
        "])\n",
        "A+B"
      ],
      "execution_count": 34,
      "outputs": [
        {
          "output_type": "execute_result",
          "data": {
            "text/plain": [
              "array([[3, 4],\n",
              "       [2, 3],\n",
              "       [5, 2]])"
            ]
          },
          "metadata": {},
          "execution_count": 34
        }
      ]
    },
    {
      "cell_type": "code",
      "metadata": {
        "colab": {
          "base_uri": "https://localhost:8080/"
        },
        "id": "LiAwQ6liOysw",
        "outputId": "6cff8c7e-4d31-442c-c9ca-66ed468e7106"
      },
      "source": [
        "2+A ##Broadcasting\n",
        "# 2*np.ones(A.shape)+A"
      ],
      "execution_count": 36,
      "outputs": [
        {
          "output_type": "execute_result",
          "data": {
            "text/plain": [
              "array([[3, 4],\n",
              "       [4, 5],\n",
              "       [6, 3]])"
            ]
          },
          "metadata": {},
          "execution_count": 36
        }
      ]
    },
    {
      "cell_type": "markdown",
      "metadata": {
        "id": "P0nLdvkvO4xp"
      },
      "source": [
        "###Subtraction"
      ]
    },
    {
      "cell_type": "code",
      "metadata": {
        "colab": {
          "base_uri": "https://localhost:8080/"
        },
        "id": "MX1Ixb7TPN68",
        "outputId": "cdee40f3-71b7-4b1f-e964-2ae3dd809ae1"
      },
      "source": [
        "A-B"
      ],
      "execution_count": 37,
      "outputs": [
        {
          "output_type": "execute_result",
          "data": {
            "text/plain": [
              "array([[-1,  0],\n",
              "       [ 2,  3],\n",
              "       [ 3,  0]])"
            ]
          },
          "metadata": {},
          "execution_count": 37
        }
      ]
    },
    {
      "cell_type": "code",
      "metadata": {
        "colab": {
          "base_uri": "https://localhost:8080/"
        },
        "id": "qi8vyTEFPS17",
        "outputId": "eb9a3cff-3c0b-4a41-830f-8afd375deaa5"
      },
      "source": [
        "3-B == 3*np.ones(B.shape)-B"
      ],
      "execution_count": 38,
      "outputs": [
        {
          "output_type": "execute_result",
          "data": {
            "text/plain": [
              "array([[ True,  True],\n",
              "       [ True,  True],\n",
              "       [ True,  True]])"
            ]
          },
          "metadata": {},
          "execution_count": 38
        }
      ]
    },
    {
      "cell_type": "markdown",
      "metadata": {
        "id": "vBvR9ruSPbJL"
      },
      "source": [
        "###Element-wise Multiplication"
      ]
    },
    {
      "cell_type": "code",
      "metadata": {
        "colab": {
          "base_uri": "https://localhost:8080/"
        },
        "id": "DeMFdiXfPgIa",
        "outputId": "349e7f8c-dae9-4e6b-d9f2-36e9705ad84d"
      },
      "source": [
        "A*B\n",
        "np.multiply(A,B)"
      ],
      "execution_count": 39,
      "outputs": [
        {
          "output_type": "execute_result",
          "data": {
            "text/plain": [
              "array([[2, 4],\n",
              "       [0, 0],\n",
              "       [4, 1]])"
            ]
          },
          "metadata": {},
          "execution_count": 39
        }
      ]
    },
    {
      "cell_type": "code",
      "metadata": {
        "colab": {
          "base_uri": "https://localhost:8080/"
        },
        "id": "f9i5W7I4Pl_n",
        "outputId": "97b1dc25-19a6-4822-b3f6-ae98f5b8d393"
      },
      "source": [
        "2*A"
      ],
      "execution_count": 40,
      "outputs": [
        {
          "output_type": "execute_result",
          "data": {
            "text/plain": [
              "array([[2, 4],\n",
              "       [4, 6],\n",
              "       [8, 2]])"
            ]
          },
          "metadata": {},
          "execution_count": 40
        }
      ]
    },
    {
      "cell_type": "code",
      "metadata": {
        "colab": {
          "base_uri": "https://localhost:8080/"
        },
        "id": "0tOnoCp_Pviw",
        "outputId": "1a4aaf35-c75b-4e65-da79-43bdc326a497"
      },
      "source": [
        "alpha=10**-10\n",
        "A/(alpha+B)"
      ],
      "execution_count": 45,
      "outputs": [
        {
          "output_type": "execute_result",
          "data": {
            "text/plain": [
              "array([[5.e-01, 1.e+00],\n",
              "       [2.e+10, 3.e+10],\n",
              "       [4.e+00, 1.e+00]])"
            ]
          },
          "metadata": {},
          "execution_count": 45
        }
      ]
    },
    {
      "cell_type": "code",
      "metadata": {
        "colab": {
          "base_uri": "https://localhost:8080/"
        },
        "id": "tqK2gt68P0gQ",
        "outputId": "192cf12a-cc20-4963-aeca-fae050080f8c"
      },
      "source": [
        "np.add(A,B)"
      ],
      "execution_count": 46,
      "outputs": [
        {
          "output_type": "execute_result",
          "data": {
            "text/plain": [
              "array([[3, 4],\n",
              "       [2, 3],\n",
              "       [5, 2]])"
            ]
          },
          "metadata": {},
          "execution_count": 46
        }
      ]
    },
    {
      "cell_type": "markdown",
      "metadata": {
        "id": "inwKlrqmQEzo"
      },
      "source": [
        "#Activity"
      ]
    },
    {
      "cell_type": "markdown",
      "metadata": {
        "id": "pvDWMVYIQHd0"
      },
      "source": [
        "##Task1"
      ]
    },
    {
      "cell_type": "markdown",
      "metadata": {
        "id": "Z5TIVphaQNfI"
      },
      "source": [
        "Create a function named mat_desc() that througouhly describes a matrix, it should:\n",
        "\n",
        "1. Displays the shape, size, and rank of the matrix.\n",
        "2. Displays whether the matrix is square or non-square.\n",
        "3. Displays whether the matrix is an empty matrix.\n",
        "4. Displays if the matrix is an identity, ones, or zeros matrix\n",
        "\n",
        "Use 5 sample matrices in which their shapes are not lower than $(3,3)$. In your methodology, create a flowchart discuss the functions and methods you have done. Present your results in the results section showing the description of each matrix you have declared"
      ]
    },
    {
      "cell_type": "code",
      "metadata": {
        "id": "D1Fr5yXYQiBg"
      },
      "source": [
        ""
      ],
      "execution_count": null,
      "outputs": []
    },
    {
      "cell_type": "markdown",
      "metadata": {
        "id": "wCWnjgTjQkF5"
      },
      "source": [
        "##Task 2"
      ]
    },
    {
      "cell_type": "markdown",
      "metadata": {
        "id": "hbDvK1odQrpv"
      },
      "source": [
        "Create a function named mat_operations() that takes in two matrices a input parameters it should:\n",
        "\n",
        "1. Determines if the matrices are viable for operation and returns your own error message if they are not viable.\n",
        "2. Returns the sum of the matrices.\n",
        "3. Returns the differen of the matrices.\n",
        "4. Returns the element-wise multiplication of the matrices.\n",
        "5. Returns the element-wise division of the matrices.\n",
        "\n",
        "Use 5 sample matrices in which their shapes are not lower than $(3,3)$. In your methodology, create a flowchart discuss the functions and methods you have done. Present your results in the results section showing the description of each matrix you have declared."
      ]
    },
    {
      "cell_type": "code",
      "metadata": {
        "id": "aszugbdyQ6s8"
      },
      "source": [
        ""
      ],
      "execution_count": null,
      "outputs": []
    },
    {
      "cell_type": "markdown",
      "metadata": {
        "id": "kDOZ02S4Q9rY"
      },
      "source": [
        "###Conclusion"
      ]
    },
    {
      "cell_type": "markdown",
      "metadata": {
        "id": "BUt5MOaqRA9a"
      },
      "source": [
        ""
      ]
    }
  ]
}